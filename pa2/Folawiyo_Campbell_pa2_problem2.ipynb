{
  "nbformat": 4,
  "nbformat_minor": 0,
  "metadata": {
    "colab": {
      "name": "Folawiyo_Campbell_pa2_problem2.ipynb",
      "provenance": [],
      "collapsed_sections": [],
      "toc_visible": true
    },
    "kernelspec": {
      "name": "python3",
      "display_name": "Python 3"
    }
  },
  "cells": [
    {
      "cell_type": "code",
      "metadata": {
        "id": "o0Rgmm6XnrhJ"
      },
      "source": [
        "import numpy as np\n",
        "import sklearn as sk\n",
        "import pandas as pd\n",
        "import seaborn as sns\n",
        "import scipy as scp\n",
        "import matplotlib.pyplot as plt\n",
        "import math\n",
        "\n",
        "from sklearn.decomposition import PCA"
      ],
      "execution_count": 134,
      "outputs": []
    },
    {
      "cell_type": "markdown",
      "metadata": {
        "id": "di03nQG0eQeb"
      },
      "source": [
        "# **Part 1: Data Cleansing**"
      ]
    },
    {
      "cell_type": "markdown",
      "metadata": {
        "id": "DPpC9ywhuSgB"
      },
      "source": [
        "Read the unclean iris data set provided."
      ]
    },
    {
      "cell_type": "code",
      "metadata": {
        "id": "JwQiYQ0qePJj"
      },
      "source": [
        "iris_data_unclean = pd.read_csv('/content/drive/My Drive/Colab Notebooks/EN605.621/pa2/iris_6_features_for_cleansing.csv')"
      ],
      "execution_count": 3,
      "outputs": []
    },
    {
      "cell_type": "code",
      "metadata": {
        "colab": {
          "base_uri": "https://localhost:8080/",
          "height": 204
        },
        "id": "clHEu9gUevBQ",
        "outputId": "9b4ea11e-5383-4838-c7d7-4efa9a01d37a"
      },
      "source": [
        "iris_data_unclean.head()"
      ],
      "execution_count": 4,
      "outputs": [
        {
          "output_type": "execute_result",
          "data": {
            "text/html": [
              "<div>\n",
              "<style scoped>\n",
              "    .dataframe tbody tr th:only-of-type {\n",
              "        vertical-align: middle;\n",
              "    }\n",
              "\n",
              "    .dataframe tbody tr th {\n",
              "        vertical-align: top;\n",
              "    }\n",
              "\n",
              "    .dataframe thead th {\n",
              "        text-align: right;\n",
              "    }\n",
              "</style>\n",
              "<table border=\"1\" class=\"dataframe\">\n",
              "  <thead>\n",
              "    <tr style=\"text-align: right;\">\n",
              "      <th></th>\n",
              "      <th>sepal length</th>\n",
              "      <th>sepal width</th>\n",
              "      <th>petal length</th>\n",
              "      <th>petal width</th>\n",
              "      <th>New Feature 1</th>\n",
              "      <th>New Feature 2</th>\n",
              "      <th>class</th>\n",
              "    </tr>\n",
              "  </thead>\n",
              "  <tbody>\n",
              "    <tr>\n",
              "      <th>0</th>\n",
              "      <td>5.1</td>\n",
              "      <td>3.5</td>\n",
              "      <td>1.4</td>\n",
              "      <td>0.2</td>\n",
              "      <td>1.611281</td>\n",
              "      <td>2.981148</td>\n",
              "      <td>1</td>\n",
              "    </tr>\n",
              "    <tr>\n",
              "      <th>1</th>\n",
              "      <td>4.9</td>\n",
              "      <td>3.0</td>\n",
              "      <td>1.4</td>\n",
              "      <td>0.2</td>\n",
              "      <td>1.295847</td>\n",
              "      <td>2.210908</td>\n",
              "      <td>1</td>\n",
              "    </tr>\n",
              "    <tr>\n",
              "      <th>2</th>\n",
              "      <td>4.7</td>\n",
              "      <td>NaN</td>\n",
              "      <td>1.3</td>\n",
              "      <td>0.2</td>\n",
              "      <td>1.685578</td>\n",
              "      <td>3.114562</td>\n",
              "      <td>1</td>\n",
              "    </tr>\n",
              "    <tr>\n",
              "      <th>3</th>\n",
              "      <td>4.6</td>\n",
              "      <td>3.1</td>\n",
              "      <td>1.5</td>\n",
              "      <td>0.2</td>\n",
              "      <td>1.546064</td>\n",
              "      <td>2.714977</td>\n",
              "      <td>1</td>\n",
              "    </tr>\n",
              "    <tr>\n",
              "      <th>4</th>\n",
              "      <td>5.0</td>\n",
              "      <td>3.6</td>\n",
              "      <td>1.4</td>\n",
              "      <td>0.2</td>\n",
              "      <td>1.501464</td>\n",
              "      <td>2.815603</td>\n",
              "      <td>1</td>\n",
              "    </tr>\n",
              "  </tbody>\n",
              "</table>\n",
              "</div>"
            ],
            "text/plain": [
              "   sepal length  sepal width  petal length  ...  New Feature 1  New Feature 2  class\n",
              "0           5.1          3.5           1.4  ...       1.611281       2.981148      1\n",
              "1           4.9          3.0           1.4  ...       1.295847       2.210908      1\n",
              "2           4.7          NaN           1.3  ...       1.685578       3.114562      1\n",
              "3           4.6          3.1           1.5  ...       1.546064       2.714977      1\n",
              "4           5.0          3.6           1.4  ...       1.501464       2.815603      1\n",
              "\n",
              "[5 rows x 7 columns]"
            ]
          },
          "metadata": {
            "tags": []
          },
          "execution_count": 4
        }
      ]
    },
    {
      "cell_type": "code",
      "metadata": {
        "colab": {
          "base_uri": "https://localhost:8080/",
          "height": 297
        },
        "id": "A5h53xmnunXp",
        "outputId": "4be9a414-4d74-478e-dc50-f8f4972bb2df"
      },
      "source": [
        "iris_data_unclean.describe()"
      ],
      "execution_count": 5,
      "outputs": [
        {
          "output_type": "execute_result",
          "data": {
            "text/html": [
              "<div>\n",
              "<style scoped>\n",
              "    .dataframe tbody tr th:only-of-type {\n",
              "        vertical-align: middle;\n",
              "    }\n",
              "\n",
              "    .dataframe tbody tr th {\n",
              "        vertical-align: top;\n",
              "    }\n",
              "\n",
              "    .dataframe thead th {\n",
              "        text-align: right;\n",
              "    }\n",
              "</style>\n",
              "<table border=\"1\" class=\"dataframe\">\n",
              "  <thead>\n",
              "    <tr style=\"text-align: right;\">\n",
              "      <th></th>\n",
              "      <th>sepal length</th>\n",
              "      <th>sepal width</th>\n",
              "      <th>petal length</th>\n",
              "      <th>petal width</th>\n",
              "      <th>New Feature 1</th>\n",
              "      <th>New Feature 2</th>\n",
              "      <th>class</th>\n",
              "    </tr>\n",
              "  </thead>\n",
              "  <tbody>\n",
              "    <tr>\n",
              "      <th>count</th>\n",
              "      <td>147.000000</td>\n",
              "      <td>147.000000</td>\n",
              "      <td>147.000000</td>\n",
              "      <td>149.000000</td>\n",
              "      <td>148.000000</td>\n",
              "      <td>148.000000</td>\n",
              "      <td>150.000000</td>\n",
              "    </tr>\n",
              "    <tr>\n",
              "      <th>mean</th>\n",
              "      <td>5.845578</td>\n",
              "      <td>3.053741</td>\n",
              "      <td>3.751701</td>\n",
              "      <td>1.205369</td>\n",
              "      <td>1.375071</td>\n",
              "      <td>3.523958</td>\n",
              "      <td>2.000000</td>\n",
              "    </tr>\n",
              "    <tr>\n",
              "      <th>std</th>\n",
              "      <td>0.834958</td>\n",
              "      <td>0.437188</td>\n",
              "      <td>1.760151</td>\n",
              "      <td>0.761292</td>\n",
              "      <td>0.135347</td>\n",
              "      <td>0.900837</td>\n",
              "      <td>0.819232</td>\n",
              "    </tr>\n",
              "    <tr>\n",
              "      <th>min</th>\n",
              "      <td>4.300000</td>\n",
              "      <td>2.000000</td>\n",
              "      <td>1.000000</td>\n",
              "      <td>0.100000</td>\n",
              "      <td>1.120668</td>\n",
              "      <td>1.976229</td>\n",
              "      <td>1.000000</td>\n",
              "    </tr>\n",
              "    <tr>\n",
              "      <th>25%</th>\n",
              "      <td>5.100000</td>\n",
              "      <td>2.800000</td>\n",
              "      <td>1.600000</td>\n",
              "      <td>0.300000</td>\n",
              "      <td>1.270109</td>\n",
              "      <td>2.745057</td>\n",
              "      <td>1.000000</td>\n",
              "    </tr>\n",
              "    <tr>\n",
              "      <th>50%</th>\n",
              "      <td>5.800000</td>\n",
              "      <td>3.000000</td>\n",
              "      <td>4.300000</td>\n",
              "      <td>1.300000</td>\n",
              "      <td>1.382528</td>\n",
              "      <td>3.441192</td>\n",
              "      <td>2.000000</td>\n",
              "    </tr>\n",
              "    <tr>\n",
              "      <th>75%</th>\n",
              "      <td>6.400000</td>\n",
              "      <td>3.300000</td>\n",
              "      <td>5.100000</td>\n",
              "      <td>1.800000</td>\n",
              "      <td>1.473925</td>\n",
              "      <td>4.364670</td>\n",
              "      <td>3.000000</td>\n",
              "    </tr>\n",
              "    <tr>\n",
              "      <th>max</th>\n",
              "      <td>7.900000</td>\n",
              "      <td>4.400000</td>\n",
              "      <td>6.900000</td>\n",
              "      <td>2.500000</td>\n",
              "      <td>1.685578</td>\n",
              "      <td>5.104838</td>\n",
              "      <td>3.000000</td>\n",
              "    </tr>\n",
              "  </tbody>\n",
              "</table>\n",
              "</div>"
            ],
            "text/plain": [
              "       sepal length  sepal width  ...  New Feature 2       class\n",
              "count    147.000000   147.000000  ...     148.000000  150.000000\n",
              "mean       5.845578     3.053741  ...       3.523958    2.000000\n",
              "std        0.834958     0.437188  ...       0.900837    0.819232\n",
              "min        4.300000     2.000000  ...       1.976229    1.000000\n",
              "25%        5.100000     2.800000  ...       2.745057    1.000000\n",
              "50%        5.800000     3.000000  ...       3.441192    2.000000\n",
              "75%        6.400000     3.300000  ...       4.364670    3.000000\n",
              "max        7.900000     4.400000  ...       5.104838    3.000000\n",
              "\n",
              "[8 rows x 7 columns]"
            ]
          },
          "metadata": {
            "tags": []
          },
          "execution_count": 5
        }
      ]
    },
    {
      "cell_type": "markdown",
      "metadata": {
        "id": "rCar8NHUuyAQ"
      },
      "source": [
        "Values seem to be in good magnitude comapared to each other and do not need scaling. Looks like there are missing values in all features and might need to some imputing. After imputing we shall check if there are duplicates."
      ]
    },
    {
      "cell_type": "markdown",
      "metadata": {
        "id": "EsY9TME6kXND"
      },
      "source": [
        "Check if there are null values for each feature\n"
      ]
    },
    {
      "cell_type": "code",
      "metadata": {
        "colab": {
          "base_uri": "https://localhost:8080/",
          "height": 142
        },
        "id": "JyItWZHDfGbX",
        "outputId": "c358fab5-74eb-42ea-e622-92ace3dce23a"
      },
      "source": [
        "iris_data_unclean[iris_data_unclean['sepal length'].isnull()]"
      ],
      "execution_count": 6,
      "outputs": [
        {
          "output_type": "execute_result",
          "data": {
            "text/html": [
              "<div>\n",
              "<style scoped>\n",
              "    .dataframe tbody tr th:only-of-type {\n",
              "        vertical-align: middle;\n",
              "    }\n",
              "\n",
              "    .dataframe tbody tr th {\n",
              "        vertical-align: top;\n",
              "    }\n",
              "\n",
              "    .dataframe thead th {\n",
              "        text-align: right;\n",
              "    }\n",
              "</style>\n",
              "<table border=\"1\" class=\"dataframe\">\n",
              "  <thead>\n",
              "    <tr style=\"text-align: right;\">\n",
              "      <th></th>\n",
              "      <th>sepal length</th>\n",
              "      <th>sepal width</th>\n",
              "      <th>petal length</th>\n",
              "      <th>petal width</th>\n",
              "      <th>New Feature 1</th>\n",
              "      <th>New Feature 2</th>\n",
              "      <th>class</th>\n",
              "    </tr>\n",
              "  </thead>\n",
              "  <tbody>\n",
              "    <tr>\n",
              "      <th>31</th>\n",
              "      <td>NaN</td>\n",
              "      <td>3.4</td>\n",
              "      <td>1.5</td>\n",
              "      <td>0.4</td>\n",
              "      <td>1.582770</td>\n",
              "      <td>2.916998</td>\n",
              "      <td>1</td>\n",
              "    </tr>\n",
              "    <tr>\n",
              "      <th>94</th>\n",
              "      <td>NaN</td>\n",
              "      <td>2.7</td>\n",
              "      <td>4.2</td>\n",
              "      <td>1.3</td>\n",
              "      <td>1.324864</td>\n",
              "      <td>3.313255</td>\n",
              "      <td>2</td>\n",
              "    </tr>\n",
              "    <tr>\n",
              "      <th>148</th>\n",
              "      <td>NaN</td>\n",
              "      <td>3.4</td>\n",
              "      <td>5.4</td>\n",
              "      <td>2.3</td>\n",
              "      <td>1.131173</td>\n",
              "      <td>4.027495</td>\n",
              "      <td>3</td>\n",
              "    </tr>\n",
              "  </tbody>\n",
              "</table>\n",
              "</div>"
            ],
            "text/plain": [
              "     sepal length  sepal width  ...  New Feature 2  class\n",
              "31            NaN          3.4  ...       2.916998      1\n",
              "94            NaN          2.7  ...       3.313255      2\n",
              "148           NaN          3.4  ...       4.027495      3\n",
              "\n",
              "[3 rows x 7 columns]"
            ]
          },
          "metadata": {
            "tags": []
          },
          "execution_count": 6
        }
      ]
    },
    {
      "cell_type": "code",
      "metadata": {
        "colab": {
          "base_uri": "https://localhost:8080/",
          "height": 142
        },
        "id": "hlKdMJN7fwD0",
        "outputId": "df41e5c5-1ce6-4df8-ec7c-83e933fcdbe0"
      },
      "source": [
        "iris_data_unclean[iris_data_unclean['sepal width'].isnull()]"
      ],
      "execution_count": 7,
      "outputs": [
        {
          "output_type": "execute_result",
          "data": {
            "text/html": [
              "<div>\n",
              "<style scoped>\n",
              "    .dataframe tbody tr th:only-of-type {\n",
              "        vertical-align: middle;\n",
              "    }\n",
              "\n",
              "    .dataframe tbody tr th {\n",
              "        vertical-align: top;\n",
              "    }\n",
              "\n",
              "    .dataframe thead th {\n",
              "        text-align: right;\n",
              "    }\n",
              "</style>\n",
              "<table border=\"1\" class=\"dataframe\">\n",
              "  <thead>\n",
              "    <tr style=\"text-align: right;\">\n",
              "      <th></th>\n",
              "      <th>sepal length</th>\n",
              "      <th>sepal width</th>\n",
              "      <th>petal length</th>\n",
              "      <th>petal width</th>\n",
              "      <th>New Feature 1</th>\n",
              "      <th>New Feature 2</th>\n",
              "      <th>class</th>\n",
              "    </tr>\n",
              "  </thead>\n",
              "  <tbody>\n",
              "    <tr>\n",
              "      <th>2</th>\n",
              "      <td>4.7</td>\n",
              "      <td>NaN</td>\n",
              "      <td>1.3</td>\n",
              "      <td>0.2</td>\n",
              "      <td>1.685578</td>\n",
              "      <td>3.114562</td>\n",
              "      <td>1</td>\n",
              "    </tr>\n",
              "    <tr>\n",
              "      <th>51</th>\n",
              "      <td>6.4</td>\n",
              "      <td>NaN</td>\n",
              "      <td>4.5</td>\n",
              "      <td>1.5</td>\n",
              "      <td>1.473090</td>\n",
              "      <td>3.815652</td>\n",
              "      <td>2</td>\n",
              "    </tr>\n",
              "    <tr>\n",
              "      <th>132</th>\n",
              "      <td>6.4</td>\n",
              "      <td>NaN</td>\n",
              "      <td>5.6</td>\n",
              "      <td>2.2</td>\n",
              "      <td>1.150044</td>\n",
              "      <td>4.053020</td>\n",
              "      <td>3</td>\n",
              "    </tr>\n",
              "  </tbody>\n",
              "</table>\n",
              "</div>"
            ],
            "text/plain": [
              "     sepal length  sepal width  ...  New Feature 2  class\n",
              "2             4.7          NaN  ...       3.114562      1\n",
              "51            6.4          NaN  ...       3.815652      2\n",
              "132           6.4          NaN  ...       4.053020      3\n",
              "\n",
              "[3 rows x 7 columns]"
            ]
          },
          "metadata": {
            "tags": []
          },
          "execution_count": 7
        }
      ]
    },
    {
      "cell_type": "code",
      "metadata": {
        "colab": {
          "base_uri": "https://localhost:8080/",
          "height": 142
        },
        "id": "SrgdlHY_fyJF",
        "outputId": "289f0b4e-4ea3-4371-f327-70d59fdae5f9"
      },
      "source": [
        "iris_data_unclean[iris_data_unclean['petal length'].isnull()]"
      ],
      "execution_count": 8,
      "outputs": [
        {
          "output_type": "execute_result",
          "data": {
            "text/html": [
              "<div>\n",
              "<style scoped>\n",
              "    .dataframe tbody tr th:only-of-type {\n",
              "        vertical-align: middle;\n",
              "    }\n",
              "\n",
              "    .dataframe tbody tr th {\n",
              "        vertical-align: top;\n",
              "    }\n",
              "\n",
              "    .dataframe thead th {\n",
              "        text-align: right;\n",
              "    }\n",
              "</style>\n",
              "<table border=\"1\" class=\"dataframe\">\n",
              "  <thead>\n",
              "    <tr style=\"text-align: right;\">\n",
              "      <th></th>\n",
              "      <th>sepal length</th>\n",
              "      <th>sepal width</th>\n",
              "      <th>petal length</th>\n",
              "      <th>petal width</th>\n",
              "      <th>New Feature 1</th>\n",
              "      <th>New Feature 2</th>\n",
              "      <th>class</th>\n",
              "    </tr>\n",
              "  </thead>\n",
              "  <tbody>\n",
              "    <tr>\n",
              "      <th>12</th>\n",
              "      <td>4.8</td>\n",
              "      <td>3.0</td>\n",
              "      <td>NaN</td>\n",
              "      <td>0.1</td>\n",
              "      <td>1.526365</td>\n",
              "      <td>2.794599</td>\n",
              "      <td>1</td>\n",
              "    </tr>\n",
              "    <tr>\n",
              "      <th>104</th>\n",
              "      <td>6.5</td>\n",
              "      <td>3.0</td>\n",
              "      <td>NaN</td>\n",
              "      <td>2.2</td>\n",
              "      <td>1.320333</td>\n",
              "      <td>4.432049</td>\n",
              "      <td>3</td>\n",
              "    </tr>\n",
              "    <tr>\n",
              "      <th>141</th>\n",
              "      <td>6.9</td>\n",
              "      <td>3.1</td>\n",
              "      <td>NaN</td>\n",
              "      <td>2.3</td>\n",
              "      <td>1.469114</td>\n",
              "      <td>4.710281</td>\n",
              "      <td>3</td>\n",
              "    </tr>\n",
              "  </tbody>\n",
              "</table>\n",
              "</div>"
            ],
            "text/plain": [
              "     sepal length  sepal width  ...  New Feature 2  class\n",
              "12            4.8          3.0  ...       2.794599      1\n",
              "104           6.5          3.0  ...       4.432049      3\n",
              "141           6.9          3.1  ...       4.710281      3\n",
              "\n",
              "[3 rows x 7 columns]"
            ]
          },
          "metadata": {
            "tags": []
          },
          "execution_count": 8
        }
      ]
    },
    {
      "cell_type": "code",
      "metadata": {
        "colab": {
          "base_uri": "https://localhost:8080/",
          "height": 80
        },
        "id": "hx841gaZf1a7",
        "outputId": "fd28a948-1218-4be1-9c9c-1d46ed4d2d21"
      },
      "source": [
        "iris_data_unclean[iris_data_unclean['petal width'].isnull()]"
      ],
      "execution_count": 9,
      "outputs": [
        {
          "output_type": "execute_result",
          "data": {
            "text/html": [
              "<div>\n",
              "<style scoped>\n",
              "    .dataframe tbody tr th:only-of-type {\n",
              "        vertical-align: middle;\n",
              "    }\n",
              "\n",
              "    .dataframe tbody tr th {\n",
              "        vertical-align: top;\n",
              "    }\n",
              "\n",
              "    .dataframe thead th {\n",
              "        text-align: right;\n",
              "    }\n",
              "</style>\n",
              "<table border=\"1\" class=\"dataframe\">\n",
              "  <thead>\n",
              "    <tr style=\"text-align: right;\">\n",
              "      <th></th>\n",
              "      <th>sepal length</th>\n",
              "      <th>sepal width</th>\n",
              "      <th>petal length</th>\n",
              "      <th>petal width</th>\n",
              "      <th>New Feature 1</th>\n",
              "      <th>New Feature 2</th>\n",
              "      <th>class</th>\n",
              "    </tr>\n",
              "  </thead>\n",
              "  <tbody>\n",
              "    <tr>\n",
              "      <th>36</th>\n",
              "      <td>5.5</td>\n",
              "      <td>3.5</td>\n",
              "      <td>1.3</td>\n",
              "      <td>NaN</td>\n",
              "      <td>1.188148</td>\n",
              "      <td>2.034879</td>\n",
              "      <td>1</td>\n",
              "    </tr>\n",
              "  </tbody>\n",
              "</table>\n",
              "</div>"
            ],
            "text/plain": [
              "    sepal length  sepal width  ...  New Feature 2  class\n",
              "36           5.5          3.5  ...       2.034879      1\n",
              "\n",
              "[1 rows x 7 columns]"
            ]
          },
          "metadata": {
            "tags": []
          },
          "execution_count": 9
        }
      ]
    },
    {
      "cell_type": "code",
      "metadata": {
        "colab": {
          "base_uri": "https://localhost:8080/",
          "height": 111
        },
        "id": "8ekwrYSXf7a-",
        "outputId": "211cdd5d-193d-4840-e2d5-c9eaff68e201"
      },
      "source": [
        "iris_data_unclean[iris_data_unclean['New Feature 1'].isnull()]"
      ],
      "execution_count": 10,
      "outputs": [
        {
          "output_type": "execute_result",
          "data": {
            "text/html": [
              "<div>\n",
              "<style scoped>\n",
              "    .dataframe tbody tr th:only-of-type {\n",
              "        vertical-align: middle;\n",
              "    }\n",
              "\n",
              "    .dataframe tbody tr th {\n",
              "        vertical-align: top;\n",
              "    }\n",
              "\n",
              "    .dataframe thead th {\n",
              "        text-align: right;\n",
              "    }\n",
              "</style>\n",
              "<table border=\"1\" class=\"dataframe\">\n",
              "  <thead>\n",
              "    <tr style=\"text-align: right;\">\n",
              "      <th></th>\n",
              "      <th>sepal length</th>\n",
              "      <th>sepal width</th>\n",
              "      <th>petal length</th>\n",
              "      <th>petal width</th>\n",
              "      <th>New Feature 1</th>\n",
              "      <th>New Feature 2</th>\n",
              "      <th>class</th>\n",
              "    </tr>\n",
              "  </thead>\n",
              "  <tbody>\n",
              "    <tr>\n",
              "      <th>63</th>\n",
              "      <td>6.1</td>\n",
              "      <td>2.9</td>\n",
              "      <td>4.7</td>\n",
              "      <td>1.4</td>\n",
              "      <td>NaN</td>\n",
              "      <td>3.287308</td>\n",
              "      <td>2</td>\n",
              "    </tr>\n",
              "    <tr>\n",
              "      <th>121</th>\n",
              "      <td>5.6</td>\n",
              "      <td>2.8</td>\n",
              "      <td>4.9</td>\n",
              "      <td>2.0</td>\n",
              "      <td>NaN</td>\n",
              "      <td>4.554019</td>\n",
              "      <td>3</td>\n",
              "    </tr>\n",
              "  </tbody>\n",
              "</table>\n",
              "</div>"
            ],
            "text/plain": [
              "     sepal length  sepal width  ...  New Feature 2  class\n",
              "63            6.1          2.9  ...       3.287308      2\n",
              "121           5.6          2.8  ...       4.554019      3\n",
              "\n",
              "[2 rows x 7 columns]"
            ]
          },
          "metadata": {
            "tags": []
          },
          "execution_count": 10
        }
      ]
    },
    {
      "cell_type": "code",
      "metadata": {
        "colab": {
          "base_uri": "https://localhost:8080/",
          "height": 111
        },
        "id": "kFTmshY2f-3q",
        "outputId": "09c6f0b4-e891-4d6b-f48c-ff1be3381eec"
      },
      "source": [
        "iris_data_unclean[iris_data_unclean['New Feature 2'].isnull()]"
      ],
      "execution_count": 11,
      "outputs": [
        {
          "output_type": "execute_result",
          "data": {
            "text/html": [
              "<div>\n",
              "<style scoped>\n",
              "    .dataframe tbody tr th:only-of-type {\n",
              "        vertical-align: middle;\n",
              "    }\n",
              "\n",
              "    .dataframe tbody tr th {\n",
              "        vertical-align: top;\n",
              "    }\n",
              "\n",
              "    .dataframe thead th {\n",
              "        text-align: right;\n",
              "    }\n",
              "</style>\n",
              "<table border=\"1\" class=\"dataframe\">\n",
              "  <thead>\n",
              "    <tr style=\"text-align: right;\">\n",
              "      <th></th>\n",
              "      <th>sepal length</th>\n",
              "      <th>sepal width</th>\n",
              "      <th>petal length</th>\n",
              "      <th>petal width</th>\n",
              "      <th>New Feature 1</th>\n",
              "      <th>New Feature 2</th>\n",
              "      <th>class</th>\n",
              "    </tr>\n",
              "  </thead>\n",
              "  <tbody>\n",
              "    <tr>\n",
              "      <th>20</th>\n",
              "      <td>5.4</td>\n",
              "      <td>3.4</td>\n",
              "      <td>1.7</td>\n",
              "      <td>0.2</td>\n",
              "      <td>1.426801</td>\n",
              "      <td>NaN</td>\n",
              "      <td>1</td>\n",
              "    </tr>\n",
              "    <tr>\n",
              "      <th>83</th>\n",
              "      <td>6.0</td>\n",
              "      <td>2.7</td>\n",
              "      <td>5.1</td>\n",
              "      <td>1.6</td>\n",
              "      <td>1.313326</td>\n",
              "      <td>NaN</td>\n",
              "      <td>2</td>\n",
              "    </tr>\n",
              "  </tbody>\n",
              "</table>\n",
              "</div>"
            ],
            "text/plain": [
              "    sepal length  sepal width  ...  New Feature 2  class\n",
              "20           5.4          3.4  ...            NaN      1\n",
              "83           6.0          2.7  ...            NaN      2\n",
              "\n",
              "[2 rows x 7 columns]"
            ]
          },
          "metadata": {
            "tags": []
          },
          "execution_count": 11
        }
      ]
    },
    {
      "cell_type": "markdown",
      "metadata": {
        "id": "z_8J9Cg6lqpw"
      },
      "source": [
        " We will impute the null values using Linear Regression. "
      ]
    },
    {
      "cell_type": "markdown",
      "metadata": {
        "id": "3Kx2w7LbmLU7"
      },
      "source": [
        "First create a dataset of non-null values."
      ]
    },
    {
      "cell_type": "code",
      "metadata": {
        "colab": {
          "base_uri": "https://localhost:8080/"
        },
        "id": "Y-rDGHaRmaPz",
        "outputId": "7bce0557-81ea-409e-9a33-da8508526377"
      },
      "source": [
        "iris_features_not_null = iris_data_unclean.dropna().iloc[:,:6]\n",
        "print(iris_features_not_null.shape)"
      ],
      "execution_count": 12,
      "outputs": [
        {
          "output_type": "stream",
          "text": [
            "(136, 6)\n"
          ],
          "name": "stdout"
        }
      ]
    },
    {
      "cell_type": "markdown",
      "metadata": {
        "id": "6xRXjwL6oQNP"
      },
      "source": [
        "Then extract the features and target for each feature that will be used to train a linear regression model."
      ]
    },
    {
      "cell_type": "code",
      "metadata": {
        "colab": {
          "base_uri": "https://localhost:8080/",
          "height": 204
        },
        "id": "Imv2xJ4pnXSr",
        "outputId": "c3be8840-0036-40fa-a154-9ea4ba4832b0"
      },
      "source": [
        "iris_sepal_length_features = iris_features_not_null.iloc[:,1:6]\n",
        "iris_sepal_length_features.head()"
      ],
      "execution_count": 13,
      "outputs": [
        {
          "output_type": "execute_result",
          "data": {
            "text/html": [
              "<div>\n",
              "<style scoped>\n",
              "    .dataframe tbody tr th:only-of-type {\n",
              "        vertical-align: middle;\n",
              "    }\n",
              "\n",
              "    .dataframe tbody tr th {\n",
              "        vertical-align: top;\n",
              "    }\n",
              "\n",
              "    .dataframe thead th {\n",
              "        text-align: right;\n",
              "    }\n",
              "</style>\n",
              "<table border=\"1\" class=\"dataframe\">\n",
              "  <thead>\n",
              "    <tr style=\"text-align: right;\">\n",
              "      <th></th>\n",
              "      <th>sepal width</th>\n",
              "      <th>petal length</th>\n",
              "      <th>petal width</th>\n",
              "      <th>New Feature 1</th>\n",
              "      <th>New Feature 2</th>\n",
              "    </tr>\n",
              "  </thead>\n",
              "  <tbody>\n",
              "    <tr>\n",
              "      <th>0</th>\n",
              "      <td>3.5</td>\n",
              "      <td>1.4</td>\n",
              "      <td>0.2</td>\n",
              "      <td>1.611281</td>\n",
              "      <td>2.981148</td>\n",
              "    </tr>\n",
              "    <tr>\n",
              "      <th>1</th>\n",
              "      <td>3.0</td>\n",
              "      <td>1.4</td>\n",
              "      <td>0.2</td>\n",
              "      <td>1.295847</td>\n",
              "      <td>2.210908</td>\n",
              "    </tr>\n",
              "    <tr>\n",
              "      <th>3</th>\n",
              "      <td>3.1</td>\n",
              "      <td>1.5</td>\n",
              "      <td>0.2</td>\n",
              "      <td>1.546064</td>\n",
              "      <td>2.714977</td>\n",
              "    </tr>\n",
              "    <tr>\n",
              "      <th>4</th>\n",
              "      <td>3.6</td>\n",
              "      <td>1.4</td>\n",
              "      <td>0.2</td>\n",
              "      <td>1.501464</td>\n",
              "      <td>2.815603</td>\n",
              "    </tr>\n",
              "    <tr>\n",
              "      <th>5</th>\n",
              "      <td>3.9</td>\n",
              "      <td>1.7</td>\n",
              "      <td>0.4</td>\n",
              "      <td>1.325835</td>\n",
              "      <td>2.235803</td>\n",
              "    </tr>\n",
              "  </tbody>\n",
              "</table>\n",
              "</div>"
            ],
            "text/plain": [
              "   sepal width  petal length  petal width  New Feature 1  New Feature 2\n",
              "0          3.5           1.4          0.2       1.611281       2.981148\n",
              "1          3.0           1.4          0.2       1.295847       2.210908\n",
              "3          3.1           1.5          0.2       1.546064       2.714977\n",
              "4          3.6           1.4          0.2       1.501464       2.815603\n",
              "5          3.9           1.7          0.4       1.325835       2.235803"
            ]
          },
          "metadata": {
            "tags": []
          },
          "execution_count": 13
        }
      ]
    },
    {
      "cell_type": "code",
      "metadata": {
        "colab": {
          "base_uri": "https://localhost:8080/"
        },
        "id": "GCTtONmVn0RX",
        "outputId": "69b4a159-79ce-435d-d02d-84179e429552"
      },
      "source": [
        "iris_sepal_length_target = iris_features_not_null['sepal length']\n",
        "iris_sepal_length_target.shape"
      ],
      "execution_count": 14,
      "outputs": [
        {
          "output_type": "execute_result",
          "data": {
            "text/plain": [
              "(136,)"
            ]
          },
          "metadata": {
            "tags": []
          },
          "execution_count": 14
        }
      ]
    },
    {
      "cell_type": "code",
      "metadata": {
        "colab": {
          "base_uri": "https://localhost:8080/",
          "height": 204
        },
        "id": "uvygHymHv1BQ",
        "outputId": "c2c9f7df-6a16-4554-84b2-0999031506f1"
      },
      "source": [
        "sepal_width_features = ['sepal length', 'petal length', 'petal width', 'New Feature 1', 'New Feature 2']\n",
        "iris_sepal_width_features = iris_features_not_null[sepal_width_features]\n",
        "iris_sepal_width_features.head()"
      ],
      "execution_count": 15,
      "outputs": [
        {
          "output_type": "execute_result",
          "data": {
            "text/html": [
              "<div>\n",
              "<style scoped>\n",
              "    .dataframe tbody tr th:only-of-type {\n",
              "        vertical-align: middle;\n",
              "    }\n",
              "\n",
              "    .dataframe tbody tr th {\n",
              "        vertical-align: top;\n",
              "    }\n",
              "\n",
              "    .dataframe thead th {\n",
              "        text-align: right;\n",
              "    }\n",
              "</style>\n",
              "<table border=\"1\" class=\"dataframe\">\n",
              "  <thead>\n",
              "    <tr style=\"text-align: right;\">\n",
              "      <th></th>\n",
              "      <th>sepal length</th>\n",
              "      <th>petal length</th>\n",
              "      <th>petal width</th>\n",
              "      <th>New Feature 1</th>\n",
              "      <th>New Feature 2</th>\n",
              "    </tr>\n",
              "  </thead>\n",
              "  <tbody>\n",
              "    <tr>\n",
              "      <th>0</th>\n",
              "      <td>5.1</td>\n",
              "      <td>1.4</td>\n",
              "      <td>0.2</td>\n",
              "      <td>1.611281</td>\n",
              "      <td>2.981148</td>\n",
              "    </tr>\n",
              "    <tr>\n",
              "      <th>1</th>\n",
              "      <td>4.9</td>\n",
              "      <td>1.4</td>\n",
              "      <td>0.2</td>\n",
              "      <td>1.295847</td>\n",
              "      <td>2.210908</td>\n",
              "    </tr>\n",
              "    <tr>\n",
              "      <th>3</th>\n",
              "      <td>4.6</td>\n",
              "      <td>1.5</td>\n",
              "      <td>0.2</td>\n",
              "      <td>1.546064</td>\n",
              "      <td>2.714977</td>\n",
              "    </tr>\n",
              "    <tr>\n",
              "      <th>4</th>\n",
              "      <td>5.0</td>\n",
              "      <td>1.4</td>\n",
              "      <td>0.2</td>\n",
              "      <td>1.501464</td>\n",
              "      <td>2.815603</td>\n",
              "    </tr>\n",
              "    <tr>\n",
              "      <th>5</th>\n",
              "      <td>5.4</td>\n",
              "      <td>1.7</td>\n",
              "      <td>0.4</td>\n",
              "      <td>1.325835</td>\n",
              "      <td>2.235803</td>\n",
              "    </tr>\n",
              "  </tbody>\n",
              "</table>\n",
              "</div>"
            ],
            "text/plain": [
              "   sepal length  petal length  petal width  New Feature 1  New Feature 2\n",
              "0           5.1           1.4          0.2       1.611281       2.981148\n",
              "1           4.9           1.4          0.2       1.295847       2.210908\n",
              "3           4.6           1.5          0.2       1.546064       2.714977\n",
              "4           5.0           1.4          0.2       1.501464       2.815603\n",
              "5           5.4           1.7          0.4       1.325835       2.235803"
            ]
          },
          "metadata": {
            "tags": []
          },
          "execution_count": 15
        }
      ]
    },
    {
      "cell_type": "code",
      "metadata": {
        "colab": {
          "base_uri": "https://localhost:8080/"
        },
        "id": "8zG9ekyVwZV4",
        "outputId": "6a078f5e-03fc-443c-8e54-4827ebc545bd"
      },
      "source": [
        "iris_sepal_width_target = iris_features_not_null['sepal width']\n",
        "iris_sepal_width_target.shape"
      ],
      "execution_count": 16,
      "outputs": [
        {
          "output_type": "execute_result",
          "data": {
            "text/plain": [
              "(136,)"
            ]
          },
          "metadata": {
            "tags": []
          },
          "execution_count": 16
        }
      ]
    },
    {
      "cell_type": "code",
      "metadata": {
        "colab": {
          "base_uri": "https://localhost:8080/",
          "height": 204
        },
        "id": "Xm3pqMuXxCqP",
        "outputId": "0d057705-1edc-4e91-f1bb-6c1a3034b05e"
      },
      "source": [
        "petal_length_features = ['sepal length', 'sepal width', 'petal width', 'New Feature 1', 'New Feature 2']\n",
        "iris_petal_length_features = iris_features_not_null[petal_length_features]\n",
        "iris_petal_length_features.head()"
      ],
      "execution_count": 17,
      "outputs": [
        {
          "output_type": "execute_result",
          "data": {
            "text/html": [
              "<div>\n",
              "<style scoped>\n",
              "    .dataframe tbody tr th:only-of-type {\n",
              "        vertical-align: middle;\n",
              "    }\n",
              "\n",
              "    .dataframe tbody tr th {\n",
              "        vertical-align: top;\n",
              "    }\n",
              "\n",
              "    .dataframe thead th {\n",
              "        text-align: right;\n",
              "    }\n",
              "</style>\n",
              "<table border=\"1\" class=\"dataframe\">\n",
              "  <thead>\n",
              "    <tr style=\"text-align: right;\">\n",
              "      <th></th>\n",
              "      <th>sepal length</th>\n",
              "      <th>sepal width</th>\n",
              "      <th>petal width</th>\n",
              "      <th>New Feature 1</th>\n",
              "      <th>New Feature 2</th>\n",
              "    </tr>\n",
              "  </thead>\n",
              "  <tbody>\n",
              "    <tr>\n",
              "      <th>0</th>\n",
              "      <td>5.1</td>\n",
              "      <td>3.5</td>\n",
              "      <td>0.2</td>\n",
              "      <td>1.611281</td>\n",
              "      <td>2.981148</td>\n",
              "    </tr>\n",
              "    <tr>\n",
              "      <th>1</th>\n",
              "      <td>4.9</td>\n",
              "      <td>3.0</td>\n",
              "      <td>0.2</td>\n",
              "      <td>1.295847</td>\n",
              "      <td>2.210908</td>\n",
              "    </tr>\n",
              "    <tr>\n",
              "      <th>3</th>\n",
              "      <td>4.6</td>\n",
              "      <td>3.1</td>\n",
              "      <td>0.2</td>\n",
              "      <td>1.546064</td>\n",
              "      <td>2.714977</td>\n",
              "    </tr>\n",
              "    <tr>\n",
              "      <th>4</th>\n",
              "      <td>5.0</td>\n",
              "      <td>3.6</td>\n",
              "      <td>0.2</td>\n",
              "      <td>1.501464</td>\n",
              "      <td>2.815603</td>\n",
              "    </tr>\n",
              "    <tr>\n",
              "      <th>5</th>\n",
              "      <td>5.4</td>\n",
              "      <td>3.9</td>\n",
              "      <td>0.4</td>\n",
              "      <td>1.325835</td>\n",
              "      <td>2.235803</td>\n",
              "    </tr>\n",
              "  </tbody>\n",
              "</table>\n",
              "</div>"
            ],
            "text/plain": [
              "   sepal length  sepal width  petal width  New Feature 1  New Feature 2\n",
              "0           5.1          3.5          0.2       1.611281       2.981148\n",
              "1           4.9          3.0          0.2       1.295847       2.210908\n",
              "3           4.6          3.1          0.2       1.546064       2.714977\n",
              "4           5.0          3.6          0.2       1.501464       2.815603\n",
              "5           5.4          3.9          0.4       1.325835       2.235803"
            ]
          },
          "metadata": {
            "tags": []
          },
          "execution_count": 17
        }
      ]
    },
    {
      "cell_type": "code",
      "metadata": {
        "colab": {
          "base_uri": "https://localhost:8080/"
        },
        "id": "oo315CWZxQYQ",
        "outputId": "74cbdb68-0e11-4b08-aa53-96d4b0bdf052"
      },
      "source": [
        "iris_petal_length_target = iris_features_not_null['petal length']\n",
        "iris_petal_length_target.shape"
      ],
      "execution_count": 18,
      "outputs": [
        {
          "output_type": "execute_result",
          "data": {
            "text/plain": [
              "(136,)"
            ]
          },
          "metadata": {
            "tags": []
          },
          "execution_count": 18
        }
      ]
    },
    {
      "cell_type": "code",
      "metadata": {
        "colab": {
          "base_uri": "https://localhost:8080/",
          "height": 204
        },
        "id": "JZKJc9bLxjX_",
        "outputId": "62d45260-596e-4d61-fe5a-777f70e55e9e"
      },
      "source": [
        "petal_width_features = ['sepal length', 'sepal width', 'petal length', 'New Feature 1', 'New Feature 2']\n",
        "iris_petal_width_features = iris_features_not_null[petal_width_features]\n",
        "iris_petal_width_features.head()"
      ],
      "execution_count": 19,
      "outputs": [
        {
          "output_type": "execute_result",
          "data": {
            "text/html": [
              "<div>\n",
              "<style scoped>\n",
              "    .dataframe tbody tr th:only-of-type {\n",
              "        vertical-align: middle;\n",
              "    }\n",
              "\n",
              "    .dataframe tbody tr th {\n",
              "        vertical-align: top;\n",
              "    }\n",
              "\n",
              "    .dataframe thead th {\n",
              "        text-align: right;\n",
              "    }\n",
              "</style>\n",
              "<table border=\"1\" class=\"dataframe\">\n",
              "  <thead>\n",
              "    <tr style=\"text-align: right;\">\n",
              "      <th></th>\n",
              "      <th>sepal length</th>\n",
              "      <th>sepal width</th>\n",
              "      <th>petal length</th>\n",
              "      <th>New Feature 1</th>\n",
              "      <th>New Feature 2</th>\n",
              "    </tr>\n",
              "  </thead>\n",
              "  <tbody>\n",
              "    <tr>\n",
              "      <th>0</th>\n",
              "      <td>5.1</td>\n",
              "      <td>3.5</td>\n",
              "      <td>1.4</td>\n",
              "      <td>1.611281</td>\n",
              "      <td>2.981148</td>\n",
              "    </tr>\n",
              "    <tr>\n",
              "      <th>1</th>\n",
              "      <td>4.9</td>\n",
              "      <td>3.0</td>\n",
              "      <td>1.4</td>\n",
              "      <td>1.295847</td>\n",
              "      <td>2.210908</td>\n",
              "    </tr>\n",
              "    <tr>\n",
              "      <th>3</th>\n",
              "      <td>4.6</td>\n",
              "      <td>3.1</td>\n",
              "      <td>1.5</td>\n",
              "      <td>1.546064</td>\n",
              "      <td>2.714977</td>\n",
              "    </tr>\n",
              "    <tr>\n",
              "      <th>4</th>\n",
              "      <td>5.0</td>\n",
              "      <td>3.6</td>\n",
              "      <td>1.4</td>\n",
              "      <td>1.501464</td>\n",
              "      <td>2.815603</td>\n",
              "    </tr>\n",
              "    <tr>\n",
              "      <th>5</th>\n",
              "      <td>5.4</td>\n",
              "      <td>3.9</td>\n",
              "      <td>1.7</td>\n",
              "      <td>1.325835</td>\n",
              "      <td>2.235803</td>\n",
              "    </tr>\n",
              "  </tbody>\n",
              "</table>\n",
              "</div>"
            ],
            "text/plain": [
              "   sepal length  sepal width  petal length  New Feature 1  New Feature 2\n",
              "0           5.1          3.5           1.4       1.611281       2.981148\n",
              "1           4.9          3.0           1.4       1.295847       2.210908\n",
              "3           4.6          3.1           1.5       1.546064       2.714977\n",
              "4           5.0          3.6           1.4       1.501464       2.815603\n",
              "5           5.4          3.9           1.7       1.325835       2.235803"
            ]
          },
          "metadata": {
            "tags": []
          },
          "execution_count": 19
        }
      ]
    },
    {
      "cell_type": "code",
      "metadata": {
        "colab": {
          "base_uri": "https://localhost:8080/"
        },
        "id": "ZhhvOiXsyJNb",
        "outputId": "80535bad-d48f-445c-b93a-526a9dd5ffc8"
      },
      "source": [
        "iris_petal_width_target = iris_features_not_null['petal width']\n",
        "iris_petal_width_target.shape"
      ],
      "execution_count": 20,
      "outputs": [
        {
          "output_type": "execute_result",
          "data": {
            "text/plain": [
              "(136,)"
            ]
          },
          "metadata": {
            "tags": []
          },
          "execution_count": 20
        }
      ]
    },
    {
      "cell_type": "code",
      "metadata": {
        "colab": {
          "base_uri": "https://localhost:8080/",
          "height": 204
        },
        "id": "GeLx9NFRyKmP",
        "outputId": "1dbaf872-e7c1-40dc-a582-df3e07e92692"
      },
      "source": [
        "new_1_features = ['sepal length', 'sepal width', 'petal length', 'petal width', 'New Feature 2']\n",
        "iris_new_1_features = iris_features_not_null[new_1_features]\n",
        "iris_new_1_features.head()"
      ],
      "execution_count": 21,
      "outputs": [
        {
          "output_type": "execute_result",
          "data": {
            "text/html": [
              "<div>\n",
              "<style scoped>\n",
              "    .dataframe tbody tr th:only-of-type {\n",
              "        vertical-align: middle;\n",
              "    }\n",
              "\n",
              "    .dataframe tbody tr th {\n",
              "        vertical-align: top;\n",
              "    }\n",
              "\n",
              "    .dataframe thead th {\n",
              "        text-align: right;\n",
              "    }\n",
              "</style>\n",
              "<table border=\"1\" class=\"dataframe\">\n",
              "  <thead>\n",
              "    <tr style=\"text-align: right;\">\n",
              "      <th></th>\n",
              "      <th>sepal length</th>\n",
              "      <th>sepal width</th>\n",
              "      <th>petal length</th>\n",
              "      <th>petal width</th>\n",
              "      <th>New Feature 2</th>\n",
              "    </tr>\n",
              "  </thead>\n",
              "  <tbody>\n",
              "    <tr>\n",
              "      <th>0</th>\n",
              "      <td>5.1</td>\n",
              "      <td>3.5</td>\n",
              "      <td>1.4</td>\n",
              "      <td>0.2</td>\n",
              "      <td>2.981148</td>\n",
              "    </tr>\n",
              "    <tr>\n",
              "      <th>1</th>\n",
              "      <td>4.9</td>\n",
              "      <td>3.0</td>\n",
              "      <td>1.4</td>\n",
              "      <td>0.2</td>\n",
              "      <td>2.210908</td>\n",
              "    </tr>\n",
              "    <tr>\n",
              "      <th>3</th>\n",
              "      <td>4.6</td>\n",
              "      <td>3.1</td>\n",
              "      <td>1.5</td>\n",
              "      <td>0.2</td>\n",
              "      <td>2.714977</td>\n",
              "    </tr>\n",
              "    <tr>\n",
              "      <th>4</th>\n",
              "      <td>5.0</td>\n",
              "      <td>3.6</td>\n",
              "      <td>1.4</td>\n",
              "      <td>0.2</td>\n",
              "      <td>2.815603</td>\n",
              "    </tr>\n",
              "    <tr>\n",
              "      <th>5</th>\n",
              "      <td>5.4</td>\n",
              "      <td>3.9</td>\n",
              "      <td>1.7</td>\n",
              "      <td>0.4</td>\n",
              "      <td>2.235803</td>\n",
              "    </tr>\n",
              "  </tbody>\n",
              "</table>\n",
              "</div>"
            ],
            "text/plain": [
              "   sepal length  sepal width  petal length  petal width  New Feature 2\n",
              "0           5.1          3.5           1.4          0.2       2.981148\n",
              "1           4.9          3.0           1.4          0.2       2.210908\n",
              "3           4.6          3.1           1.5          0.2       2.714977\n",
              "4           5.0          3.6           1.4          0.2       2.815603\n",
              "5           5.4          3.9           1.7          0.4       2.235803"
            ]
          },
          "metadata": {
            "tags": []
          },
          "execution_count": 21
        }
      ]
    },
    {
      "cell_type": "code",
      "metadata": {
        "colab": {
          "base_uri": "https://localhost:8080/"
        },
        "id": "fry6td7hyLYf",
        "outputId": "ee799682-3d48-44ce-f000-7f480b5ad768"
      },
      "source": [
        "iris_new_1_target = iris_features_not_null['New Feature 1']\n",
        "iris_new_1_target.shape"
      ],
      "execution_count": 22,
      "outputs": [
        {
          "output_type": "execute_result",
          "data": {
            "text/plain": [
              "(136,)"
            ]
          },
          "metadata": {
            "tags": []
          },
          "execution_count": 22
        }
      ]
    },
    {
      "cell_type": "code",
      "metadata": {
        "colab": {
          "base_uri": "https://localhost:8080/",
          "height": 204
        },
        "id": "6X1gXubuyL3P",
        "outputId": "d7eb0702-43a4-42fc-a3dd-59af2d6fbb24"
      },
      "source": [
        "new_2_features = ['sepal length', 'sepal width', 'petal length', 'petal width', 'New Feature 1']\n",
        "iris_new_2_features = iris_features_not_null[new_2_features]\n",
        "iris_new_2_features.head()"
      ],
      "execution_count": 23,
      "outputs": [
        {
          "output_type": "execute_result",
          "data": {
            "text/html": [
              "<div>\n",
              "<style scoped>\n",
              "    .dataframe tbody tr th:only-of-type {\n",
              "        vertical-align: middle;\n",
              "    }\n",
              "\n",
              "    .dataframe tbody tr th {\n",
              "        vertical-align: top;\n",
              "    }\n",
              "\n",
              "    .dataframe thead th {\n",
              "        text-align: right;\n",
              "    }\n",
              "</style>\n",
              "<table border=\"1\" class=\"dataframe\">\n",
              "  <thead>\n",
              "    <tr style=\"text-align: right;\">\n",
              "      <th></th>\n",
              "      <th>sepal length</th>\n",
              "      <th>sepal width</th>\n",
              "      <th>petal length</th>\n",
              "      <th>petal width</th>\n",
              "      <th>New Feature 1</th>\n",
              "    </tr>\n",
              "  </thead>\n",
              "  <tbody>\n",
              "    <tr>\n",
              "      <th>0</th>\n",
              "      <td>5.1</td>\n",
              "      <td>3.5</td>\n",
              "      <td>1.4</td>\n",
              "      <td>0.2</td>\n",
              "      <td>1.611281</td>\n",
              "    </tr>\n",
              "    <tr>\n",
              "      <th>1</th>\n",
              "      <td>4.9</td>\n",
              "      <td>3.0</td>\n",
              "      <td>1.4</td>\n",
              "      <td>0.2</td>\n",
              "      <td>1.295847</td>\n",
              "    </tr>\n",
              "    <tr>\n",
              "      <th>3</th>\n",
              "      <td>4.6</td>\n",
              "      <td>3.1</td>\n",
              "      <td>1.5</td>\n",
              "      <td>0.2</td>\n",
              "      <td>1.546064</td>\n",
              "    </tr>\n",
              "    <tr>\n",
              "      <th>4</th>\n",
              "      <td>5.0</td>\n",
              "      <td>3.6</td>\n",
              "      <td>1.4</td>\n",
              "      <td>0.2</td>\n",
              "      <td>1.501464</td>\n",
              "    </tr>\n",
              "    <tr>\n",
              "      <th>5</th>\n",
              "      <td>5.4</td>\n",
              "      <td>3.9</td>\n",
              "      <td>1.7</td>\n",
              "      <td>0.4</td>\n",
              "      <td>1.325835</td>\n",
              "    </tr>\n",
              "  </tbody>\n",
              "</table>\n",
              "</div>"
            ],
            "text/plain": [
              "   sepal length  sepal width  petal length  petal width  New Feature 1\n",
              "0           5.1          3.5           1.4          0.2       1.611281\n",
              "1           4.9          3.0           1.4          0.2       1.295847\n",
              "3           4.6          3.1           1.5          0.2       1.546064\n",
              "4           5.0          3.6           1.4          0.2       1.501464\n",
              "5           5.4          3.9           1.7          0.4       1.325835"
            ]
          },
          "metadata": {
            "tags": []
          },
          "execution_count": 23
        }
      ]
    },
    {
      "cell_type": "code",
      "metadata": {
        "colab": {
          "base_uri": "https://localhost:8080/"
        },
        "id": "6sIdEw8dyMK4",
        "outputId": "cd4095e8-8d85-4663-e3ad-76ab43ef1a7b"
      },
      "source": [
        "iris_new_2_target = iris_features_not_null['New Feature 2']\n",
        "iris_new_2_target.shape"
      ],
      "execution_count": 24,
      "outputs": [
        {
          "output_type": "execute_result",
          "data": {
            "text/plain": [
              "(136,)"
            ]
          },
          "metadata": {
            "tags": []
          },
          "execution_count": 24
        }
      ]
    },
    {
      "cell_type": "code",
      "metadata": {
        "id": "ImeAQwDgocMA"
      },
      "source": [
        "from sklearn.linear_model import LinearRegression\n",
        "def train_linear_regression_model(x, y):\n",
        "  linear_regression = LinearRegression()\n",
        "  linear_regression.fit(x, y)\n",
        "  return linear_regression"
      ],
      "execution_count": 25,
      "outputs": []
    },
    {
      "cell_type": "code",
      "metadata": {
        "colab": {
          "base_uri": "https://localhost:8080/"
        },
        "id": "lSVt0_mr8_PN",
        "outputId": "18089ca2-dff0-4d6c-cf3b-1a359bed35ee"
      },
      "source": [
        "iris_data_is_null = iris_data_unclean[iris_data_unclean.isnull().any(axis=1)]"
      ],
      "execution_count": 49,
      "outputs": [
        {
          "output_type": "execute_result",
          "data": {
            "text/plain": [
              "sepal length     11\n",
              "sepal width      11\n",
              "petal length     11\n",
              "petal width      13\n",
              "New Feature 1    12\n",
              "New Feature 2    12\n",
              "class            14\n",
              "dtype: int64"
            ]
          },
          "metadata": {
            "tags": []
          },
          "execution_count": 49
        }
      ]
    },
    {
      "cell_type": "code",
      "metadata": {
        "id": "OmPhnpLxpDea"
      },
      "source": [
        "sepal_length_linear_reg_model = train_linear_regression_model(iris_sepal_length_features, iris_sepal_length_target)"
      ],
      "execution_count": 50,
      "outputs": []
    },
    {
      "cell_type": "code",
      "metadata": {
        "colab": {
          "base_uri": "https://localhost:8080/"
        },
        "id": "8khtM1-PqC1H",
        "outputId": "8dead6d7-2cfe-45a8-9f91-b524f614b5a7"
      },
      "source": [
        "sepal_length_null = iris_data_is_null[iris_data_is_null['sepal length'].isnull()]\n",
        "print(sepal_length_null.values)\n",
        "sepal_length_impute_values = sepal_length_linear_reg_model.predict(sepal_length_null.iloc[:,1:6]) \n",
        "sepal_length_impute_values"
      ],
      "execution_count": 51,
      "outputs": [
        {
          "output_type": "stream",
          "text": [
            "[[       nan 3.4        1.5        0.4        1.58276971 2.91699779\n",
            "  1.        ]\n",
            " [       nan 2.7        4.2        1.3        1.32486361 3.31325475\n",
            "  2.        ]\n",
            " [       nan 3.4        5.4        2.3        1.13117322 4.02749526\n",
            "  3.        ]]\n"
          ],
          "name": "stdout"
        },
        {
          "output_type": "execute_result",
          "data": {
            "text/plain": [
              "array([4.92986945, 5.94414636, 6.56612879])"
            ]
          },
          "metadata": {
            "tags": []
          },
          "execution_count": 51
        }
      ]
    },
    {
      "cell_type": "code",
      "metadata": {
        "id": "Pzd5FFKl6I2X"
      },
      "source": [
        "sepal_width_linear_reg_model = train_linear_regression_model(iris_sepal_width_features, iris_sepal_width_target)"
      ],
      "execution_count": 52,
      "outputs": []
    },
    {
      "cell_type": "code",
      "metadata": {
        "colab": {
          "base_uri": "https://localhost:8080/"
        },
        "id": "X5tm-WJqqUef",
        "outputId": "12c88236-f957-435f-aed1-f26f34a1254e"
      },
      "source": [
        "sepal_width_null = iris_data_is_null[iris_data_is_null['sepal width'].isnull()]\n",
        "print(sepal_width_null.values)\n",
        "sepal_width_impute_values = sepal_width_linear_reg_model.predict(sepal_width_null[sepal_width_features]) \n",
        "sepal_width_impute_values"
      ],
      "execution_count": 53,
      "outputs": [
        {
          "output_type": "stream",
          "text": [
            "[[4.7               nan 1.3        0.2        1.68557819 3.11456249\n",
            "  1.        ]\n",
            " [6.4               nan 4.5        1.5        1.4730896  3.81565165\n",
            "  2.        ]\n",
            " [6.4               nan 5.6        2.2        1.15004358 4.05301993\n",
            "  3.        ]]\n"
          ],
          "name": "stdout"
        },
        {
          "output_type": "execute_result",
          "data": {
            "text/plain": [
              "array([3.32187821, 3.14948886, 2.81638955])"
            ]
          },
          "metadata": {
            "tags": []
          },
          "execution_count": 53
        }
      ]
    },
    {
      "cell_type": "code",
      "metadata": {
        "id": "kR7GwPdl7F2T"
      },
      "source": [
        "petal_length_linear_reg_model = train_linear_regression_model(iris_petal_length_features, iris_petal_length_target)"
      ],
      "execution_count": 54,
      "outputs": []
    },
    {
      "cell_type": "code",
      "metadata": {
        "colab": {
          "base_uri": "https://localhost:8080/"
        },
        "id": "kbnf-bXi7N06",
        "outputId": "a7395943-90e0-4491-9019-efebc4211690"
      },
      "source": [
        "petal_length_null = iris_data_is_null[iris_data_is_null['petal length'].isnull()]\n",
        "print(petal_length_null.values)\n",
        "petal_length_impute_values = petal_length_linear_reg_model.predict(petal_length_null[petal_length_features]) \n",
        "print(petal_length_impute_values)"
      ],
      "execution_count": 55,
      "outputs": [
        {
          "output_type": "stream",
          "text": [
            "[[4.8        3.                nan 0.1        1.52636464 2.7945989\n",
            "  1.        ]\n",
            " [6.5        3.                nan 2.2        1.32033284 4.4320489\n",
            "  3.        ]\n",
            " [6.9        3.1               nan 2.3        1.46911371 4.71028136\n",
            "  3.        ]]\n",
            "[1.48766421 5.7144479  6.02751857]\n"
          ],
          "name": "stdout"
        }
      ]
    },
    {
      "cell_type": "code",
      "metadata": {
        "id": "uSaWZu8N8ACd"
      },
      "source": [
        "petal_width_linear_reg_model = train_linear_regression_model(iris_petal_width_features, iris_petal_width_target)"
      ],
      "execution_count": 56,
      "outputs": []
    },
    {
      "cell_type": "code",
      "metadata": {
        "colab": {
          "base_uri": "https://localhost:8080/"
        },
        "id": "yQAJrr1I82uz",
        "outputId": "f24fa134-1587-4e9c-8019-d7828d7c503f"
      },
      "source": [
        "petal_width_null = iris_data_is_null[iris_data_is_null['petal width'].isnull()]\n",
        "print(petal_width_null.values)\n",
        "petal_width_impute_values = petal_width_linear_reg_model.predict(petal_width_null[petal_width_features]) \n",
        "print(petal_width_impute_values)"
      ],
      "execution_count": 57,
      "outputs": [
        {
          "output_type": "stream",
          "text": [
            "[[5.5        3.5        1.3               nan 1.1881484  2.03487861\n",
            "  1.        ]]\n",
            "[0.1294261]\n"
          ],
          "name": "stdout"
        }
      ]
    },
    {
      "cell_type": "code",
      "metadata": {
        "id": "HRo19LDZ8_1i"
      },
      "source": [
        "new_1_linear_reg_model = train_linear_regression_model(iris_new_1_features, iris_new_1_target)"
      ],
      "execution_count": 58,
      "outputs": []
    },
    {
      "cell_type": "code",
      "metadata": {
        "colab": {
          "base_uri": "https://localhost:8080/",
          "height": 196
        },
        "id": "d9CW0kK99Mzz",
        "outputId": "a5496c8e-baa9-415b-f84f-4ef458f802b2"
      },
      "source": [
        "new_1_null = iris_data_is_null[iris_data_is_null['New Feature 1'].isnull()]\n",
        "print(new_1_null.values)\n",
        "new_1_impute_values = new_1_linear_reg_model.predict(new_1_null[new_1_features]) \n",
        "print(new_1_impute_values)\n",
        "new_1_null"
      ],
      "execution_count": 59,
      "outputs": [
        {
          "output_type": "stream",
          "text": [
            "[[6.1        2.9        4.7        1.4               nan 3.28730848\n",
            "  2.        ]\n",
            " [5.6        2.8        4.9        2.                nan 4.55401917\n",
            "  3.        ]]\n",
            "[1.21574035 1.40782779]\n"
          ],
          "name": "stdout"
        },
        {
          "output_type": "execute_result",
          "data": {
            "text/html": [
              "<div>\n",
              "<style scoped>\n",
              "    .dataframe tbody tr th:only-of-type {\n",
              "        vertical-align: middle;\n",
              "    }\n",
              "\n",
              "    .dataframe tbody tr th {\n",
              "        vertical-align: top;\n",
              "    }\n",
              "\n",
              "    .dataframe thead th {\n",
              "        text-align: right;\n",
              "    }\n",
              "</style>\n",
              "<table border=\"1\" class=\"dataframe\">\n",
              "  <thead>\n",
              "    <tr style=\"text-align: right;\">\n",
              "      <th></th>\n",
              "      <th>sepal length</th>\n",
              "      <th>sepal width</th>\n",
              "      <th>petal length</th>\n",
              "      <th>petal width</th>\n",
              "      <th>New Feature 1</th>\n",
              "      <th>New Feature 2</th>\n",
              "      <th>class</th>\n",
              "    </tr>\n",
              "  </thead>\n",
              "  <tbody>\n",
              "    <tr>\n",
              "      <th>63</th>\n",
              "      <td>6.1</td>\n",
              "      <td>2.9</td>\n",
              "      <td>4.7</td>\n",
              "      <td>1.4</td>\n",
              "      <td>NaN</td>\n",
              "      <td>3.287308</td>\n",
              "      <td>2</td>\n",
              "    </tr>\n",
              "    <tr>\n",
              "      <th>121</th>\n",
              "      <td>5.6</td>\n",
              "      <td>2.8</td>\n",
              "      <td>4.9</td>\n",
              "      <td>2.0</td>\n",
              "      <td>NaN</td>\n",
              "      <td>4.554019</td>\n",
              "      <td>3</td>\n",
              "    </tr>\n",
              "  </tbody>\n",
              "</table>\n",
              "</div>"
            ],
            "text/plain": [
              "     sepal length  sepal width  ...  New Feature 2  class\n",
              "63            6.1          2.9  ...       3.287308      2\n",
              "121           5.6          2.8  ...       4.554019      3\n",
              "\n",
              "[2 rows x 7 columns]"
            ]
          },
          "metadata": {
            "tags": []
          },
          "execution_count": 59
        }
      ]
    },
    {
      "cell_type": "code",
      "metadata": {
        "id": "qVt4YhK899tK"
      },
      "source": [
        "new_2_linear_reg_model = train_linear_regression_model(iris_new_2_features, iris_new_2_target)"
      ],
      "execution_count": 60,
      "outputs": []
    },
    {
      "cell_type": "code",
      "metadata": {
        "colab": {
          "base_uri": "https://localhost:8080/"
        },
        "id": "11PsuLyG9cnq",
        "outputId": "75a973b7-51ef-46b8-f736-f0eb20e88c59"
      },
      "source": [
        "new_2_null = iris_data_is_null[iris_data_is_null['New Feature 2'].isnull()]\n",
        "print(new_2_null.values)\n",
        "new_2_impute_values = new_2_linear_reg_model.predict(new_2_null[new_2_features]) \n",
        "print(new_2_impute_values)"
      ],
      "execution_count": 61,
      "outputs": [
        {
          "output_type": "stream",
          "text": [
            "[[5.4        3.4        1.7        0.2        1.42680129        nan\n",
            "  1.        ]\n",
            " [6.         2.7        5.1        1.6        1.31332598        nan\n",
            "  2.        ]]\n",
            "[2.50544283 4.01895526]\n"
          ],
          "name": "stdout"
        }
      ]
    },
    {
      "cell_type": "markdown",
      "metadata": {
        "id": "gn8FyBVQ_lqC"
      },
      "source": [
        "Impute the generated values"
      ]
    },
    {
      "cell_type": "code",
      "metadata": {
        "colab": {
          "base_uri": "https://localhost:8080/",
          "height": 261
        },
        "id": "TqUiQCSg-e9J",
        "outputId": "5cda57f3-403b-4e78-87d9-c44e8985ecc3"
      },
      "source": [
        "#Impute the generated values\n",
        "iris_data_clean = iris_data_unclean.copy()\n",
        "were_null = iris_data_clean['sepal length'].isnull()\n",
        "print(iris_data_clean[were_null])\n",
        "iris_data_clean['sepal length'].fillna(pd.DataFrame(sepal_length_impute_values, index=iris_data_clean[were_null].index)[0], inplace = True)\n",
        "print(sepal_length_impute_values)\n",
        "iris_data_clean[were_null]"
      ],
      "execution_count": 62,
      "outputs": [
        {
          "output_type": "stream",
          "text": [
            "     sepal length  sepal width  ...  New Feature 2  class\n",
            "31            NaN          3.4  ...       2.916998      1\n",
            "94            NaN          2.7  ...       3.313255      2\n",
            "148           NaN          3.4  ...       4.027495      3\n",
            "\n",
            "[3 rows x 7 columns]\n",
            "[4.92986945 5.94414636 6.56612879]\n"
          ],
          "name": "stdout"
        },
        {
          "output_type": "execute_result",
          "data": {
            "text/html": [
              "<div>\n",
              "<style scoped>\n",
              "    .dataframe tbody tr th:only-of-type {\n",
              "        vertical-align: middle;\n",
              "    }\n",
              "\n",
              "    .dataframe tbody tr th {\n",
              "        vertical-align: top;\n",
              "    }\n",
              "\n",
              "    .dataframe thead th {\n",
              "        text-align: right;\n",
              "    }\n",
              "</style>\n",
              "<table border=\"1\" class=\"dataframe\">\n",
              "  <thead>\n",
              "    <tr style=\"text-align: right;\">\n",
              "      <th></th>\n",
              "      <th>sepal length</th>\n",
              "      <th>sepal width</th>\n",
              "      <th>petal length</th>\n",
              "      <th>petal width</th>\n",
              "      <th>New Feature 1</th>\n",
              "      <th>New Feature 2</th>\n",
              "      <th>class</th>\n",
              "    </tr>\n",
              "  </thead>\n",
              "  <tbody>\n",
              "    <tr>\n",
              "      <th>31</th>\n",
              "      <td>4.929869</td>\n",
              "      <td>3.4</td>\n",
              "      <td>1.5</td>\n",
              "      <td>0.4</td>\n",
              "      <td>1.582770</td>\n",
              "      <td>2.916998</td>\n",
              "      <td>1</td>\n",
              "    </tr>\n",
              "    <tr>\n",
              "      <th>94</th>\n",
              "      <td>5.944146</td>\n",
              "      <td>2.7</td>\n",
              "      <td>4.2</td>\n",
              "      <td>1.3</td>\n",
              "      <td>1.324864</td>\n",
              "      <td>3.313255</td>\n",
              "      <td>2</td>\n",
              "    </tr>\n",
              "    <tr>\n",
              "      <th>148</th>\n",
              "      <td>6.566129</td>\n",
              "      <td>3.4</td>\n",
              "      <td>5.4</td>\n",
              "      <td>2.3</td>\n",
              "      <td>1.131173</td>\n",
              "      <td>4.027495</td>\n",
              "      <td>3</td>\n",
              "    </tr>\n",
              "  </tbody>\n",
              "</table>\n",
              "</div>"
            ],
            "text/plain": [
              "     sepal length  sepal width  ...  New Feature 2  class\n",
              "31       4.929869          3.4  ...       2.916998      1\n",
              "94       5.944146          2.7  ...       3.313255      2\n",
              "148      6.566129          3.4  ...       4.027495      3\n",
              "\n",
              "[3 rows x 7 columns]"
            ]
          },
          "metadata": {
            "tags": []
          },
          "execution_count": 62
        }
      ]
    },
    {
      "cell_type": "code",
      "metadata": {
        "colab": {
          "base_uri": "https://localhost:8080/",
          "height": 261
        },
        "id": "u1jYm0AVDNQD",
        "outputId": "98032014-956b-40ea-c799-60ab360a5fa1"
      },
      "source": [
        "were_null = iris_data_clean['sepal width'].isnull()\n",
        "print(iris_data_clean[were_null])\n",
        "iris_data_clean['sepal width'].fillna(pd.DataFrame(sepal_width_impute_values, index=iris_data_clean[were_null].index)[0], inplace = True)\n",
        "print(sepal_width_impute_values)\n",
        "iris_data_clean[were_null]"
      ],
      "execution_count": 63,
      "outputs": [
        {
          "output_type": "stream",
          "text": [
            "     sepal length  sepal width  ...  New Feature 2  class\n",
            "2             4.7          NaN  ...       3.114562      1\n",
            "51            6.4          NaN  ...       3.815652      2\n",
            "132           6.4          NaN  ...       4.053020      3\n",
            "\n",
            "[3 rows x 7 columns]\n",
            "[3.32187821 3.14948886 2.81638955]\n"
          ],
          "name": "stdout"
        },
        {
          "output_type": "execute_result",
          "data": {
            "text/html": [
              "<div>\n",
              "<style scoped>\n",
              "    .dataframe tbody tr th:only-of-type {\n",
              "        vertical-align: middle;\n",
              "    }\n",
              "\n",
              "    .dataframe tbody tr th {\n",
              "        vertical-align: top;\n",
              "    }\n",
              "\n",
              "    .dataframe thead th {\n",
              "        text-align: right;\n",
              "    }\n",
              "</style>\n",
              "<table border=\"1\" class=\"dataframe\">\n",
              "  <thead>\n",
              "    <tr style=\"text-align: right;\">\n",
              "      <th></th>\n",
              "      <th>sepal length</th>\n",
              "      <th>sepal width</th>\n",
              "      <th>petal length</th>\n",
              "      <th>petal width</th>\n",
              "      <th>New Feature 1</th>\n",
              "      <th>New Feature 2</th>\n",
              "      <th>class</th>\n",
              "    </tr>\n",
              "  </thead>\n",
              "  <tbody>\n",
              "    <tr>\n",
              "      <th>2</th>\n",
              "      <td>4.7</td>\n",
              "      <td>3.321878</td>\n",
              "      <td>1.3</td>\n",
              "      <td>0.2</td>\n",
              "      <td>1.685578</td>\n",
              "      <td>3.114562</td>\n",
              "      <td>1</td>\n",
              "    </tr>\n",
              "    <tr>\n",
              "      <th>51</th>\n",
              "      <td>6.4</td>\n",
              "      <td>3.149489</td>\n",
              "      <td>4.5</td>\n",
              "      <td>1.5</td>\n",
              "      <td>1.473090</td>\n",
              "      <td>3.815652</td>\n",
              "      <td>2</td>\n",
              "    </tr>\n",
              "    <tr>\n",
              "      <th>132</th>\n",
              "      <td>6.4</td>\n",
              "      <td>2.816390</td>\n",
              "      <td>5.6</td>\n",
              "      <td>2.2</td>\n",
              "      <td>1.150044</td>\n",
              "      <td>4.053020</td>\n",
              "      <td>3</td>\n",
              "    </tr>\n",
              "  </tbody>\n",
              "</table>\n",
              "</div>"
            ],
            "text/plain": [
              "     sepal length  sepal width  ...  New Feature 2  class\n",
              "2             4.7     3.321878  ...       3.114562      1\n",
              "51            6.4     3.149489  ...       3.815652      2\n",
              "132           6.4     2.816390  ...       4.053020      3\n",
              "\n",
              "[3 rows x 7 columns]"
            ]
          },
          "metadata": {
            "tags": []
          },
          "execution_count": 63
        }
      ]
    },
    {
      "cell_type": "code",
      "metadata": {
        "colab": {
          "base_uri": "https://localhost:8080/",
          "height": 261
        },
        "id": "AX2XYGNlDbi7",
        "outputId": "58fd16da-aede-4199-d432-6900b3a631db"
      },
      "source": [
        "were_null = iris_data_clean['petal length'].isnull()\n",
        "print(iris_data_clean[were_null])\n",
        "iris_data_clean['petal length'].fillna(pd.DataFrame(petal_length_impute_values, index=iris_data_clean[were_null].index)[0], inplace = True)\n",
        "print(petal_length_impute_values)\n",
        "iris_data_clean[were_null]"
      ],
      "execution_count": 64,
      "outputs": [
        {
          "output_type": "stream",
          "text": [
            "     sepal length  sepal width  ...  New Feature 2  class\n",
            "12            4.8          3.0  ...       2.794599      1\n",
            "104           6.5          3.0  ...       4.432049      3\n",
            "141           6.9          3.1  ...       4.710281      3\n",
            "\n",
            "[3 rows x 7 columns]\n",
            "[1.48766421 5.7144479  6.02751857]\n"
          ],
          "name": "stdout"
        },
        {
          "output_type": "execute_result",
          "data": {
            "text/html": [
              "<div>\n",
              "<style scoped>\n",
              "    .dataframe tbody tr th:only-of-type {\n",
              "        vertical-align: middle;\n",
              "    }\n",
              "\n",
              "    .dataframe tbody tr th {\n",
              "        vertical-align: top;\n",
              "    }\n",
              "\n",
              "    .dataframe thead th {\n",
              "        text-align: right;\n",
              "    }\n",
              "</style>\n",
              "<table border=\"1\" class=\"dataframe\">\n",
              "  <thead>\n",
              "    <tr style=\"text-align: right;\">\n",
              "      <th></th>\n",
              "      <th>sepal length</th>\n",
              "      <th>sepal width</th>\n",
              "      <th>petal length</th>\n",
              "      <th>petal width</th>\n",
              "      <th>New Feature 1</th>\n",
              "      <th>New Feature 2</th>\n",
              "      <th>class</th>\n",
              "    </tr>\n",
              "  </thead>\n",
              "  <tbody>\n",
              "    <tr>\n",
              "      <th>12</th>\n",
              "      <td>4.8</td>\n",
              "      <td>3.0</td>\n",
              "      <td>1.487664</td>\n",
              "      <td>0.1</td>\n",
              "      <td>1.526365</td>\n",
              "      <td>2.794599</td>\n",
              "      <td>1</td>\n",
              "    </tr>\n",
              "    <tr>\n",
              "      <th>104</th>\n",
              "      <td>6.5</td>\n",
              "      <td>3.0</td>\n",
              "      <td>5.714448</td>\n",
              "      <td>2.2</td>\n",
              "      <td>1.320333</td>\n",
              "      <td>4.432049</td>\n",
              "      <td>3</td>\n",
              "    </tr>\n",
              "    <tr>\n",
              "      <th>141</th>\n",
              "      <td>6.9</td>\n",
              "      <td>3.1</td>\n",
              "      <td>6.027519</td>\n",
              "      <td>2.3</td>\n",
              "      <td>1.469114</td>\n",
              "      <td>4.710281</td>\n",
              "      <td>3</td>\n",
              "    </tr>\n",
              "  </tbody>\n",
              "</table>\n",
              "</div>"
            ],
            "text/plain": [
              "     sepal length  sepal width  ...  New Feature 2  class\n",
              "12            4.8          3.0  ...       2.794599      1\n",
              "104           6.5          3.0  ...       4.432049      3\n",
              "141           6.9          3.1  ...       4.710281      3\n",
              "\n",
              "[3 rows x 7 columns]"
            ]
          },
          "metadata": {
            "tags": []
          },
          "execution_count": 64
        }
      ]
    },
    {
      "cell_type": "code",
      "metadata": {
        "colab": {
          "base_uri": "https://localhost:8080/",
          "height": 165
        },
        "id": "o6U-_BiCDu1w",
        "outputId": "25cb4d44-ee8b-47e4-cf19-6b65e85138b1"
      },
      "source": [
        "were_null = iris_data_clean['petal width'].isnull()\n",
        "print(iris_data_clean[were_null])\n",
        "iris_data_clean['petal width'].fillna(pd.DataFrame(petal_width_impute_values, index=iris_data_clean[were_null].index)[0], inplace = True)\n",
        "print(petal_width_impute_values)\n",
        "iris_data_clean[were_null]"
      ],
      "execution_count": 65,
      "outputs": [
        {
          "output_type": "stream",
          "text": [
            "    sepal length  sepal width  ...  New Feature 2  class\n",
            "36           5.5          3.5  ...       2.034879      1\n",
            "\n",
            "[1 rows x 7 columns]\n",
            "[0.1294261]\n"
          ],
          "name": "stdout"
        },
        {
          "output_type": "execute_result",
          "data": {
            "text/html": [
              "<div>\n",
              "<style scoped>\n",
              "    .dataframe tbody tr th:only-of-type {\n",
              "        vertical-align: middle;\n",
              "    }\n",
              "\n",
              "    .dataframe tbody tr th {\n",
              "        vertical-align: top;\n",
              "    }\n",
              "\n",
              "    .dataframe thead th {\n",
              "        text-align: right;\n",
              "    }\n",
              "</style>\n",
              "<table border=\"1\" class=\"dataframe\">\n",
              "  <thead>\n",
              "    <tr style=\"text-align: right;\">\n",
              "      <th></th>\n",
              "      <th>sepal length</th>\n",
              "      <th>sepal width</th>\n",
              "      <th>petal length</th>\n",
              "      <th>petal width</th>\n",
              "      <th>New Feature 1</th>\n",
              "      <th>New Feature 2</th>\n",
              "      <th>class</th>\n",
              "    </tr>\n",
              "  </thead>\n",
              "  <tbody>\n",
              "    <tr>\n",
              "      <th>36</th>\n",
              "      <td>5.5</td>\n",
              "      <td>3.5</td>\n",
              "      <td>1.3</td>\n",
              "      <td>0.129426</td>\n",
              "      <td>1.188148</td>\n",
              "      <td>2.034879</td>\n",
              "      <td>1</td>\n",
              "    </tr>\n",
              "  </tbody>\n",
              "</table>\n",
              "</div>"
            ],
            "text/plain": [
              "    sepal length  sepal width  ...  New Feature 2  class\n",
              "36           5.5          3.5  ...       2.034879      1\n",
              "\n",
              "[1 rows x 7 columns]"
            ]
          },
          "metadata": {
            "tags": []
          },
          "execution_count": 65
        }
      ]
    },
    {
      "cell_type": "code",
      "metadata": {
        "colab": {
          "base_uri": "https://localhost:8080/",
          "height": 213
        },
        "id": "wv3V27KQD3i5",
        "outputId": "bd768ae6-0a11-4273-8638-6f4059f71546"
      },
      "source": [
        "were_null = iris_data_clean['New Feature 1'].isnull()\n",
        "print(iris_data_clean[were_null])\n",
        "iris_data_clean['New Feature 1'].fillna(pd.DataFrame(new_1_impute_values, index=iris_data_clean[were_null].index)[0], inplace = True)\n",
        "print(new_1_impute_values)\n",
        "iris_data_clean[were_null]"
      ],
      "execution_count": 66,
      "outputs": [
        {
          "output_type": "stream",
          "text": [
            "     sepal length  sepal width  ...  New Feature 2  class\n",
            "63            6.1          2.9  ...       3.287308      2\n",
            "121           5.6          2.8  ...       4.554019      3\n",
            "\n",
            "[2 rows x 7 columns]\n",
            "[1.21574035 1.40782779]\n"
          ],
          "name": "stdout"
        },
        {
          "output_type": "execute_result",
          "data": {
            "text/html": [
              "<div>\n",
              "<style scoped>\n",
              "    .dataframe tbody tr th:only-of-type {\n",
              "        vertical-align: middle;\n",
              "    }\n",
              "\n",
              "    .dataframe tbody tr th {\n",
              "        vertical-align: top;\n",
              "    }\n",
              "\n",
              "    .dataframe thead th {\n",
              "        text-align: right;\n",
              "    }\n",
              "</style>\n",
              "<table border=\"1\" class=\"dataframe\">\n",
              "  <thead>\n",
              "    <tr style=\"text-align: right;\">\n",
              "      <th></th>\n",
              "      <th>sepal length</th>\n",
              "      <th>sepal width</th>\n",
              "      <th>petal length</th>\n",
              "      <th>petal width</th>\n",
              "      <th>New Feature 1</th>\n",
              "      <th>New Feature 2</th>\n",
              "      <th>class</th>\n",
              "    </tr>\n",
              "  </thead>\n",
              "  <tbody>\n",
              "    <tr>\n",
              "      <th>63</th>\n",
              "      <td>6.1</td>\n",
              "      <td>2.9</td>\n",
              "      <td>4.7</td>\n",
              "      <td>1.4</td>\n",
              "      <td>1.215740</td>\n",
              "      <td>3.287308</td>\n",
              "      <td>2</td>\n",
              "    </tr>\n",
              "    <tr>\n",
              "      <th>121</th>\n",
              "      <td>5.6</td>\n",
              "      <td>2.8</td>\n",
              "      <td>4.9</td>\n",
              "      <td>2.0</td>\n",
              "      <td>1.407828</td>\n",
              "      <td>4.554019</td>\n",
              "      <td>3</td>\n",
              "    </tr>\n",
              "  </tbody>\n",
              "</table>\n",
              "</div>"
            ],
            "text/plain": [
              "     sepal length  sepal width  ...  New Feature 2  class\n",
              "63            6.1          2.9  ...       3.287308      2\n",
              "121           5.6          2.8  ...       4.554019      3\n",
              "\n",
              "[2 rows x 7 columns]"
            ]
          },
          "metadata": {
            "tags": []
          },
          "execution_count": 66
        }
      ]
    },
    {
      "cell_type": "code",
      "metadata": {
        "colab": {
          "base_uri": "https://localhost:8080/",
          "height": 213
        },
        "id": "efMom1w1EBJ5",
        "outputId": "95276f58-730a-4172-f7b9-7111779dabb2"
      },
      "source": [
        "were_null = iris_data_clean['New Feature 2'].isnull()\n",
        "print(iris_data_clean[were_null])\n",
        "iris_data_clean['New Feature 2'].fillna(pd.DataFrame(new_2_impute_values, index=iris_data_clean[were_null].index)[0], inplace = True)\n",
        "print(new_2_impute_values)\n",
        "iris_data_clean[were_null]"
      ],
      "execution_count": 67,
      "outputs": [
        {
          "output_type": "stream",
          "text": [
            "    sepal length  sepal width  ...  New Feature 2  class\n",
            "20           5.4          3.4  ...            NaN      1\n",
            "83           6.0          2.7  ...            NaN      2\n",
            "\n",
            "[2 rows x 7 columns]\n",
            "[2.50544283 4.01895526]\n"
          ],
          "name": "stdout"
        },
        {
          "output_type": "execute_result",
          "data": {
            "text/html": [
              "<div>\n",
              "<style scoped>\n",
              "    .dataframe tbody tr th:only-of-type {\n",
              "        vertical-align: middle;\n",
              "    }\n",
              "\n",
              "    .dataframe tbody tr th {\n",
              "        vertical-align: top;\n",
              "    }\n",
              "\n",
              "    .dataframe thead th {\n",
              "        text-align: right;\n",
              "    }\n",
              "</style>\n",
              "<table border=\"1\" class=\"dataframe\">\n",
              "  <thead>\n",
              "    <tr style=\"text-align: right;\">\n",
              "      <th></th>\n",
              "      <th>sepal length</th>\n",
              "      <th>sepal width</th>\n",
              "      <th>petal length</th>\n",
              "      <th>petal width</th>\n",
              "      <th>New Feature 1</th>\n",
              "      <th>New Feature 2</th>\n",
              "      <th>class</th>\n",
              "    </tr>\n",
              "  </thead>\n",
              "  <tbody>\n",
              "    <tr>\n",
              "      <th>20</th>\n",
              "      <td>5.4</td>\n",
              "      <td>3.4</td>\n",
              "      <td>1.7</td>\n",
              "      <td>0.2</td>\n",
              "      <td>1.426801</td>\n",
              "      <td>2.505443</td>\n",
              "      <td>1</td>\n",
              "    </tr>\n",
              "    <tr>\n",
              "      <th>83</th>\n",
              "      <td>6.0</td>\n",
              "      <td>2.7</td>\n",
              "      <td>5.1</td>\n",
              "      <td>1.6</td>\n",
              "      <td>1.313326</td>\n",
              "      <td>4.018955</td>\n",
              "      <td>2</td>\n",
              "    </tr>\n",
              "  </tbody>\n",
              "</table>\n",
              "</div>"
            ],
            "text/plain": [
              "    sepal length  sepal width  ...  New Feature 2  class\n",
              "20           5.4          3.4  ...       2.505443      1\n",
              "83           6.0          2.7  ...       4.018955      2\n",
              "\n",
              "[2 rows x 7 columns]"
            ]
          },
          "metadata": {
            "tags": []
          },
          "execution_count": 67
        }
      ]
    },
    {
      "cell_type": "markdown",
      "metadata": {
        "id": "oO3p9P3AADSa"
      },
      "source": [
        "Now that we have successfully impute the missing values lets look at our clean data."
      ]
    },
    {
      "cell_type": "code",
      "metadata": {
        "colab": {
          "base_uri": "https://localhost:8080/",
          "height": 297
        },
        "id": "KekjPHD3EKfp",
        "outputId": "1f68cbb5-106b-4967-b025-6d0052a97e3b"
      },
      "source": [
        "iris_data_clean.describe()"
      ],
      "execution_count": 68,
      "outputs": [
        {
          "output_type": "execute_result",
          "data": {
            "text/html": [
              "<div>\n",
              "<style scoped>\n",
              "    .dataframe tbody tr th:only-of-type {\n",
              "        vertical-align: middle;\n",
              "    }\n",
              "\n",
              "    .dataframe tbody tr th {\n",
              "        vertical-align: top;\n",
              "    }\n",
              "\n",
              "    .dataframe thead th {\n",
              "        text-align: right;\n",
              "    }\n",
              "</style>\n",
              "<table border=\"1\" class=\"dataframe\">\n",
              "  <thead>\n",
              "    <tr style=\"text-align: right;\">\n",
              "      <th></th>\n",
              "      <th>sepal length</th>\n",
              "      <th>sepal width</th>\n",
              "      <th>petal length</th>\n",
              "      <th>petal width</th>\n",
              "      <th>New Feature 1</th>\n",
              "      <th>New Feature 2</th>\n",
              "      <th>class</th>\n",
              "    </tr>\n",
              "  </thead>\n",
              "  <tbody>\n",
              "    <tr>\n",
              "      <th>count</th>\n",
              "      <td>150.000000</td>\n",
              "      <td>150.000000</td>\n",
              "      <td>150.000000</td>\n",
              "      <td>150.000000</td>\n",
              "      <td>150.000000</td>\n",
              "      <td>150.000000</td>\n",
              "      <td>150.000000</td>\n",
              "    </tr>\n",
              "    <tr>\n",
              "      <th>mean</th>\n",
              "      <td>5.844934</td>\n",
              "      <td>3.054585</td>\n",
              "      <td>3.764864</td>\n",
              "      <td>1.198196</td>\n",
              "      <td>1.374228</td>\n",
              "      <td>3.520468</td>\n",
              "      <td>2.000000</td>\n",
              "    </tr>\n",
              "    <tr>\n",
              "      <th>std</th>\n",
              "      <td>0.832043</td>\n",
              "      <td>0.433827</td>\n",
              "      <td>1.769349</td>\n",
              "      <td>0.763802</td>\n",
              "      <td>0.135092</td>\n",
              "      <td>0.899561</td>\n",
              "      <td>0.819232</td>\n",
              "    </tr>\n",
              "    <tr>\n",
              "      <th>min</th>\n",
              "      <td>4.300000</td>\n",
              "      <td>2.000000</td>\n",
              "      <td>1.000000</td>\n",
              "      <td>0.100000</td>\n",
              "      <td>1.120668</td>\n",
              "      <td>1.976229</td>\n",
              "      <td>1.000000</td>\n",
              "    </tr>\n",
              "    <tr>\n",
              "      <th>25%</th>\n",
              "      <td>5.100000</td>\n",
              "      <td>2.800000</td>\n",
              "      <td>1.600000</td>\n",
              "      <td>0.300000</td>\n",
              "      <td>1.269688</td>\n",
              "      <td>2.732408</td>\n",
              "      <td>1.000000</td>\n",
              "    </tr>\n",
              "    <tr>\n",
              "      <th>50%</th>\n",
              "      <td>5.800000</td>\n",
              "      <td>3.000000</td>\n",
              "      <td>4.350000</td>\n",
              "      <td>1.300000</td>\n",
              "      <td>1.382528</td>\n",
              "      <td>3.441192</td>\n",
              "      <td>2.000000</td>\n",
              "    </tr>\n",
              "    <tr>\n",
              "      <th>75%</th>\n",
              "      <td>6.400000</td>\n",
              "      <td>3.300000</td>\n",
              "      <td>5.100000</td>\n",
              "      <td>1.800000</td>\n",
              "      <td>1.472999</td>\n",
              "      <td>4.353709</td>\n",
              "      <td>3.000000</td>\n",
              "    </tr>\n",
              "    <tr>\n",
              "      <th>max</th>\n",
              "      <td>7.900000</td>\n",
              "      <td>4.400000</td>\n",
              "      <td>6.900000</td>\n",
              "      <td>2.500000</td>\n",
              "      <td>1.685578</td>\n",
              "      <td>5.104838</td>\n",
              "      <td>3.000000</td>\n",
              "    </tr>\n",
              "  </tbody>\n",
              "</table>\n",
              "</div>"
            ],
            "text/plain": [
              "       sepal length  sepal width  ...  New Feature 2       class\n",
              "count    150.000000   150.000000  ...     150.000000  150.000000\n",
              "mean       5.844934     3.054585  ...       3.520468    2.000000\n",
              "std        0.832043     0.433827  ...       0.899561    0.819232\n",
              "min        4.300000     2.000000  ...       1.976229    1.000000\n",
              "25%        5.100000     2.800000  ...       2.732408    1.000000\n",
              "50%        5.800000     3.000000  ...       3.441192    2.000000\n",
              "75%        6.400000     3.300000  ...       4.353709    3.000000\n",
              "max        7.900000     4.400000  ...       5.104838    3.000000\n",
              "\n",
              "[8 rows x 7 columns]"
            ]
          },
          "metadata": {
            "tags": []
          },
          "execution_count": 68
        }
      ]
    },
    {
      "cell_type": "code",
      "metadata": {
        "id": "eoM2HHqeEnfI"
      },
      "source": [
        "iris_data_unclean.describe()"
      ],
      "execution_count": null,
      "outputs": []
    },
    {
      "cell_type": "markdown",
      "metadata": {
        "id": "RT613DQKEpvC"
      },
      "source": [
        "We can see that the statistics of the clean data did not change too much and our imputed values were within the min and max range."
      ]
    },
    {
      "cell_type": "markdown",
      "metadata": {
        "id": "LCbcu6us-TXc"
      },
      "source": [
        "Check for duplicates"
      ]
    },
    {
      "cell_type": "code",
      "metadata": {
        "id": "wgDDpeXfj1f2"
      },
      "source": [
        "iris_data_unclean[iris_data_unclean.duplicated() == True]"
      ],
      "execution_count": null,
      "outputs": []
    },
    {
      "cell_type": "markdown",
      "metadata": {
        "id": "UJbM__OxE-dQ"
      },
      "source": [
        "No duplicates were found."
      ]
    },
    {
      "cell_type": "markdown",
      "metadata": {
        "id": "-Us4Jx97F23l"
      },
      "source": [
        "# **Part 2: Feature Generation from the original 4 feature dataset**"
      ]
    },
    {
      "cell_type": "code",
      "metadata": {
        "colab": {
          "base_uri": "https://localhost:8080/",
          "height": 204
        },
        "id": "YconMpi-GFcs",
        "outputId": "f73d4c10-66b3-49c6-8d89-913a4dc11830"
      },
      "source": [
        "iris_data_original = sns.load_dataset('iris')\n",
        "iris_data_original.head()"
      ],
      "execution_count": 69,
      "outputs": [
        {
          "output_type": "execute_result",
          "data": {
            "text/html": [
              "<div>\n",
              "<style scoped>\n",
              "    .dataframe tbody tr th:only-of-type {\n",
              "        vertical-align: middle;\n",
              "    }\n",
              "\n",
              "    .dataframe tbody tr th {\n",
              "        vertical-align: top;\n",
              "    }\n",
              "\n",
              "    .dataframe thead th {\n",
              "        text-align: right;\n",
              "    }\n",
              "</style>\n",
              "<table border=\"1\" class=\"dataframe\">\n",
              "  <thead>\n",
              "    <tr style=\"text-align: right;\">\n",
              "      <th></th>\n",
              "      <th>sepal_length</th>\n",
              "      <th>sepal_width</th>\n",
              "      <th>petal_length</th>\n",
              "      <th>petal_width</th>\n",
              "      <th>species</th>\n",
              "    </tr>\n",
              "  </thead>\n",
              "  <tbody>\n",
              "    <tr>\n",
              "      <th>0</th>\n",
              "      <td>5.1</td>\n",
              "      <td>3.5</td>\n",
              "      <td>1.4</td>\n",
              "      <td>0.2</td>\n",
              "      <td>setosa</td>\n",
              "    </tr>\n",
              "    <tr>\n",
              "      <th>1</th>\n",
              "      <td>4.9</td>\n",
              "      <td>3.0</td>\n",
              "      <td>1.4</td>\n",
              "      <td>0.2</td>\n",
              "      <td>setosa</td>\n",
              "    </tr>\n",
              "    <tr>\n",
              "      <th>2</th>\n",
              "      <td>4.7</td>\n",
              "      <td>3.2</td>\n",
              "      <td>1.3</td>\n",
              "      <td>0.2</td>\n",
              "      <td>setosa</td>\n",
              "    </tr>\n",
              "    <tr>\n",
              "      <th>3</th>\n",
              "      <td>4.6</td>\n",
              "      <td>3.1</td>\n",
              "      <td>1.5</td>\n",
              "      <td>0.2</td>\n",
              "      <td>setosa</td>\n",
              "    </tr>\n",
              "    <tr>\n",
              "      <th>4</th>\n",
              "      <td>5.0</td>\n",
              "      <td>3.6</td>\n",
              "      <td>1.4</td>\n",
              "      <td>0.2</td>\n",
              "      <td>setosa</td>\n",
              "    </tr>\n",
              "  </tbody>\n",
              "</table>\n",
              "</div>"
            ],
            "text/plain": [
              "   sepal_length  sepal_width  petal_length  petal_width species\n",
              "0           5.1          3.5           1.4          0.2  setosa\n",
              "1           4.9          3.0           1.4          0.2  setosa\n",
              "2           4.7          3.2           1.3          0.2  setosa\n",
              "3           4.6          3.1           1.5          0.2  setosa\n",
              "4           5.0          3.6           1.4          0.2  setosa"
            ]
          },
          "metadata": {
            "tags": []
          },
          "execution_count": 69
        }
      ]
    },
    {
      "cell_type": "markdown",
      "metadata": {
        "id": "HNut0YDmBp1V"
      },
      "source": [
        "I'll be using Principal Component Analysis to generate feautures. I would like to see if generating features from the sepal measurements, the petal measurements, the width measturement and the length measurements yield new features that give us insight into the data."
      ]
    },
    {
      "cell_type": "code",
      "metadata": {
        "id": "FzhmIU-bB8aN"
      },
      "source": [
        "# Peform PCA using sepal measurements.\n",
        "sepal_pca = PCA(n_components=1)\n",
        "sepal_features = iris_data_original[['sepal_length', 'sepal_width']]\n",
        "sepal_pca.fit(sepal_features)\n",
        "generated_1 = sepal_pca.transform(sepal_features)"
      ],
      "execution_count": 99,
      "outputs": []
    },
    {
      "cell_type": "code",
      "metadata": {
        "id": "E_qQqV4jEbUz"
      },
      "source": [
        "# Peform PCA using petal measurements.\n",
        "petal_pca = PCA(n_components=1)\n",
        "petal_features = iris_data_original[['petal_length', 'petal_width']]\n",
        "petal_pca.fit(petal_features)\n",
        "generated_2 = petal_pca.transform(petal_features)"
      ],
      "execution_count": 100,
      "outputs": []
    },
    {
      "cell_type": "code",
      "metadata": {
        "id": "kPqeYE65EvDH"
      },
      "source": [
        "# Perform PCA using width measurements.\n",
        "width_pca = PCA(n_components=1)\n",
        "width_features = iris_data_original[['sepal_width', 'petal_width']]\n",
        "width_pca.fit(width_features)\n",
        "generated_3 = width_pca.transform(width_features)"
      ],
      "execution_count": 101,
      "outputs": []
    },
    {
      "cell_type": "code",
      "metadata": {
        "id": "chkzfMWjFbxj"
      },
      "source": [
        "# Perform PCA using length measurements.\n",
        "length_pca = PCA(n_components=1)\n",
        "length_features = iris_data_original[['sepal_length', 'petal_length']]\n",
        "length_pca.fit(length_features)\n",
        "generated_4 = length_pca.transform(length_features)"
      ],
      "execution_count": 102,
      "outputs": []
    },
    {
      "cell_type": "code",
      "metadata": {
        "colab": {
          "base_uri": "https://localhost:8080/"
        },
        "id": "k-G4sqxrHJFm",
        "outputId": "f04fd9bb-d8da-4208-b6d7-390ad2be44a4"
      },
      "source": [
        "np.array([generated_1, generated_2, generated_3, generated_4]).T.squeeze().shape"
      ],
      "execution_count": 108,
      "outputs": [
        {
          "output_type": "execute_result",
          "data": {
            "text/plain": [
              "(150, 4)"
            ]
          },
          "metadata": {
            "tags": []
          },
          "execution_count": 108
        }
      ]
    },
    {
      "cell_type": "code",
      "metadata": {
        "colab": {
          "base_uri": "https://localhost:8080/",
          "height": 419
        },
        "id": "hxe3dyQNGL4e",
        "outputId": "12336bbe-6532-449b-e2a0-507ccd154181"
      },
      "source": [
        "# Create a dataframe of  generated features.\n",
        "generated = pd.DataFrame(data = np.array([generated_1, generated_2, generated_3, generated_4]).T.squeeze(), columns=['generated_1', 'generated_2', 'generated_3', 'generated_4'])\n",
        "generated['species'] = iris_data_original['species']\n",
        "generated"
      ],
      "execution_count": 109,
      "outputs": [
        {
          "output_type": "execute_result",
          "data": {
            "text/html": [
              "<div>\n",
              "<style scoped>\n",
              "    .dataframe tbody tr th:only-of-type {\n",
              "        vertical-align: middle;\n",
              "    }\n",
              "\n",
              "    .dataframe tbody tr th {\n",
              "        vertical-align: top;\n",
              "    }\n",
              "\n",
              "    .dataframe thead th {\n",
              "        text-align: right;\n",
              "    }\n",
              "</style>\n",
              "<table border=\"1\" class=\"dataframe\">\n",
              "  <thead>\n",
              "    <tr style=\"text-align: right;\">\n",
              "      <th></th>\n",
              "      <th>generated_1</th>\n",
              "      <th>generated_2</th>\n",
              "      <th>generated_3</th>\n",
              "      <th>generated_4</th>\n",
              "      <th>species</th>\n",
              "    </tr>\n",
              "  </thead>\n",
              "  <tbody>\n",
              "    <tr>\n",
              "      <th>0</th>\n",
              "      <td>-0.778148</td>\n",
              "      <td>-2.561012</td>\n",
              "      <td>1.082489</td>\n",
              "      <td>-2.460241</td>\n",
              "      <td>setosa</td>\n",
              "    </tr>\n",
              "    <tr>\n",
              "      <th>1</th>\n",
              "      <td>-0.935090</td>\n",
              "      <td>-2.561012</td>\n",
              "      <td>0.945140</td>\n",
              "      <td>-2.538962</td>\n",
              "      <td>setosa</td>\n",
              "    </tr>\n",
              "    <tr>\n",
              "      <th>2</th>\n",
              "      <td>-1.151308</td>\n",
              "      <td>-2.653190</td>\n",
              "      <td>1.000080</td>\n",
              "      <td>-2.709611</td>\n",
              "      <td>setosa</td>\n",
              "    </tr>\n",
              "    <tr>\n",
              "      <th>3</th>\n",
              "      <td>-1.242481</td>\n",
              "      <td>-2.468834</td>\n",
              "      <td>0.972610</td>\n",
              "      <td>-2.565116</td>\n",
              "      <td>setosa</td>\n",
              "    </tr>\n",
              "    <tr>\n",
              "      <th>4</th>\n",
              "      <td>-0.886256</td>\n",
              "      <td>-2.561012</td>\n",
              "      <td>1.109959</td>\n",
              "      <td>-2.499602</td>\n",
              "      <td>setosa</td>\n",
              "    </tr>\n",
              "    <tr>\n",
              "      <th>...</th>\n",
              "      <td>...</td>\n",
              "      <td>...</td>\n",
              "      <td>...</td>\n",
              "      <td>...</td>\n",
              "      <td>...</td>\n",
              "    </tr>\n",
              "    <tr>\n",
              "      <th>145</th>\n",
              "      <td>0.858445</td>\n",
              "      <td>1.755953</td>\n",
              "      <td>-1.074074</td>\n",
              "      <td>1.662790</td>\n",
              "      <td>virginica</td>\n",
              "    </tr>\n",
              "    <tr>\n",
              "      <th>146</th>\n",
              "      <td>0.502221</td>\n",
              "      <td>1.416510</td>\n",
              "      <td>-0.826811</td>\n",
              "      <td>1.321492</td>\n",
              "      <td>virginica</td>\n",
              "    </tr>\n",
              "    <tr>\n",
              "      <th>147</th>\n",
              "      <td>0.659163</td>\n",
              "      <td>1.639637</td>\n",
              "      <td>-0.785615</td>\n",
              "      <td>1.584069</td>\n",
              "      <td>virginica</td>\n",
              "    </tr>\n",
              "    <tr>\n",
              "      <th>148</th>\n",
              "      <td>0.326369</td>\n",
              "      <td>1.940308</td>\n",
              "      <td>-0.964195</td>\n",
              "      <td>1.649843</td>\n",
              "      <td>virginica</td>\n",
              "    </tr>\n",
              "    <tr>\n",
              "      <th>149</th>\n",
              "      <td>0.061318</td>\n",
              "      <td>1.469915</td>\n",
              "      <td>-0.593309</td>\n",
              "      <td>1.255977</td>\n",
              "      <td>virginica</td>\n",
              "    </tr>\n",
              "  </tbody>\n",
              "</table>\n",
              "<p>150 rows × 5 columns</p>\n",
              "</div>"
            ],
            "text/plain": [
              "     generated_1  generated_2  generated_3  generated_4    species\n",
              "0      -0.778148    -2.561012     1.082489    -2.460241     setosa\n",
              "1      -0.935090    -2.561012     0.945140    -2.538962     setosa\n",
              "2      -1.151308    -2.653190     1.000080    -2.709611     setosa\n",
              "3      -1.242481    -2.468834     0.972610    -2.565116     setosa\n",
              "4      -0.886256    -2.561012     1.109959    -2.499602     setosa\n",
              "..           ...          ...          ...          ...        ...\n",
              "145     0.858445     1.755953    -1.074074     1.662790  virginica\n",
              "146     0.502221     1.416510    -0.826811     1.321492  virginica\n",
              "147     0.659163     1.639637    -0.785615     1.584069  virginica\n",
              "148     0.326369     1.940308    -0.964195     1.649843  virginica\n",
              "149     0.061318     1.469915    -0.593309     1.255977  virginica\n",
              "\n",
              "[150 rows x 5 columns]"
            ]
          },
          "metadata": {
            "tags": []
          },
          "execution_count": 109
        }
      ]
    },
    {
      "cell_type": "code",
      "metadata": {
        "colab": {
          "base_uri": "https://localhost:8080/",
          "height": 455
        },
        "id": "W1w0ELY7Hvcd",
        "outputId": "d4c5d456-1b1f-4b5d-b0e8-298dff67df55"
      },
      "source": [
        "# Plot the generated features to see how well they separate the data\n",
        "sns.relplot('generated_1', 'generated_2', hue='species', data=generated)"
      ],
      "execution_count": 111,
      "outputs": [
        {
          "output_type": "stream",
          "text": [
            "/usr/local/lib/python3.6/dist-packages/seaborn/_decorators.py:43: FutureWarning: Pass the following variables as keyword args: x, y. From version 0.12, the only valid positional argument will be `data`, and passing other arguments without an explicit keyword will result in an error or misinterpretation.\n",
            "  FutureWarning\n"
          ],
          "name": "stderr"
        },
        {
          "output_type": "execute_result",
          "data": {
            "text/plain": [
              "<seaborn.axisgrid.FacetGrid at 0x7f0b2271b6d8>"
            ]
          },
          "metadata": {
            "tags": []
          },
          "execution_count": 111
        },
        {
          "output_type": "display_data",
          "data": {
            "image/png": "[encoded data removed]",
            "text/plain": [
              "<Figure size 444.75x360 with 1 Axes>"
            ]
          },
          "metadata": {
            "tags": [],
            "needs_background": "light"
          }
        }
      ]
    },
    {
      "cell_type": "code",
      "metadata": {
        "colab": {
          "base_uri": "https://localhost:8080/",
          "height": 455
        },
        "id": "HbgapM_KIKn_",
        "outputId": "24c7fdef-e6de-4d88-b175-35b471963214"
      },
      "source": [
        "sns.relplot('generated_3', 'generated_4', hue='species', data=generated)"
      ],
      "execution_count": 113,
      "outputs": [
        {
          "output_type": "stream",
          "text": [
            "/usr/local/lib/python3.6/dist-packages/seaborn/_decorators.py:43: FutureWarning: Pass the following variables as keyword args: x, y. From version 0.12, the only valid positional argument will be `data`, and passing other arguments without an explicit keyword will result in an error or misinterpretation.\n",
            "  FutureWarning\n"
          ],
          "name": "stderr"
        },
        {
          "output_type": "execute_result",
          "data": {
            "text/plain": [
              "<seaborn.axisgrid.FacetGrid at 0x7f0b2271b4e0>"
            ]
          },
          "metadata": {
            "tags": []
          },
          "execution_count": 113
        },
        {
          "output_type": "display_data",
          "data": {
            "image/png": "[encoded data removed]",
            "text/plain": [
              "<Figure size 444.75x360 with 1 Axes>"
            ]
          },
          "metadata": {
            "tags": [],
            "needs_background": "light"
          }
        }
      ]
    },
    {
      "cell_type": "markdown",
      "metadata": {
        "id": "y9xCFZdUIWgG"
      },
      "source": [
        "We can see that the generated features do a good job of separating the data. The width and length features separate the data almost perfectly. A good Support Vector Machine could easily capture the data and give execellent classification."
      ]
    },
    {
      "cell_type": "markdown",
      "metadata": {
        "id": "H35vldb2IFRV"
      },
      "source": [
        "# **Part 3: Outlier Removal**\n",
        "We shall do outlier removal on the cleaned data set from the Data Cleansing section."
      ]
    },
    {
      "cell_type": "code",
      "metadata": {
        "colab": {
          "base_uri": "https://localhost:8080/"
        },
        "id": "oI8S3YptIVPs",
        "outputId": "83b3028c-038b-4fb7-e67f-7d31423ac0a5"
      },
      "source": [
        "print('*******kurtosis*******')\n",
        "print(scp.stats.kurtosis(iris_data_clean[iris_data_clean['class'] == 1], fisher = False))\n",
        "print(scp.stats.kurtosis(iris_data_clean[iris_data_clean['class'] == 2], fisher = False))\n",
        "print(scp.stats.kurtosis(iris_data_clean[iris_data_clean['class'] == 3], fisher = False))\n",
        "print('*******standard deviation*******')\n",
        "print(iris_data_clean[iris_data_clean['class'] == 1].std().values)\n",
        "print(iris_data_clean[iris_data_clean['class'] == 2].std().values)\n",
        "print(iris_data_clean[iris_data_clean['class'] == 3].std().values)"
      ],
      "execution_count": 116,
      "outputs": [
        {
          "output_type": "stream",
          "text": [
            "*******kurtosis*******\n",
            "[2.77387878 3.72071046 3.83015685 4.21690135 2.37335706 2.20871582\n",
            " 0.        ]\n",
            "[2.43549208 2.56139601 2.92559818 2.51216741 2.28632947 2.10763232\n",
            " 0.        ]\n",
            "[2.94974043 3.52525724 2.69199224 2.33865199 2.18810602 2.30680368\n",
            " 0.        ]\n",
            "*******standard deviation*******\n",
            "[0.34800714 0.37998975 0.17329403 0.10826004 0.1391256  0.2980408\n",
            " 0.        ]\n",
            "[0.51388877 0.31246423 0.46991098 0.19775268 0.14454996 0.31399362\n",
            " 0.        ]\n",
            "[0.6334237  0.32232446 0.5513864  0.27465006 0.12078098 0.28395096\n",
            " 0.        ]\n"
          ],
          "name": "stdout"
        }
      ]
    },
    {
      "cell_type": "markdown",
      "metadata": {
        "id": "VEBqlxj2KuKN"
      },
      "source": [
        "Looking at the kurtosis values it seems that the setosa class is most prone to outliers especially in the petal width value. Virginica is also prone to outliers but not as much as Setosa. Given how little the data is, I would experiment with removing only the outlier in Setosa."
      ]
    },
    {
      "cell_type": "markdown",
      "metadata": {
        "id": "21O2aPj8O0C1"
      },
      "source": [
        "I will use Confidence Interval Outlier Removal from  Eqn 8 of the Data Processing.pdf. As suggested in the document, I will replace (mu mulower) and (muupper mu) with the standard deviation of the lower and upper samples repectively."
      ]
    },
    {
      "cell_type": "code",
      "metadata": {
        "colab": {
          "base_uri": "https://localhost:8080/",
          "height": 297
        },
        "id": "z1ox-TzoO2gx",
        "outputId": "bd68c0e9-ad8e-433e-a439-99d37534b961"
      },
      "source": [
        "setosa_data = iris_data_clean[iris_data_clean['class'] == 1]\n",
        "setosa_data.describe()"
      ],
      "execution_count": 117,
      "outputs": [
        {
          "output_type": "execute_result",
          "data": {
            "text/html": [
              "<div>\n",
              "<style scoped>\n",
              "    .dataframe tbody tr th:only-of-type {\n",
              "        vertical-align: middle;\n",
              "    }\n",
              "\n",
              "    .dataframe tbody tr th {\n",
              "        vertical-align: top;\n",
              "    }\n",
              "\n",
              "    .dataframe thead th {\n",
              "        text-align: right;\n",
              "    }\n",
              "</style>\n",
              "<table border=\"1\" class=\"dataframe\">\n",
              "  <thead>\n",
              "    <tr style=\"text-align: right;\">\n",
              "      <th></th>\n",
              "      <th>sepal length</th>\n",
              "      <th>sepal width</th>\n",
              "      <th>petal length</th>\n",
              "      <th>petal width</th>\n",
              "      <th>New Feature 1</th>\n",
              "      <th>New Feature 2</th>\n",
              "      <th>class</th>\n",
              "    </tr>\n",
              "  </thead>\n",
              "  <tbody>\n",
              "    <tr>\n",
              "      <th>count</th>\n",
              "      <td>50.000000</td>\n",
              "      <td>50.000000</td>\n",
              "      <td>50.000000</td>\n",
              "      <td>50.000000</td>\n",
              "      <td>50.000000</td>\n",
              "      <td>50.000000</td>\n",
              "      <td>50.0</td>\n",
              "    </tr>\n",
              "    <tr>\n",
              "      <th>mean</th>\n",
              "      <td>4.996597</td>\n",
              "      <td>3.420438</td>\n",
              "      <td>1.465753</td>\n",
              "      <td>0.242589</td>\n",
              "      <td>1.394913</td>\n",
              "      <td>2.497021</td>\n",
              "      <td>1.0</td>\n",
              "    </tr>\n",
              "    <tr>\n",
              "      <th>std</th>\n",
              "      <td>0.348007</td>\n",
              "      <td>0.379990</td>\n",
              "      <td>0.173294</td>\n",
              "      <td>0.108260</td>\n",
              "      <td>0.139126</td>\n",
              "      <td>0.298041</td>\n",
              "      <td>0.0</td>\n",
              "    </tr>\n",
              "    <tr>\n",
              "      <th>min</th>\n",
              "      <td>4.300000</td>\n",
              "      <td>2.300000</td>\n",
              "      <td>1.000000</td>\n",
              "      <td>0.100000</td>\n",
              "      <td>1.147873</td>\n",
              "      <td>1.976229</td>\n",
              "      <td>1.0</td>\n",
              "    </tr>\n",
              "    <tr>\n",
              "      <th>25%</th>\n",
              "      <td>4.800000</td>\n",
              "      <td>3.125000</td>\n",
              "      <td>1.400000</td>\n",
              "      <td>0.200000</td>\n",
              "      <td>1.318073</td>\n",
              "      <td>2.283013</td>\n",
              "      <td>1.0</td>\n",
              "    </tr>\n",
              "    <tr>\n",
              "      <th>50%</th>\n",
              "      <td>5.000000</td>\n",
              "      <td>3.400000</td>\n",
              "      <td>1.500000</td>\n",
              "      <td>0.200000</td>\n",
              "      <td>1.390489</td>\n",
              "      <td>2.483126</td>\n",
              "      <td>1.0</td>\n",
              "    </tr>\n",
              "    <tr>\n",
              "      <th>75%</th>\n",
              "      <td>5.175000</td>\n",
              "      <td>3.675000</td>\n",
              "      <td>1.575000</td>\n",
              "      <td>0.300000</td>\n",
              "      <td>1.505228</td>\n",
              "      <td>2.725139</td>\n",
              "      <td>1.0</td>\n",
              "    </tr>\n",
              "    <tr>\n",
              "      <th>max</th>\n",
              "      <td>5.800000</td>\n",
              "      <td>4.400000</td>\n",
              "      <td>1.900000</td>\n",
              "      <td>0.600000</td>\n",
              "      <td>1.685578</td>\n",
              "      <td>3.114562</td>\n",
              "      <td>1.0</td>\n",
              "    </tr>\n",
              "  </tbody>\n",
              "</table>\n",
              "</div>"
            ],
            "text/plain": [
              "       sepal length  sepal width  ...  New Feature 2  class\n",
              "count     50.000000    50.000000  ...      50.000000   50.0\n",
              "mean       4.996597     3.420438  ...       2.497021    1.0\n",
              "std        0.348007     0.379990  ...       0.298041    0.0\n",
              "min        4.300000     2.300000  ...       1.976229    1.0\n",
              "25%        4.800000     3.125000  ...       2.283013    1.0\n",
              "50%        5.000000     3.400000  ...       2.483126    1.0\n",
              "75%        5.175000     3.675000  ...       2.725139    1.0\n",
              "max        5.800000     4.400000  ...       3.114562    1.0\n",
              "\n",
              "[8 rows x 7 columns]"
            ]
          },
          "metadata": {
            "tags": []
          },
          "execution_count": 117
        }
      ]
    },
    {
      "cell_type": "markdown",
      "metadata": {
        "id": "5-xyEwFfPRQO"
      },
      "source": [
        "In the Setosa data set, given sepal width, petal length and petal width have the highest kurtosis numbers, I'll run the confidence interval outlier detection on those features to see which observations they detect as outliers."
      ]
    },
    {
      "cell_type": "code",
      "metadata": {
        "id": "kj83FXUcRMUX"
      },
      "source": [
        "def get_confidence_interval(feature_name, data, alpha):\n",
        "  means = data.mean()\n",
        "  upper_data = data[data[feature_name]>means[feature_name]][feature_name]\n",
        "  lower_data = data[data[feature_name]<means[feature_name]][feature_name]\n",
        "\n",
        "  lower_bound = lower_data.mean()-(alpha * lower_data.std())\n",
        "  upper_bound = upper_data.mean()+(alpha * upper_data.std())\n",
        "  return (lower_bound, upper_bound)\n"
      ],
      "execution_count": 114,
      "outputs": []
    },
    {
      "cell_type": "code",
      "metadata": {
        "colab": {
          "base_uri": "https://localhost:8080/"
        },
        "id": "CVDF0ARLSkcP",
        "outputId": "2ad00fe6-8591-4834-c2b1-944b270fb942"
      },
      "source": [
        "print(get_confidence_interval('sepal width', setosa_data, 0.75))\n",
        "print(get_confidence_interval('petal length', setosa_data, 0.75))\n",
        "print(get_confidence_interval('petal width', setosa_data, 0.75))"
      ],
      "execution_count": 118,
      "outputs": [
        {
          "output_type": "stream",
          "text": [
            "(2.9959137113973067, 3.952345978932109)\n",
            "(1.2359049653039855, 1.668694242060844)\n",
            "(0.1505755662664209, 0.4392261628933256)\n"
          ],
          "name": "stdout"
        }
      ]
    },
    {
      "cell_type": "markdown",
      "metadata": {
        "id": "-D39lhRQTc1v"
      },
      "source": [
        "Given the confidence intervals I'll retrieve all the observations that do not fit in those bounds for each."
      ]
    },
    {
      "cell_type": "code",
      "metadata": {
        "id": "YRpPq7vrTnQh"
      },
      "source": [
        "def retrieve_furthest_data_from_bound(bound, data):\n",
        "  outlier = []\n",
        "  lowest = None\n",
        "  lowest_index = None\n",
        "  highest_index = None\n",
        "  highest = None\n",
        "  for index, value in enumerate(data):\n",
        "    if value<bound[0] or value>bound[1]:\n",
        "      outlier.append(index)\n",
        "  return outlier"
      ],
      "execution_count": 119,
      "outputs": []
    },
    {
      "cell_type": "code",
      "metadata": {
        "colab": {
          "base_uri": "https://localhost:8080/",
          "height": 235
        },
        "id": "3_wBk6wdUM9I",
        "outputId": "8a9af77d-df68-4c95-dbc6-e9d8692d2b61"
      },
      "source": [
        "outlier_indices = retrieve_furthest_data_from_bound( get_confidence_interval('sepal width', setosa_data, .75), setosa_data['sepal width'])\n",
        "setosa_data.iloc[outlier_indices,:]"
      ],
      "execution_count": 121,
      "outputs": [
        {
          "output_type": "execute_result",
          "data": {
            "text/html": [
              "<div>\n",
              "<style scoped>\n",
              "    .dataframe tbody tr th:only-of-type {\n",
              "        vertical-align: middle;\n",
              "    }\n",
              "\n",
              "    .dataframe tbody tr th {\n",
              "        vertical-align: top;\n",
              "    }\n",
              "\n",
              "    .dataframe thead th {\n",
              "        text-align: right;\n",
              "    }\n",
              "</style>\n",
              "<table border=\"1\" class=\"dataframe\">\n",
              "  <thead>\n",
              "    <tr style=\"text-align: right;\">\n",
              "      <th></th>\n",
              "      <th>sepal length</th>\n",
              "      <th>sepal width</th>\n",
              "      <th>petal length</th>\n",
              "      <th>petal width</th>\n",
              "      <th>New Feature 1</th>\n",
              "      <th>New Feature 2</th>\n",
              "      <th>class</th>\n",
              "    </tr>\n",
              "  </thead>\n",
              "  <tbody>\n",
              "    <tr>\n",
              "      <th>8</th>\n",
              "      <td>4.4</td>\n",
              "      <td>2.9</td>\n",
              "      <td>1.4</td>\n",
              "      <td>0.2</td>\n",
              "      <td>1.147873</td>\n",
              "      <td>1.976229</td>\n",
              "      <td>1</td>\n",
              "    </tr>\n",
              "    <tr>\n",
              "      <th>14</th>\n",
              "      <td>5.8</td>\n",
              "      <td>4.0</td>\n",
              "      <td>1.2</td>\n",
              "      <td>0.2</td>\n",
              "      <td>1.495580</td>\n",
              "      <td>2.590192</td>\n",
              "      <td>1</td>\n",
              "    </tr>\n",
              "    <tr>\n",
              "      <th>15</th>\n",
              "      <td>5.7</td>\n",
              "      <td>4.4</td>\n",
              "      <td>1.5</td>\n",
              "      <td>0.4</td>\n",
              "      <td>1.403405</td>\n",
              "      <td>2.429602</td>\n",
              "      <td>1</td>\n",
              "    </tr>\n",
              "    <tr>\n",
              "      <th>32</th>\n",
              "      <td>5.2</td>\n",
              "      <td>4.1</td>\n",
              "      <td>1.5</td>\n",
              "      <td>0.1</td>\n",
              "      <td>1.387303</td>\n",
              "      <td>2.604690</td>\n",
              "      <td>1</td>\n",
              "    </tr>\n",
              "    <tr>\n",
              "      <th>33</th>\n",
              "      <td>5.5</td>\n",
              "      <td>4.2</td>\n",
              "      <td>1.4</td>\n",
              "      <td>0.2</td>\n",
              "      <td>1.158511</td>\n",
              "      <td>2.058600</td>\n",
              "      <td>1</td>\n",
              "    </tr>\n",
              "    <tr>\n",
              "      <th>41</th>\n",
              "      <td>4.5</td>\n",
              "      <td>2.3</td>\n",
              "      <td>1.3</td>\n",
              "      <td>0.3</td>\n",
              "      <td>1.151527</td>\n",
              "      <td>2.008274</td>\n",
              "      <td>1</td>\n",
              "    </tr>\n",
              "  </tbody>\n",
              "</table>\n",
              "</div>"
            ],
            "text/plain": [
              "    sepal length  sepal width  ...  New Feature 2  class\n",
              "8            4.4          2.9  ...       1.976229      1\n",
              "14           5.8          4.0  ...       2.590192      1\n",
              "15           5.7          4.4  ...       2.429602      1\n",
              "32           5.2          4.1  ...       2.604690      1\n",
              "33           5.5          4.2  ...       2.058600      1\n",
              "41           4.5          2.3  ...       2.008274      1\n",
              "\n",
              "[6 rows x 7 columns]"
            ]
          },
          "metadata": {
            "tags": []
          },
          "execution_count": 121
        }
      ]
    },
    {
      "cell_type": "code",
      "metadata": {
        "colab": {
          "base_uri": "https://localhost:8080/",
          "height": 359
        },
        "id": "3XRixvmGUggV",
        "outputId": "47d76760-c6b7-4fb2-b5a8-8ccc16a6f3a0"
      },
      "source": [
        "outlier_indices = retrieve_furthest_data_from_bound(get_confidence_interval('petal length', setosa_data, 0.75), setosa_data['petal length'])\n",
        "setosa_data.iloc[outlier_indices,:]"
      ],
      "execution_count": 122,
      "outputs": [
        {
          "output_type": "execute_result",
          "data": {
            "text/html": [
              "<div>\n",
              "<style scoped>\n",
              "    .dataframe tbody tr th:only-of-type {\n",
              "        vertical-align: middle;\n",
              "    }\n",
              "\n",
              "    .dataframe tbody tr th {\n",
              "        vertical-align: top;\n",
              "    }\n",
              "\n",
              "    .dataframe thead th {\n",
              "        text-align: right;\n",
              "    }\n",
              "</style>\n",
              "<table border=\"1\" class=\"dataframe\">\n",
              "  <thead>\n",
              "    <tr style=\"text-align: right;\">\n",
              "      <th></th>\n",
              "      <th>sepal length</th>\n",
              "      <th>sepal width</th>\n",
              "      <th>petal length</th>\n",
              "      <th>petal width</th>\n",
              "      <th>New Feature 1</th>\n",
              "      <th>New Feature 2</th>\n",
              "      <th>class</th>\n",
              "    </tr>\n",
              "  </thead>\n",
              "  <tbody>\n",
              "    <tr>\n",
              "      <th>5</th>\n",
              "      <td>5.4</td>\n",
              "      <td>3.9</td>\n",
              "      <td>1.7</td>\n",
              "      <td>0.4</td>\n",
              "      <td>1.325835</td>\n",
              "      <td>2.235803</td>\n",
              "      <td>1</td>\n",
              "    </tr>\n",
              "    <tr>\n",
              "      <th>13</th>\n",
              "      <td>4.3</td>\n",
              "      <td>3.0</td>\n",
              "      <td>1.1</td>\n",
              "      <td>0.1</td>\n",
              "      <td>1.314645</td>\n",
              "      <td>2.262849</td>\n",
              "      <td>1</td>\n",
              "    </tr>\n",
              "    <tr>\n",
              "      <th>14</th>\n",
              "      <td>5.8</td>\n",
              "      <td>4.0</td>\n",
              "      <td>1.2</td>\n",
              "      <td>0.2</td>\n",
              "      <td>1.495580</td>\n",
              "      <td>2.590192</td>\n",
              "      <td>1</td>\n",
              "    </tr>\n",
              "    <tr>\n",
              "      <th>18</th>\n",
              "      <td>5.7</td>\n",
              "      <td>3.8</td>\n",
              "      <td>1.7</td>\n",
              "      <td>0.3</td>\n",
              "      <td>1.432863</td>\n",
              "      <td>2.460808</td>\n",
              "      <td>1</td>\n",
              "    </tr>\n",
              "    <tr>\n",
              "      <th>20</th>\n",
              "      <td>5.4</td>\n",
              "      <td>3.4</td>\n",
              "      <td>1.7</td>\n",
              "      <td>0.2</td>\n",
              "      <td>1.426801</td>\n",
              "      <td>2.505443</td>\n",
              "      <td>1</td>\n",
              "    </tr>\n",
              "    <tr>\n",
              "      <th>22</th>\n",
              "      <td>4.6</td>\n",
              "      <td>3.6</td>\n",
              "      <td>1.0</td>\n",
              "      <td>0.2</td>\n",
              "      <td>1.318044</td>\n",
              "      <td>2.406205</td>\n",
              "      <td>1</td>\n",
              "    </tr>\n",
              "    <tr>\n",
              "      <th>23</th>\n",
              "      <td>5.1</td>\n",
              "      <td>3.3</td>\n",
              "      <td>1.7</td>\n",
              "      <td>0.5</td>\n",
              "      <td>1.481632</td>\n",
              "      <td>2.722306</td>\n",
              "      <td>1</td>\n",
              "    </tr>\n",
              "    <tr>\n",
              "      <th>24</th>\n",
              "      <td>4.8</td>\n",
              "      <td>3.4</td>\n",
              "      <td>1.9</td>\n",
              "      <td>0.2</td>\n",
              "      <td>1.364507</td>\n",
              "      <td>2.445792</td>\n",
              "      <td>1</td>\n",
              "    </tr>\n",
              "    <tr>\n",
              "      <th>35</th>\n",
              "      <td>5.0</td>\n",
              "      <td>3.2</td>\n",
              "      <td>1.2</td>\n",
              "      <td>0.2</td>\n",
              "      <td>1.538369</td>\n",
              "      <td>2.761824</td>\n",
              "      <td>1</td>\n",
              "    </tr>\n",
              "    <tr>\n",
              "      <th>44</th>\n",
              "      <td>5.1</td>\n",
              "      <td>3.8</td>\n",
              "      <td>1.9</td>\n",
              "      <td>0.4</td>\n",
              "      <td>1.507756</td>\n",
              "      <td>2.751912</td>\n",
              "      <td>1</td>\n",
              "    </tr>\n",
              "  </tbody>\n",
              "</table>\n",
              "</div>"
            ],
            "text/plain": [
              "    sepal length  sepal width  ...  New Feature 2  class\n",
              "5            5.4          3.9  ...       2.235803      1\n",
              "13           4.3          3.0  ...       2.262849      1\n",
              "14           5.8          4.0  ...       2.590192      1\n",
              "18           5.7          3.8  ...       2.460808      1\n",
              "20           5.4          3.4  ...       2.505443      1\n",
              "22           4.6          3.6  ...       2.406205      1\n",
              "23           5.1          3.3  ...       2.722306      1\n",
              "24           4.8          3.4  ...       2.445792      1\n",
              "35           5.0          3.2  ...       2.761824      1\n",
              "44           5.1          3.8  ...       2.751912      1\n",
              "\n",
              "[10 rows x 7 columns]"
            ]
          },
          "metadata": {
            "tags": []
          },
          "execution_count": 122
        }
      ]
    },
    {
      "cell_type": "code",
      "metadata": {
        "colab": {
          "base_uri": "https://localhost:8080/",
          "height": 328
        },
        "id": "sPoIn66xUgyN",
        "outputId": "c22dfeff-c069-42ee-e3ad-bb17fc384790"
      },
      "source": [
        "outlier_indices = retrieve_furthest_data_from_bound(get_confidence_interval('petal width', setosa_data, 0.75), setosa_data['petal width'])\n",
        "setosa_data.iloc[outlier_indices,:]"
      ],
      "execution_count": 123,
      "outputs": [
        {
          "output_type": "execute_result",
          "data": {
            "text/html": [
              "<div>\n",
              "<style scoped>\n",
              "    .dataframe tbody tr th:only-of-type {\n",
              "        vertical-align: middle;\n",
              "    }\n",
              "\n",
              "    .dataframe tbody tr th {\n",
              "        vertical-align: top;\n",
              "    }\n",
              "\n",
              "    .dataframe thead th {\n",
              "        text-align: right;\n",
              "    }\n",
              "</style>\n",
              "<table border=\"1\" class=\"dataframe\">\n",
              "  <thead>\n",
              "    <tr style=\"text-align: right;\">\n",
              "      <th></th>\n",
              "      <th>sepal length</th>\n",
              "      <th>sepal width</th>\n",
              "      <th>petal length</th>\n",
              "      <th>petal width</th>\n",
              "      <th>New Feature 1</th>\n",
              "      <th>New Feature 2</th>\n",
              "      <th>class</th>\n",
              "    </tr>\n",
              "  </thead>\n",
              "  <tbody>\n",
              "    <tr>\n",
              "      <th>9</th>\n",
              "      <td>4.9</td>\n",
              "      <td>3.1</td>\n",
              "      <td>1.500000</td>\n",
              "      <td>0.100000</td>\n",
              "      <td>1.401505</td>\n",
              "      <td>2.434789</td>\n",
              "      <td>1</td>\n",
              "    </tr>\n",
              "    <tr>\n",
              "      <th>12</th>\n",
              "      <td>4.8</td>\n",
              "      <td>3.0</td>\n",
              "      <td>1.487664</td>\n",
              "      <td>0.100000</td>\n",
              "      <td>1.526365</td>\n",
              "      <td>2.794599</td>\n",
              "      <td>1</td>\n",
              "    </tr>\n",
              "    <tr>\n",
              "      <th>13</th>\n",
              "      <td>4.3</td>\n",
              "      <td>3.0</td>\n",
              "      <td>1.100000</td>\n",
              "      <td>0.100000</td>\n",
              "      <td>1.314645</td>\n",
              "      <td>2.262849</td>\n",
              "      <td>1</td>\n",
              "    </tr>\n",
              "    <tr>\n",
              "      <th>23</th>\n",
              "      <td>5.1</td>\n",
              "      <td>3.3</td>\n",
              "      <td>1.700000</td>\n",
              "      <td>0.500000</td>\n",
              "      <td>1.481632</td>\n",
              "      <td>2.722306</td>\n",
              "      <td>1</td>\n",
              "    </tr>\n",
              "    <tr>\n",
              "      <th>32</th>\n",
              "      <td>5.2</td>\n",
              "      <td>4.1</td>\n",
              "      <td>1.500000</td>\n",
              "      <td>0.100000</td>\n",
              "      <td>1.387303</td>\n",
              "      <td>2.604690</td>\n",
              "      <td>1</td>\n",
              "    </tr>\n",
              "    <tr>\n",
              "      <th>34</th>\n",
              "      <td>4.9</td>\n",
              "      <td>3.1</td>\n",
              "      <td>1.500000</td>\n",
              "      <td>0.100000</td>\n",
              "      <td>1.529664</td>\n",
              "      <td>2.726084</td>\n",
              "      <td>1</td>\n",
              "    </tr>\n",
              "    <tr>\n",
              "      <th>36</th>\n",
              "      <td>5.5</td>\n",
              "      <td>3.5</td>\n",
              "      <td>1.300000</td>\n",
              "      <td>0.129426</td>\n",
              "      <td>1.188148</td>\n",
              "      <td>2.034879</td>\n",
              "      <td>1</td>\n",
              "    </tr>\n",
              "    <tr>\n",
              "      <th>37</th>\n",
              "      <td>4.9</td>\n",
              "      <td>3.1</td>\n",
              "      <td>1.500000</td>\n",
              "      <td>0.100000</td>\n",
              "      <td>1.162525</td>\n",
              "      <td>2.052630</td>\n",
              "      <td>1</td>\n",
              "    </tr>\n",
              "    <tr>\n",
              "      <th>43</th>\n",
              "      <td>5.0</td>\n",
              "      <td>3.5</td>\n",
              "      <td>1.600000</td>\n",
              "      <td>0.600000</td>\n",
              "      <td>1.318162</td>\n",
              "      <td>2.210588</td>\n",
              "      <td>1</td>\n",
              "    </tr>\n",
              "  </tbody>\n",
              "</table>\n",
              "</div>"
            ],
            "text/plain": [
              "    sepal length  sepal width  ...  New Feature 2  class\n",
              "9            4.9          3.1  ...       2.434789      1\n",
              "12           4.8          3.0  ...       2.794599      1\n",
              "13           4.3          3.0  ...       2.262849      1\n",
              "23           5.1          3.3  ...       2.722306      1\n",
              "32           5.2          4.1  ...       2.604690      1\n",
              "34           4.9          3.1  ...       2.726084      1\n",
              "36           5.5          3.5  ...       2.034879      1\n",
              "37           4.9          3.1  ...       2.052630      1\n",
              "43           5.0          3.5  ...       2.210588      1\n",
              "\n",
              "[9 rows x 7 columns]"
            ]
          },
          "metadata": {
            "tags": []
          },
          "execution_count": 123
        }
      ]
    },
    {
      "cell_type": "markdown",
      "metadata": {
        "id": "SRdolsZOVCMr"
      },
      "source": [
        "It looks like there are a bunch of potential candidates if we look at the just the furthest features given the confidence intervals. We shall marry this knowledge with the data points that are furthest from the mean given the mahalanobis distance."
      ]
    },
    {
      "cell_type": "code",
      "metadata": {
        "id": "T0CcfHxgSiFV"
      },
      "source": [
        "def calcuate_mohalanobis_distance(val, data):\n",
        "    \"\"\" Calculates the Mohalanobis distance of a value from the data mean.\n",
        "    Args: \n",
        "        val: The vale whose distance from the mean we want to calculate.\n",
        "        data: The data set.\n",
        "    \n",
        "    Returns:\n",
        "        The mahalanobis distance in D^2 form.\n",
        "    \"\"\"\n",
        "    data = np.array(data)\n",
        "    covariance = np.cov(data, rowvar=False)\n",
        "    mu = data.mean(axis = 0)\n",
        "    D = distance.mahalanobis(val, mu, np.linalg.inv(covariance))\n",
        "    return D * D"
      ],
      "execution_count": 124,
      "outputs": []
    },
    {
      "cell_type": "code",
      "metadata": {
        "id": "OtmD64HJS_yr"
      },
      "source": [
        "from sortedcontainers import SortedDict\n",
        "from scipy.spatial import distance\n",
        "def generate_distance_to_observation_mapping(data):\n",
        "    \"\"\" Generates a sorted dictionary of the item's distance from the mean to the observation \"\"\"\n",
        "    data = data.drop(columns=['class'])\n",
        "    [row_count, col_count] = data.shape\n",
        "    mapping = {}\n",
        "    for i in range(0, row_count):\n",
        "        mapping[calcuate_mohalanobis_distance(data.values[i], data.values)] = data.values[i]\n",
        "    return SortedDict(mapping) "
      ],
      "execution_count": 125,
      "outputs": []
    },
    {
      "cell_type": "code",
      "metadata": {
        "colab": {
          "base_uri": "https://localhost:8080/"
        },
        "id": "B529Isa2Uj6m",
        "outputId": "09554947-9ac6-42a9-e57d-0dd17263901a"
      },
      "source": [
        "# Mahalanobis distance sorted in ascending order.\n",
        "generate_distance_to_observation_mapping(setosa_data)"
      ],
      "execution_count": 126,
      "outputs": [
        {
          "output_type": "execute_result",
          "data": {
            "text/plain": [
              "SortedDict({0.49682610406683214: array([5.        , 3.3       , 1.4       , 0.2       , 1.40796873,\n",
              "       2.52727721]), 1.3287603022353822: array([5.3       , 3.7       , 1.5       , 0.2       , 1.34392205,\n",
              "       2.39910648]), 1.5383198338011048: array([5.2       , 3.5       , 1.5       , 0.2       , 1.50648258,\n",
              "       2.75138141]), 1.8534387118995854: array([5.        , 3.4       , 1.5       , 0.2       , 1.33102778,\n",
              "       2.2784994 ]), 1.9030249847996752: array([5.        , 3.5       , 1.3       , 0.3       , 1.43258851,\n",
              "       2.51882525]), 1.9305411447850378: array([5.4       , 3.7       , 1.5       , 0.2       , 1.34057351,\n",
              "       2.38020317]), 2.7197599213713817: array([4.8       , 3.        , 1.4       , 0.3       , 1.33509099,\n",
              "       2.33170391]), 2.7803094488073037: array([5.        , 3.6       , 1.4       , 0.2       , 1.50146433,\n",
              "       2.81560308]), 2.8889053567872893: array([5.1       , 3.4       , 1.5       , 0.2       , 1.41810069,\n",
              "       2.67417763]), 3.175454957364536: array([5.1       , 3.5       , 1.4       , 0.2       , 1.6112812 ,\n",
              "       2.98114776]), 3.481308478728449: array([4.9       , 3.        , 1.4       , 0.2       , 1.29584692,\n",
              "       2.21090849]), 3.5250673148535063: array([4.8       , 3.4       , 1.6       , 0.2       , 1.25904682,\n",
              "       2.2965532 ]), 3.6067654122711286: array([5.1       , 3.5       , 1.4       , 0.3       , 1.18188168,\n",
              "       2.0881361 ]), 3.962729182311902: array([4.6       , 3.4       , 1.4       , 0.3       , 1.52938595,\n",
              "       2.79203244]), 4.126324646625373: array([4.8       , 3.        , 1.48766421, 0.1       , 1.52636464,\n",
              "       2.7945989 ]), 4.207913043284368: array([4.7       , 3.2       , 1.6       , 0.2       , 1.51818801,\n",
              "       2.8664494 ]), 4.269395747539624: array([4.9      , 3.1      , 1.5      , 0.1      , 1.4015047, 2.4347891]), 4.275672226340915: array([5.1       , 3.7       , 1.5       , 0.4       , 1.4883978 ,\n",
              "       2.56721741]), 4.309098450721522: array([5.1       , 3.8       , 1.5       , 0.3       , 1.19363174,\n",
              "       2.10873309]), 4.40648725356194: array([4.92986945, 3.4       , 1.5       , 0.4       , 1.58276971,\n",
              "       2.91699779]), 4.555190954710107: array([5.1       , 3.8       , 1.6       , 0.2       , 1.34884658,\n",
              "       2.32188396]), 4.796135577585758: array([5.        , 3.2       , 1.2       , 0.2       , 1.53836878,\n",
              "       2.76182428]), 4.842996951370718: array([4.9       , 3.1       , 1.5       , 0.1       , 1.52966427,\n",
              "       2.72608353]), 4.8979712839526215: array([4.9       , 3.1       , 1.5       , 0.1       , 1.16252496,\n",
              "       2.05263022]), 4.948384906954842: array([4.6       , 3.1       , 1.5       , 0.2       , 1.54606365,\n",
              "       2.71497659]), 5.052759313313678: array([4.6       , 3.2       , 1.4       , 0.2       , 1.38477927,\n",
              "       2.33738095]), 5.606181860692416: array([5.2       , 3.4       , 1.4       , 0.2       , 1.39367519,\n",
              "       2.65555028]), 5.782395044976625: array([5.4       , 3.9       , 1.7       , 0.4       , 1.32583479,\n",
              "       2.23580337]), 5.820238074832454: array([5.        , 3.4       , 1.6       , 0.4       , 1.27630544,\n",
              "       2.36416583]), 5.846345391090972: array([5.4       , 3.4       , 1.7       , 0.2       , 1.42680129,\n",
              "       2.50544283]), 5.9362279886307245: array([4.7       , 3.32187821, 1.3       , 0.2       , 1.68557819,\n",
              "       3.11456249]), 6.088695954615744: array([4.4       , 2.9       , 1.4       , 0.2       , 1.14787253,\n",
              "       1.97622922]), 6.3284382915015875: array([5.        , 3.        , 1.6       , 0.2       , 1.33123942,\n",
              "       2.51312354]), 6.640835358536172: array([4.4       , 3.2       , 1.3       , 0.2       , 1.25493595,\n",
              "       2.13313103]), 6.817218528602642: array([4.8       , 3.1       , 1.6       , 0.2       , 1.35392691,\n",
              "       2.61355555]), 6.991472127352567: array([4.4       , 3.        , 1.3       , 0.2       , 1.66001154,\n",
              "       3.05862623]), 7.207345386710225: array([5.7       , 3.8       , 1.7       , 0.3       , 1.43286265,\n",
              "       2.46080847]), 7.897320928969963: array([5.7       , 4.4       , 1.5       , 0.4       , 1.403405  ,\n",
              "       2.42960237]), 8.56245135106905: array([5.5       , 3.5       , 1.3       , 0.1294261 , 1.1881484 ,\n",
              "       2.03487861]), 8.674286830867294: array([4.3       , 3.        , 1.1       , 0.1       , 1.31464473,\n",
              "       2.26284901]), 8.68924228247962: array([5.1       , 3.3       , 1.7       , 0.5       , 1.48163152,\n",
              "       2.72230626]), 8.905980142899125: array([5.1       , 3.8       , 1.9       , 0.4       , 1.50775567,\n",
              "       2.75191191]), 9.13743353713998: array([5.4       , 3.9       , 1.3       , 0.4       , 1.65160673,\n",
              "       3.04506388]), 9.325136198939372: array([5.5       , 4.2       , 1.4       , 0.2       , 1.15851139,\n",
              "       2.05859985]), 9.963296630475291: array([4.8       , 3.4       , 1.9       , 0.2       , 1.36450714,\n",
              "       2.44579168]), 10.018703722041861: array([5.2       , 4.1       , 1.5       , 0.1       , 1.38730271,\n",
              "       2.60468973]), 11.939356277101973: array([5.8       , 4.        , 1.2       , 0.2       , 1.49557971,\n",
              "       2.5901917 ]), 12.761192463147603: array([4.6       , 3.6       , 1.        , 0.2       , 1.31804369,\n",
              "       2.40620548]), 13.245309615499835: array([5.        , 3.5       , 1.6       , 0.6       , 1.3181624 ,\n",
              "       2.21058803]), 15.935354501782257: array([4.5       , 2.3       , 1.3       , 0.3       , 1.15152659,\n",
              "       2.00827363])})"
            ]
          },
          "metadata": {
            "tags": []
          },
          "execution_count": 126
        }
      ]
    },
    {
      "cell_type": "markdown",
      "metadata": {
        "id": "BbUdQFm0VimC"
      },
      "source": [
        "It looks like observation 41 is an outlier as it is outside the confidence interval looking at sepal length and is the furthest from the mean looking at it's mahalanobis distance (it can be located as the last item in the above list with a distance of 15.94). \n",
        "<p>We shall take a look at a graph of sepal width to petal length to see if removing item 41 actually removes an outlier."
      ]
    },
    {
      "cell_type": "code",
      "metadata": {
        "id": "oGS-QOO-V1WG"
      },
      "source": [
        "setosa_data_clean_outlier_removed = setosa_data.drop(41)"
      ],
      "execution_count": 127,
      "outputs": []
    },
    {
      "cell_type": "code",
      "metadata": {
        "colab": {
          "base_uri": "https://localhost:8080/",
          "height": 399
        },
        "id": "cW6sjVR1W68t",
        "outputId": "c81a4fcb-c91a-4e0e-84c7-f59db45de628"
      },
      "source": [
        "ax = sns.relplot(data=setosa_data, x='sepal width', y='petal length', hue=\"class\")\n",
        "plt.title('Before outlier removal')\n",
        "plt.show()"
      ],
      "execution_count": 136,
      "outputs": [
        {
          "output_type": "display_data",
          "data": {
            "image/png": "[encoded data removed]",
            "text/plain": [
              "<Figure size 402.375x360 with 1 Axes>"
            ]
          },
          "metadata": {
            "tags": [],
            "needs_background": "light"
          }
        }
      ]
    },
    {
      "cell_type": "code",
      "metadata": {
        "colab": {
          "base_uri": "https://localhost:8080/",
          "height": 399
        },
        "id": "vQ12KwndXSEi",
        "outputId": "36a29918-afce-4506-e5c1-7c9710bb0dfc"
      },
      "source": [
        "ax = sns.relplot(data=setosa_data_clean_outlier_removed, x='sepal width', y='petal length', hue=\"class\")\n",
        "plt.title('After outlier removal')\n",
        "plt.show()"
      ],
      "execution_count": 137,
      "outputs": [
        {
          "output_type": "display_data",
          "data": {
            "image/png": "[encoded data removed]",
            "text/plain": [
              "<Figure size 402.375x360 with 1 Axes>"
            ]
          },
          "metadata": {
            "tags": [],
            "needs_background": "light"
          }
        }
      ]
    },
    {
      "cell_type": "markdown",
      "metadata": {
        "id": "NoXCpQ0BXpYH"
      },
      "source": [
        "Looks like Item 41 was correctly removed as it was an outlier far to the left of the setosa class interval."
      ]
    },
    {
      "cell_type": "markdown",
      "metadata": {
        "id": "MxcYYXlYA-Ol"
      },
      "source": [
        "# **Data Analysis**\n",
        "Do some data analysis on provided iris_6_feature.csv dataset. I will mainly concentrate on new features 1 &2 as we have already provided statistics for the other data in Probilities.pdf."
      ]
    },
    {
      "cell_type": "code",
      "metadata": {
        "id": "_lRa1YQgopAZ",
        "colab": {
          "base_uri": "https://localhost:8080/",
          "height": 204
        },
        "outputId": "5a0d5af3-bc72-46be-d210-381c122bf8d7"
      },
      "source": [
        "# Read in six feature iris data from file.\n",
        "iris_data = pd.read_csv('/content/drive/My Drive/Colab Notebooks/EN605.621/pa2/iris_6_features.csv')\n",
        "iris_data.head()"
      ],
      "execution_count": 139,
      "outputs": [
        {
          "output_type": "execute_result",
          "data": {
            "text/html": [
              "<div>\n",
              "<style scoped>\n",
              "    .dataframe tbody tr th:only-of-type {\n",
              "        vertical-align: middle;\n",
              "    }\n",
              "\n",
              "    .dataframe tbody tr th {\n",
              "        vertical-align: top;\n",
              "    }\n",
              "\n",
              "    .dataframe thead th {\n",
              "        text-align: right;\n",
              "    }\n",
              "</style>\n",
              "<table border=\"1\" class=\"dataframe\">\n",
              "  <thead>\n",
              "    <tr style=\"text-align: right;\">\n",
              "      <th></th>\n",
              "      <th>sepal length</th>\n",
              "      <th>sepal width</th>\n",
              "      <th>petal length</th>\n",
              "      <th>petal width</th>\n",
              "      <th>New Feature 1</th>\n",
              "      <th>New Feature 2</th>\n",
              "      <th>class</th>\n",
              "    </tr>\n",
              "  </thead>\n",
              "  <tbody>\n",
              "    <tr>\n",
              "      <th>0</th>\n",
              "      <td>5.1</td>\n",
              "      <td>3.5</td>\n",
              "      <td>1.4</td>\n",
              "      <td>0.2</td>\n",
              "      <td>1.611281</td>\n",
              "      <td>2.981148</td>\n",
              "      <td>1</td>\n",
              "    </tr>\n",
              "    <tr>\n",
              "      <th>1</th>\n",
              "      <td>4.9</td>\n",
              "      <td>3.0</td>\n",
              "      <td>1.4</td>\n",
              "      <td>0.2</td>\n",
              "      <td>1.295847</td>\n",
              "      <td>2.210908</td>\n",
              "      <td>1</td>\n",
              "    </tr>\n",
              "    <tr>\n",
              "      <th>2</th>\n",
              "      <td>4.7</td>\n",
              "      <td>3.2</td>\n",
              "      <td>1.3</td>\n",
              "      <td>0.2</td>\n",
              "      <td>1.685578</td>\n",
              "      <td>3.114562</td>\n",
              "      <td>1</td>\n",
              "    </tr>\n",
              "    <tr>\n",
              "      <th>3</th>\n",
              "      <td>4.6</td>\n",
              "      <td>3.1</td>\n",
              "      <td>1.5</td>\n",
              "      <td>0.2</td>\n",
              "      <td>1.546064</td>\n",
              "      <td>2.714977</td>\n",
              "      <td>1</td>\n",
              "    </tr>\n",
              "    <tr>\n",
              "      <th>4</th>\n",
              "      <td>5.0</td>\n",
              "      <td>3.6</td>\n",
              "      <td>1.4</td>\n",
              "      <td>0.2</td>\n",
              "      <td>1.501464</td>\n",
              "      <td>2.815603</td>\n",
              "      <td>1</td>\n",
              "    </tr>\n",
              "  </tbody>\n",
              "</table>\n",
              "</div>"
            ],
            "text/plain": [
              "   sepal length  sepal width  petal length  ...  New Feature 1  New Feature 2  class\n",
              "0           5.1          3.5           1.4  ...       1.611281       2.981148      1\n",
              "1           4.9          3.0           1.4  ...       1.295847       2.210908      1\n",
              "2           4.7          3.2           1.3  ...       1.685578       3.114562      1\n",
              "3           4.6          3.1           1.5  ...       1.546064       2.714977      1\n",
              "4           5.0          3.6           1.4  ...       1.501464       2.815603      1\n",
              "\n",
              "[5 rows x 7 columns]"
            ]
          },
          "metadata": {
            "tags": []
          },
          "execution_count": 139
        }
      ]
    },
    {
      "cell_type": "code",
      "metadata": {
        "id": "ROuYBwOd1Mh4",
        "colab": {
          "base_uri": "https://localhost:8080/"
        },
        "outputId": "77a160bb-8de1-4e39-dc0a-07edc2d51490"
      },
      "source": [
        "print(iris_data[iris_data['class']==1]['New Feature 1'].mean())\n",
        "print(iris_data[iris_data['class']==2]['New Feature 1'].mean())\n",
        "print(iris_data[iris_data['class']==3]['New Feature 1'].mean())\n",
        "print(iris_data[iris_data['class']==1]['New Feature 1'].std())\n",
        "print(iris_data[iris_data['class']==2]['New Feature 1'].std())\n",
        "print(iris_data[iris_data['class']==3]['New Feature 1'].std())\n",
        "print(iris_data[iris_data['class']==1]['New Feature 1'].skew())\n",
        "print(iris_data[iris_data['class']==2]['New Feature 1'].skew())\n",
        "print(iris_data[iris_data['class']==3]['New Feature 1'].skew())"
      ],
      "execution_count": 140,
      "outputs": [
        {
          "output_type": "stream",
          "text": [
            "1.3949127076800005\n",
            "1.3663163696799998\n",
            "1.36125973236\n",
            "0.13912560387846848\n",
            "0.14320039145479316\n",
            "0.1208682912304935\n",
            "0.04883692802093161\n",
            "0.5019498960267118\n",
            "-0.28749320010094237\n"
          ],
          "name": "stdout"
        }
      ]
    },
    {
      "cell_type": "code",
      "metadata": {
        "id": "QlkocfUgphMb",
        "colab": {
          "base_uri": "https://localhost:8080/"
        },
        "outputId": "c31f4430-48d5-49fd-8f20-11d9ab933cf4"
      },
      "source": [
        "print(scp.stats.kurtosis(iris_data[iris_data['class']==1]['New Feature 1'], fisher=False))\n",
        "print(scp.stats.kurtosis(iris_data[iris_data['class']==2]['New Feature 1'], fisher=False))\n",
        "print(scp.stats.kurtosis(iris_data[iris_data['class']==3]['New Feature 1'], fisher=False))\n",
        "print(scp.stats.kurtosis(iris_data[iris_data['class']==1]['New Feature 2'], fisher=False))\n",
        "print(scp.stats.kurtosis(iris_data[iris_data['class']==2]['New Feature 2'], fisher=False))\n",
        "print(scp.stats.kurtosis(iris_data[iris_data['class']==3]['New Feature 2'], fisher=False))"
      ],
      "execution_count": 141,
      "outputs": [
        {
          "output_type": "stream",
          "text": [
            "2.373357056769759\n",
            "2.323862546352163\n",
            "2.1618139795437887\n",
            "2.176690089617361\n",
            "2.2312166376708777\n",
            "2.3068036758976938\n"
          ],
          "name": "stdout"
        }
      ]
    },
    {
      "cell_type": "markdown",
      "metadata": {
        "id": "pzpbDnXI2QLQ"
      },
      "source": [
        "No outliers in the new data.\n",
        "The kurtosis values are well below 3 and the standard deviation is minimal for each feature."
      ]
    },
    {
      "cell_type": "markdown",
      "metadata": {
        "id": "RtVpEgGXBIM6"
      },
      "source": [
        "# **Part 4: Feature Ranking**"
      ]
    },
    {
      "cell_type": "markdown",
      "metadata": {
        "id": "xD7NgrNQBPIY"
      },
      "source": [
        "Here we will be using Fisher's Linear Descriminant Ratio."
      ]
    },
    {
      "cell_type": "code",
      "metadata": {
        "id": "BW2tbURXBN_i"
      },
      "source": [
        "def calculate_fdr(data, classes):\n",
        "  fdr = 0\n",
        "  size = len(classes)\n",
        "  for i in range(1, size+1):\n",
        "    for j in range(1, size+1):\n",
        "      if(j == i):\n",
        "        continue\n",
        "      mu_i = data[data['class'] == i].drop(columns = ['class']).values.mean()\n",
        "      mu_j = data[data['class'] == j].drop(columns = ['class']).values.mean()\n",
        "      sigma_i = data[data['class'] == i].drop(columns = ['class']).values.std()\n",
        "      sigma_j = data[data['class'] == i].drop(columns = ['class']).values.std()\n",
        "      fdr = fdr + (((mu_i - mu_j)**2)/(sigma_i**2 + sigma_j**2))\n",
        "    \n",
        "  return fdr\n",
        "\n",
        "classes = [1, 2, 3]\n",
        "ranked_feature = {}\n",
        "for feature in ['sepal length', 'sepal width', 'petal length', 'petal width', 'New Feature 1', 'New Feature 2']:\n",
        "  ranked_feature[feature] = calculate_fdr(iris_data.loc[:, [feature,'class']], classes)\n",
        "ranked_feature = sorted(ranked_feature.items(), key=lambda item: item[1], reverse=True)"
      ],
      "execution_count": 142,
      "outputs": []
    },
    {
      "cell_type": "code",
      "metadata": {
        "id": "XbQq0vSrHwbx",
        "colab": {
          "base_uri": "https://localhost:8080/"
        },
        "outputId": "1f089119-b292-4c75-d7ff-61743e484557"
      },
      "source": [
        "ranked_feature"
      ],
      "execution_count": 143,
      "outputs": [
        {
          "output_type": "execute_result",
          "data": {
            "text/plain": [
              "[('petal length', 468.40464781577646),\n",
              " ('petal width', 239.38590092466657),\n",
              " ('New Feature 2', 76.27231219494898),\n",
              " ('sepal length', 19.993139845442208),\n",
              " ('sepal width', 5.730982256447015),\n",
              " ('New Feature 1', 0.11283417845297425)]"
            ]
          },
          "metadata": {
            "tags": []
          },
          "execution_count": 143
        }
      ]
    },
    {
      "cell_type": "markdown",
      "metadata": {
        "id": "wbbewZk4LnCM"
      },
      "source": [
        "Features ranking gives a result of: \n",
        "\n",
        "1.   Petal Length\n",
        "2.   Petal Width\n",
        "3.   New Feature 2\n",
        "4.   Sepal Length\n",
        "5.   Sepal Width\n",
        "6.   New Feature 1\n",
        "\n",
        "Petal Length being the best anf New Feature 1 the worst.\n",
        "\n"
      ]
    },
    {
      "cell_type": "markdown",
      "metadata": {
        "id": "--k7w66vwaCH"
      },
      "source": [
        "# **Part 5: Principal Component Analysis**"
      ]
    },
    {
      "cell_type": "code",
      "metadata": {
        "id": "KmZhV7YiwxUP"
      },
      "source": [
        "data = iris_data.drop(columns=['class']).values\n",
        "pca = PCA(n_components = 2)\n",
        "pca.fit(data)\n",
        "transformed = pca.transform(data)"
      ],
      "execution_count": 144,
      "outputs": []
    },
    {
      "cell_type": "code",
      "metadata": {
        "id": "3C3NGksVw9zc"
      },
      "source": [
        "transformed = pd.DataFrame(data = transformed, columns=['component_1', 'component_2'])"
      ],
      "execution_count": 145,
      "outputs": []
    },
    {
      "cell_type": "code",
      "metadata": {
        "id": "upp_h9KcydAr"
      },
      "source": [
        "transformed['class'] = iris_data['class']"
      ],
      "execution_count": 146,
      "outputs": []
    },
    {
      "cell_type": "code",
      "metadata": {
        "id": "AHy5dggtzsLr",
        "colab": {
          "base_uri": "https://localhost:8080/",
          "height": 455
        },
        "outputId": "6cb78757-8b7f-451e-9937-dd7ad666571f"
      },
      "source": [
        "sns.relplot('component_1', 'component_2', hue='class', data=transformed)"
      ],
      "execution_count": 147,
      "outputs": [
        {
          "output_type": "stream",
          "text": [
            "/usr/local/lib/python3.6/dist-packages/seaborn/_decorators.py:43: FutureWarning: Pass the following variables as keyword args: x, y. From version 0.12, the only valid positional argument will be `data`, and passing other arguments without an explicit keyword will result in an error or misinterpretation.\n",
            "  FutureWarning\n"
          ],
          "name": "stderr"
        },
        {
          "output_type": "execute_result",
          "data": {
            "text/plain": [
              "<seaborn.axisgrid.FacetGrid at 0x7f0b1f17a320>"
            ]
          },
          "metadata": {
            "tags": []
          },
          "execution_count": 147
        },
        {
          "output_type": "display_data",
          "data": {
            "image/png": "[encoded data removed]",
            "text/plain": [
              "<Figure size 402.375x360 with 1 Axes>"
            ]
          },
          "metadata": {
            "tags": [],
            "needs_background": "light"
          }
        }
      ]
    },
    {
      "cell_type": "markdown",
      "metadata": {
        "id": "NFiBDVO0MavV"
      },
      "source": [
        "# Part 6: Classification"
      ]
    },
    {
      "cell_type": "markdown",
      "metadata": {
        "id": "bd556mS91HmZ"
      },
      "source": [
        "## **Bayes Classifier**"
      ]
    },
    {
      "cell_type": "markdown",
      "metadata": {
        "id": "FScJkBiLyDiU"
      },
      "source": [
        "Separate the data into training set and testing set."
      ]
    },
    {
      "cell_type": "code",
      "metadata": {
        "colab": {
          "base_uri": "https://localhost:8080/"
        },
        "id": "dcbIq4FVaCUX",
        "outputId": "3488479a-262b-4d39-851c-4ea923b2d0f5"
      },
      "source": [
        "from sklearn.model_selection import train_test_split\n",
        "\n",
        "rows_count, columns_count = iris_data.shape\n",
        "train_features, test_features, train_classes, test_classes = train_test_split (\n",
        "    iris_data.values[:, 0: columns_count-1], iris_data.values[:, -1], test_size = 0.2, random_state=42)\n",
        "print(train_features.shape)\n",
        "print(test_features.shape)\n",
        "print(train_classes.shape)\n",
        "print(test_classes.shape)"
      ],
      "execution_count": 180,
      "outputs": [
        {
          "output_type": "stream",
          "text": [
            "(120, 6)\n",
            "(30, 6)\n",
            "(120,)\n",
            "(30,)\n"
          ],
          "name": "stdout"
        }
      ]
    },
    {
      "cell_type": "markdown",
      "metadata": {
        "id": "yWafFwfeygVV"
      },
      "source": [
        "Fit this data into the a Normal distribution by using the Gaussian Mixture Model for expectation maximization. We will get the mean and standard deviation for this data and then use the below bayesian classifier.\n",
        "![Screen Shot 2020-11-01 at 7.32.54 AM.png](data:image/png;base64,iVBORw0KGgoAAAANSUhEUgAABDoAAACuCAYAAADXlW3/AAAMY2lDQ1BJQ0MgUHJvZmlsZQAASImVVwdYU8kWnltSSWiBCEgJvYkiNYCUEFoEAamCqIQkkFBiTAgqdnRZBdcuoljRVRFFV1dA1oKIa10Ue99YUFHWxVVsqLwJCei6r3zvfN/c+XPmzH9KZu6dAUBPxZfJ8lF9AAqkhfKEyFDWuLR0FukRoAITwACOYChfoJBx4uNjAJSB/u/y5hpA1P1lNzXXP8f/qxgKRQoBAEgGxFlChaAA4mYA8BKBTF4IADEM6m2nFsrUWAyxkRwGCPFMNc7R4GVqnKXB2/ptkhK4EDcCQKbx+fIcAHRboZ5VJMiBPLqPIHaXCiVSAPSMIA4SiPlCiJMgHlZQMFmN50LsBO1lEO+EmJ31FWfO3/izBvn5/JxBrMmrX8hhEoUsnz/9/yzN/5aCfOWADwfYaGJ5VII6f1jDG3mTo9WYBnGXNCs2Tl1riN9JhJq6A4BSxcqoZI09ai5QcGH9ABNidyE/LBpic4gjpPmxMVp9VrYkggcxXC3oNEkhL0k7d6FIEZ6o5Vwvn5wQN4Cz5VyOdm4dX97vV23fqsxL5mj5b4hFvAH+18XipFSIqQBg1CJJSizEuhAbKfISozU2mE2xmBs7YCNXJqjjt4OYLZJGhmr4sYxseUSC1l5WoBjIFysVS3ixWlxZKE6K0tQH2yXg98dvAnG9SMpJHuARKcbFDOQiFIWFa3LH2kTSZG2+2D1ZYWiCdm63LD9ea4+TRfmRar0NxGaKokTtXHxUIVycGn48RlYYn6SJE8/M5Y+O18SDF4EYwAVhgAWUsGWBySAXSNq6GrrgL81IBOADOcgBIuCm1QzMSO0fkcJnIigGf0AkAorBeaH9oyJQBPWfBrWapxvI7h8t6p+RBx5DXACiQT78reyfJR30lgIeQY3kH94FMNZ82NRj/9RxoCZGq1EO8LL0BiyJ4cQwYhQxguiMm+FBeAAeA58hsHngbNxvINov9oTHhHbCA8JVgopwc5KkRP5NLGOACvJHaDPO+jpj3AFyeuOheCBkh8w4EzcDbrgX9MPBg6Fnb6jlauNW5876N3kOZvBVzbV2FHcKShlCCaE4fTtT10XXe5BFXdGv66OJNWuwqtzBkW/9c7+qsxD20d9aYguxA9gp7Dh2BjuMNQAWdgxrxM5jR9R4cA096l9DA94S+uPJgzySf/jja32qK6lwr3XvdP+oHQOFommF6g3GnSybLpfkiAtZHPgVELF4UsHwYSwPdw93ANTfFM1r6hWz/1uBMM9+0c2HezlQ2tfXd/iLLvoDAD9bw22u+qJzvARfB/B9fHq5QCkv0uhw9YMA3wZ6cEeZAktgC5xgRh7ABwSAEBAORoM4kATSwERYZzFcz3IwFcwE80ApKAfLwGqwDmwCW8FOsAfsBw3gMDgOfgXnwEVwFdyG66cDPAfd4A3oRRCEhNARBmKKWCH2iCvigbCRICQciUESkDQkE8lBpIgSmYnMR8qRFcg6ZAtSg/yEHEKOI2eQduQmch/pRP5CPqAYSkONUAvUAR2BslEOGo0moRPQHHQKWowuQJeglWg1uhutR4+j59CrqAp9jvZgANPBmJg15oaxMS4Wh6Vj2Zgcm42VYRVYNVaHNcF/+jKmwrqw9zgRZ+As3A2u4Sg8GRfgU/DZ+GJ8Hb4Tr8db8cv4fbwb/0ygE8wJrgR/Ao8wjpBDmEooJVQQthMOEk7C3dRBeEMkEplER6Iv3I1pxFziDOJi4gbiXmIzsZ34kNhDIpFMSa6kQFIciU8qJJWS1pJ2k46RLpE6SO/IOmQrsgc5gpxOlpJLyBXkXeSj5EvkJ+Reij7FnuJPiaMIKdMpSynbKE2UC5QOSi/VgOpIDaQmUXOp86iV1DrqSeod6isdHR0bHT+dsToSnbk6lTr7dE7r3Nd5TzOkudC4tAyakraEtoPWTLtJe0Wn0x3oIfR0eiF9Cb2GfoJ+j/5Ol6E7XJenK9Sdo1ulW697SfeFHkXPXo+jN1GvWK9C74DeBb0ufYq+gz5Xn68/W79K/5D+df0eA4bBSIM4gwKDxQa7DM4YPDUkGToYhhsKDRcYbjU8YfiQgTFsGVyGgDGfsY1xktFhRDRyNOIZ5RqVG+0xajPqNjY09jJOMZ5mXGV8xFjFxJgOTB4zn7mUuZ95jflhiMUQzhDRkEVD6oZcGvLWZKhJiInIpMxkr8lVkw+mLNNw0zzT5aYNpnfNcDMXs7FmU802mp006xpqNDRgqGBo2dD9Q2+Zo+Yu5gnmM8y3mp8377GwtIi0kFmstThh0WXJtAyxzLVcZXnUstOKYRVkJbFaZXXM6hnLmMVh5bMqWa2sbmtz6yhrpfUW6zbrXhtHm2SbEpu9NndtqbZs22zbVbYttt12VnZj7Gba1drdsqfYs+3F9mvsT9m/dXB0SHX43qHB4amjiSPPsdix1vGOE90p2GmKU7XTFWeiM9s5z3mD80UX1MXbRexS5XLBFXX1cZW4bnBtH0YY5jdMOqx62HU3mhvHrcit1u3+cObwmOElwxuGvxhhNyJ9xPIRp0Z8dvd2z3ff5n57pOHI0SNLRjaN/MvDxUPgUeVxxZPuGeE5x7PR86WXq5fIa6PXDW+G9xjv771bvD/5+PrIfep8On3tfDN91/teZxux49mL2af9CH6hfnP8Dvu99/fxL/Tf7/9ngFtAXsCugKejHEeJRm0b9TDQJpAfuCVQFcQKygzaHKQKtg7mB1cHPwixDRGGbA95wnHm5HJ2c16EuofKQw+GvuX6c2dxm8OwsMiwsrC2cMPw5PB14fcibCJyImojuiO9I2dENkcRoqKjlkdd51nwBLwaXvdo39GzRrdG06ITo9dFP4hxiZHHNI1Bx4wes3LMnVj7WGlsQxyI48WtjLsb7xg/Jf6XscSx8WOrxj5OGJkwM+FUIiNxUuKuxDdJoUlLk24nOyUrk1tS9FIyUmpS3qaGpa5IVY0bMW7WuHNpZmmStMZ0UnpK+vb0nvHh41eP78jwzijNuDbBccK0CWcmmk3Mn3hkkt4k/qQDmYTM1MxdmR/5cfxqfk8WL2t9VreAK1gjeC4MEa4SdooCRStET7IDs1dkP80JzFmZ0ykOFleIuyRcyTrJy9yo3E25b/Pi8nbk9eWn5u8tIBdkFhySGkrzpK2TLSdPm9wuc5WVylRT/KesntItj5ZvVyCKCYrGQiN4eD+vdFJ+p7xfFFRUVfRuasrUA9MMpkmnnZ/uMn3R9CfFEcU/zsBnCGa0zLSeOW/m/VmcWVtmI7OzZrfMsZ2zYE7H3Mi5O+dR5+XN+63EvWRFyev5qfObFlgsmLvg4XeR39WW6pbKS69/H/D9poX4QsnCtkWei9Yu+lwmLDtb7l5eUf5xsWDx2R9G/lD5Q9+S7CVtS32WblxGXCZddm158PKdKwxWFK94uHLMyvpVrFVlq16vnrT6TIVXxaY11DXKNarKmMrGtXZrl639uE687mpVaNXe9ebrF61/u0G44dLGkI11myw2lW/6sFmy+caWyC311Q7VFVuJW4u2Pt6Wsu3Uj+wfa7abbS/f/mmHdIdqZ8LO1hrfmppd5ruW1qK1ytrO3Rm7L+4J29NY51a3ZS9zb/k+sE+579lPmT9d2x+9v+UA+0Ddz/Y/rz/IOFhWj9RPr+9uEDeoGtMa2w+NPtTSFNB08Jfhv+w4bH246ojxkaVHqUcXHO07Vnysp1nW3HU85/jDlkktt0+MO3GldWxr28nok6d/jfj1xCnOqWOnA08fPuN/5tBZ9tmGcz7n6s97nz/4m/dvB9t82uov+F5ovOh3sal9VPvRS8GXjl8Ou/zrFd6Vc1djr7ZfS75243rGddUN4Y2nN/NvvrxVdKv39tw7hDtld/XvVtwzv1f9u/Pve1U+qiP3w+6ff5D44PZDwcPnjxSPPnYseEx/XPHE6knNU4+nhzsjOi8+G/+s47nseW9X6R8Gf6x/4fTi5z9D/jzfPa6746X8Zd9fi1+Zvtrx2ut1S098z703BW9635a9M3238z37/akPqR+e9E79SPpY+cn5U9Pn6M93+gr6+mR8Ob//KIDBhmZnA/DXDgDoaQAwLsLzw3jNna9fEM09tR+B/4Q198J+8QGgDnbq4zq3GYB9sDnMhdywqY/qSSEA9fQcbFpRZHt6aLho8MZDeNfX98oCAFITAJ/kfX29G/r6PsE7KnYTgOYpmrumWojwbrBZfdcFN1dOmAu+Ec099Kscv+2BOgIv8G3/LzhsiaNc/semAAAAimVYSWZNTQAqAAAACAAEARoABQAAAAEAAAA+ARsABQAAAAEAAABGASgAAwAAAAEAAgAAh2kABAAAAAEAAABOAAAAAAAAAJAAAAABAAAAkAAAAAEAA5KGAAcAAAASAAAAeKACAAQAAAABAAAEOqADAAQAAAABAAAArgAAAABBU0NJSQAAAFNjcmVlbnNob3RfOsuIAAAACXBIWXMAABYlAAAWJQFJUiTwAAAB12lUWHRYTUw6Y29tLmFkb2JlLnhtcAAAAAAAPHg6eG1wbWV0YSB4bWxuczp4PSJhZG9iZTpuczptZXRhLyIgeDp4bXB0az0iWE1QIENvcmUgNS40LjAiPgogICA8cmRmOlJERiB4bWxuczpyZGY9Imh0dHA6Ly93d3cudzMub3JnLzE5OTkvMDIvMjItcmRmLXN5bnRheC1ucyMiPgogICAgICA8cmRmOkRlc2NyaXB0aW9uIHJkZjphYm91dD0iIgogICAgICAgICAgICB4bWxuczpleGlmPSJodHRwOi8vbnMuYWRvYmUuY29tL2V4aWYvMS4wLyI+CiAgICAgICAgIDxleGlmOlBpeGVsWERpbWVuc2lvbj4xMDgyPC9leGlmOlBpeGVsWERpbWVuc2lvbj4KICAgICAgICAgPGV4aWY6VXNlckNvbW1lbnQ+U2NyZWVuc2hvdDwvZXhpZjpVc2VyQ29tbWVudD4KICAgICAgICAgPGV4aWY6UGl4ZWxZRGltZW5zaW9uPjE3NDwvZXhpZjpQaXhlbFlEaW1lbnNpb24+CiAgICAgIDwvcmRmOkRlc2NyaXB0aW9uPgogICA8L3JkZjpSREY+CjwveDp4bXBtZXRhPgrt1cdgAAAAHGlET1QAAAACAAAAAAAAAFcAAAAoAAAAVwAAAFcAAD2FOrI3ogAAPVFJREFUeAHsnQn8ZlP9x4+/SraKCoOMQWMtsoQoDYWsZc+IEENZkn0dRgohtNhSDGPLZG9SMiVLZEuyM5NtSlSmjbb7/74P57rPfe69z73P9nuWz3m9fr/nec4599xzPnc9n/P9fr5zRJackhAQAkJACAgBISAEhIAQEAJCQAgIASEgBAYAgTlEdAzAUdQQhIAQEAJCQAgIASEgBISAEBACQkAICAGPgIgOnQhCQAgIASEgBISAEBACQkAICAEhIASEwMAgIKJjYA6lBiIEhIAQEAJCQAgIASEgBISAEBACQkAIiOjQOSAEhIAQEAJCQAgIASEgBISAEBACQkAIDAwCIjoG5lBqIEJACAgBISAEhIAQEAJCQAgIASEgBISAiA6dA0JACAgBISAEhIAQEAJCQAgIASEgBITAwCAgomNgDqUGIgSEgBAQAkJACAgBISAEhIAQEAJCQAiI6NA5IASEgBAQAkJACAgBISAEhIAQEAJCQAgMDAIiOgbmUGogQkAICAEhIASEgBAQAkJACAgBISAEhICIDp0DQkAICAEhIASEgBAQAkJACAgBISAEhMDAICCiY2AOpQYiBISAEBACQkAICAEhIASEgBAQAkJACIjo0DkgBISAEBACQkAICAEhIASEgBAQAkJACAwMAiI6BuZQaiBCQAgIASEgBISAEBACQkAICAEhIASEgIgOnQNCQAgIASEgBISAEBACQkAICAEhIASEwMAgIKJjYA6lBiIEhIAQEAJCQAgIASEgBISAEBACQkAIiOjQOSAEhIAQEAJCQAgIASEgBISAEBACQkAIDAwCIjoG5lBqIEJACAgBISAEhIAQEAJCQAgIASEgBISAiA6dA0JACAgBISAEhIAQEAJCQAgIASEgBITAwCAgomNgDqUGIgSEgBAQAkJACAgBISAEhIAQEAJCQAiI6NA5IASEgBAQAkJACAgBISAEhIAQEAJCQAgMDAIiOgbmUGogQkAICAEh0G8ITJs2zd1xxx2Z3d58883dGmuskVmmTCEgBISAEBgMBKZOnep+/etfZw5mzz33dIsvvnhmmTKFgBAoRkBERzE+KhUCQkAICAEh0DEEDjjgAHf66adntn/22We7CRMmZJYpUwgIASEgBAYDgZ122slNmTIlczBXXHGF23bbbTPLlCkEhEAxAiI6ivFRqRAQAkJACAiBjiEQiA5ecseOHVuznxVXXNHNPffcNXn6IQQGBYHZs2e7//3vf5WG89a3vtXxpyQEBgmBGTNmuJdeeqlmSNddd52bNGmSE9FRA4t+CIFKCIjoqASXKgsBISAEhIAQaB8Cgeh49NFH64iO9u1FLQmB3kLge9/7ntttt918p+acc04377zzegLj5Zdfdq+++qrPX3DBBR1l//rXvxz5pHHjxrmbb77Zf9c/ITDICIRrRETHIB9lja3TCIjo6DTCal8ICAEhIASEQA4CIjpygFH2QCPw0Y9+1P3ud79z5513nicvIDRIu+yyi5s8ebL/vOCCC3we/x555BG3ySabuHXWWcdddNFFcb6+CIFBRUBEx6AeWY2rmwiI6Ogm2tqXEBACQkAICIEEAiI6EmDo61Ag8Mwzz7ill17a3X///W6FFVaoGfOSSy7pCZBLL73U7bDDDjVle+21lxs1apSbOHFiTb5+CIFBREBExyAeVY2p2wiI6Og24tqfEBACQkAICIHXERDRoVNh2BA4+eST3T333OMuv/zymqHPnDnTjRkzxufNmjXLLbLIIjXlWHtsuOGGbvz48TX5+iEEBhEBER2DeFQ1pm4jIKKj24hrf0JACAgBISAEXkdARIdOhWFDYN9993VEmVhzzTVrho6ryq677uqWW2459/DDD9eU8WPvvfd2hxxySEyG1FVQhhAYIAREdAzQwdRQRgwBER0jBr12LASEgBAQAsOOgIiOYT8DNP6AQNDnwEXlrLPOCtkD8/ncc885SJ7tt9/e/w3MwDSQjiAgoqMjsKrRIUNARMeQHXANVwgIgd5BgBcZhPUURaB3jkm3ezJoREe7z+n//Oc/7pxzznFbb711nStDt4+V9lePwBNPPOFuu+02Lx5aX1otZ/To0e7pp5/2Li3bbbddtY17tPbdd9/tzj//fPfkk0+66dOnO87nr3zlK+7www9vqcfomyDQmtYxaalRbdwWBNp1TYjoaMvhUCNDjoCIjiE/ATR8ISAEuovA8ccf7wglyuQAn/S3vOUtcTjF7vZEe+sFBAaB6OjUOU1YUQgO9BwefPBBR7hRpd5CABeT1Vdf3e28884tWWHMmDHDLbXUUn5wv//9793CCy/cWwNtsje/+c1v3M9+9jPvjsP3Aw88sGWi46abbnJbbrmlO+qoo1omTJocljYrQKBd14SIjgKQVSQESiIgoqMkUKomBISAEGgHAueee64nNwivuMYaa7jZs2eL6GgHsH3axiAQHZ06p1nVnzp1qvvJT37i1l9//T49woPfbSKk7Ljjju7QQw91J554YlMDDpM6orD89re/baqNXt/oW9/6lttnn31aIjp+9atfOZ4da621lr8u/u///q/Xhz2U/WvnNXHFFVe4bbfddihx1KCFQMsIREpCQAj0HQK2+hW9/PLLPdXvP/zhDxF/SuUReNe73hWZRUf5DVRz4BD44he/GNmDPDIrn4EYW7vOaXNX8bgceeSRA4HLoA8inMc33HBDU0P9zGc+44/35z//+aa274eNvvnNb/oxmutKU939+9//Hi2zzDLRu9/97uj5559vqg1t1D0EWr0mvvvd7/rzxYiO7nVaexICA4aALDpaporUgBDoLgLf//73vT/0T3/6U7f22mt3d+cFe0Nrwh7s7vrrr++pfhV0ecSL7IVVFh0jfhRGtgODYNGRRLAd5zRuDO9///vdiiuu6F285pxzzuQu9L0HEfjnP//p3TPe9KY3eYuMt771rZV6ucQSS7hnnnnGDfLqdasWHViD0MZ1113nNttss0r4qnL3EWj1mghWToN8TXT/qGiPw4aAiI5hO+Iab0cRQIQK/QUjRBvuZ4EFFnBLLrmkW3TRRd0cc8zRsD4VrrrqKrfNNtu4iRMnumOOOabUNlR69dVX3bRp0/z2jz/+uBd8+9///ud9ojfddFMftu8d73iHb4+XqBNOOMH98pe/LN1+qDhhwgR38cUXu1tvvdV94AMfCNn6zEGgHZPCnKaV3ScIiOioP1C4qSDcCGnK/UmpPxCYMmWKDxvLs+m4444r3emnnnrKLb300r7+Cy+84Lgvlk1m2eDuu+++Us/cvDbf/va3uw9/+MN5xW3Lb4XoQOeD62K11VZzuK8o9QcCzV4TjE5ER38cY/WyxxEYMAsVDUcIjCgCu+++e2QrWd7c0C79+NNWuaL555/f/80333xxPnXe+973RhZKr2G/TcgsYtuPf/zj0X//+9+G9anwyiuvREZaREZi+H2+853vjIyMiM4444zI/OojzIRN9C0aO3ZshDvML37xi2juueeOTOisVPvpSuxv1VVXjd7znvdEJiiXLtbvFALtMvNPNauffYRAMG+W68prB81Eev29inuSkbF9dCTV1X//+9/R4osvHs0111yRkf6lALFV72i//fbzx3yxxRaL/vGPf5TaLlSaNGlSzfOUZ2p41iY/55133rp64RnNfruRWnFd4blPf20hoRtd1T7ahEAz10TYtVxXAhL6FALNIwALriQEhECbEXjsscfil6oxY8Z4wiG5CwgBCw8Xffazn43rmZBbskrNd4gNs5CIRo0aVVoH45ZbbonYNy9HkBf4vJtlR027/MDX90Mf+lAECWIrW77+aaedVlevbIatznmyx8Leld1kaOuJ6BjaQx8PXERHDIX/YgKk/h7EpFCp/xCwCDz++O2///6FnafePPPM40kJs270zx8+IfMhSr7xjW8Ubh8KzQLEk/WBtNhwww1zCTKefzzvLORrxHUXnncm6Fn3bPzUpz4VmZVJpb+VVlopeumll0LX6j6bJTpMnNVjatafkUUiqmtXGb2NQNlrIj0KER1pRPRbCFRHQK4r9nRUEgLtRuDaa6/14d9o94gjjvCuIHn7+OQnP+muueYaX/yjH/3IbbTRRnVVv/Od77g99tjDff3rX/c6GHUVUhkXXnih23PPPR3hGTEJJnLByiuvnKr1xk/Mf6lnBIzPvPfee1tyPdlrr72cESve/ByFeKVsBOS6ko3LMOXKdeWNo/3ss886I2fdm9/8ZvfHP/7R2Sr8G4X61hcIPPLII2755Zd3iyyyiON4dkNfJfm8BSQjFNwXvvCFhnjx3EMLxsgJh0unCX3G2/z85z93aMVUSbag4IgUlOeK2qzryt577+3OPvtsd/TRRzuzYKnSJdXtAQSavSbkutIDB09d6H8EqnMj2kIICIFGCNjkxa/A2B0i+vGPf1xYnZUr6vH3pS99qa4u1h+4l7DS9Ze//KWuPJ2BG0xob5NNNon+/Oc/p6tk/rYXQ78dbi5lXWMyG7JMLFpYJfvgBz+YV0X5hoAsOnQayKLjjXPgpJNO8vcg00t4I1Pf+g6BZZdd1h/HRs++dg5st912i597WDDa5LJU8ybu7bezEMal6rdSqRmLDlwfcMHhmW4C5K3sXtuOIALNXBOy6BjBA6ZdDwwCcl0ZmEOpgfQSAriZ8GJiK5PR3/72t8KuEWouEBMmNFpX9/LLL/flZcLu8bKGHgjtYXZLOLqyafLkyX47U3Mvu0lhvc0339y3h4uOUjYCIjqycRmmXBEdbxxtEx7194xDDjnkjUx96zsE0KriGbTrrrt2re+zZ8+OTNzb75d9r7HGGhEkQaMEqf+2t70tMqvJRlVbLm+G6DDhUT8ms4yJ/vrXv7bcBzUwMgg0c02I6BiZY6W9DhYCIjoG63hqND2AABYUWDPwsoX2RaOE1QV1+TPz1LrqG2+8sS+zKCh1ZckMfIPR2aAdM52Npk+fnixu+N0ipfhtv/a1rzWsW6ZCsCzZd999y1QfyjoiOobysNcMWkTHa3Aw4QyiyRZdqgYj/egvBMzF0j9LzBWkqx23yCTxs5fn4LHHHltq/zxjjzrqqFJ1m62EPkiY7G6//fYRIqxlEnpZjMVcT8tUV50eRaCZa0JER48eTHWrrxCQRoc9QZSEQDsRSPoLN9Ln+MMf/uAsQomzlSfvyzxz5kxnqvVxd9DMIPQdyVZz3Fve8pa4LP3FCAXvm0y+iZz60GTpOkW/77nnHrf66qv70HV8tppMQM2ZOJuzqDLOXFlabW7gtscnfIUVVnD/+c9/fHhENFTyfLsHbvAtDshWb91dd93lQzmjBWATlbbrORB+2UhL77/Pp7lh+eNjFlrenx/9G87tBRdcsKXRDJJGRyvn9AMPPBDrCFnEJmfuepm4mtWa49iYYKUz6zVnBIm/f3KvXGeddRxhu0kmOOmPnUXB8vdWjhdhtk2ssiu6EZmd73CmTZ7d+eef78zF0ZkFYO65SQhXdJjWXnvt+PnSzq6Zi4X72Mc+5q8Xnlvd1Fo56KCD3KmnnuqHw/lx++23O7PuKBweGlZoiaCX1e5EKNj11lvP2eKH155hP+Gc5TwmnPsGG2yQu9utttrKh4VH98oWDzLrPf30086isjnOdd4ReI7wTsH5Pnr0aK+ZwoYcCxMpd2iJUI/9c86YJYwz14rMtgch88477/Shqm3hyX3iE5/IHBJYUI/7ikWOy6zTSmYz14Q0OlpBXNsKgdcR6CtaRp0VAn2AADobdnn5v0Y+ykm/4vPOO69udKxQ0VYjrQsjSGKXFerbS2xdW40yHn744WjrrbeObOLdqGqpcntxiGwS6Ps/a9asUtsMQ6UtttjCRxvAXBp8+MMHG7/ycePGDQMETY8R0+2ddtrJr9oS4YAwyISN5O/ggw+Ooy387ne/i4wAiewl34dvXmqppSJCSGLxFM5FQimjfYO5OyvPSyyxhNdMsZfd6IorrqhZGeaa4lrEFN8mCP5YBRex9ddfP2pkbVU04EGw6GjHOW0TdH+v4LooShyncH9Nf3LsQiJsd7qc3/fdd1+oMnCf2267bTxmdKKykhFKPqoJWNikL6tKy3mEFg/YJ49Jyw2XaABLiRVXXDHeP9oIVUPWlthN16oQqh0siyKhhZX/gHnyM3mMp0yZEuOSrNNsOPmugdDCjnCdxYWY8fKMzQt7v+OOO8bYtHI/z+tqM9dEOK48j5SEgBBoDgG5rjSHm7YSArkI2GqAf2AW6XOgnRHEP3EzOfHEEzPbC+aO++yzT2Z5yPzqV78aP6RXWWWVkD3in4T64wXj+uuvH/G+qAP9jYBFcIjGjh3rzyfMzHF1IKGBs+666/p8W/X0efjrIzKI/k0Q8uM8tEhEsck4ZIhFXPDbcQ3aymmE29aLL74Yvfzyy9Gll17qSZXkhIBr+6abbvKhKP/0pz9FQXQYoqXZCd0gEB0e9Bb/cQ8Ea8iponTJJZf4UNkf//jHff1wfNBFSk5oQ3uUc0/kXLCoF/74FrXfr2W4TKLjEPDI08ewqF5xHUjWTiWzLvD7YbLW7WTWifHkFjx41vZrCjja6n7uEB599FF/TXD/gogN5wCfkBshIdC63HLL+XLqWTSX6PTTT48s2luoMnCfyYUn8OC+n0533HFHDWZnnnlmukpbfodjWfaaENHRFtjVyJAjIKJjyE8ADb+9CCT1OcwFxa8Mw8bzxwsHhAQvoGZe7R+sEAG8lOWlww47zNdrpJvBi3x4uTn55JPzmut6/vjx432/iCyjJARaQQBrI85xc0+ILTdCe+Yy4S2aICzMZSpk+0+0Z8LLP6RCMmGJgJXHD3/4w2R2/B3rj3BdsUoMCZJOkCfUoR2soqomER2vIYZFDjiW1SKAzApEFdsxyZ82bZpvDKu0IIaMxQ36CIOeLER5fK6Ch4X3rhsyOMwzzzxxPUiPTiULne33M1LPo+OPPz4eJ3iYK1OnhtqxdlkQoe/8ldWtueCCC+Jt2M7Cu0fmtuX7aCFzvTUP1mh597yODWaEGg7C8GAxatSozF58+ctfrsEM4qMTqeo1IaKjE0dBbQ4bAiI6hu2Ia7wdRcD0OeIHJianTMqSf7gmsOqM+rppDDTsS3BtyXJrCRvzUh/M6HmYM7HrVHrwwQcjyBnzKy61C4RI6ZOiKJSCS5VyECCsIucRf6zoZ6W11lrLlx944IF1xd/+9rfj7a+88kpfzkskK2xFL7UI/Ib95p3zzz//fEykmC9+3b4bZYjoeA2hcK+rgmFwUQrHCOsdXDM+97nP+eMGAYx1TlHCHeqEE07wbhxE6sCEvZHLYVF7I1UWrIsCFlmkWxCcDnUg3juVcBdjP0cffXSndlHYLs/FNddc0/eBCa7pYRXW78VC096I7z9VxMVNGyzejmNgml2RaXjEYr8XXnhh4XAH5ZpILjyBAyKwWcn0ZGK85ptvvlLRerLaaZRX9ZoQ0dEIUZULgcYISIzU7n5KQqBdCNgky5kvrW/OTN/dDjvs0FLTtirpRbTMIsSZ/3VmW88884wzv3VfhvgaQo2IjXUiIa5qL8de7M1MQhvuwlTv3XHHHeeF8cxsvK4+gmn2ElaXr4zhQcDMyh0icUXJLJvcSSed5Ks89NBDsbhecpsg6sk1gyBwOpm2hzOrKmeTYS/qZ5NhZyElnVkdpavGv809xZmlhv9tK6C5QnZBMJCKM2bM8OJ+cSMNvoR+m/m5M9ecBrWzi013wosKZpeWy1100UUr9ZtWzcTbC/iV2QP3Jptg5VZFCNKsErwgpK1e59ZLFyBKa6vW8fgRfURYcMyYMV6IErHavIRAqU2GvXjjKaec4kyrxf3gBz9w3Me5v5klXd6mmfl//OMf3RNPPMECUmZ5mUzEKm0VulB4OqsdBBQ5D0g2sXdGwNVVM0LHmdtXnG8knzOCMP7dzi9GMrlf//rXzog8Zy6Y7Wy6VFtGdDhzb3KIbCPASX/6LZm+hD8X6DffEawukzj/tttuO2ekblw9iKCaS5c79NBD4/z0l3ZfE7Q/UvenpDA8/TArJ2cWeHyNE+8gFu3JmdubzzMrJ2euPHF5O79UvSbMXckZAeyK3v/a2T+1JQQGEQERHYN4VDWmEUNgtdVW82r2dIAXTV44W0mmPeBuu+02VzTJ4iUiqIQTwQUF9qrpxhtvdEzqPv3pTxduSh1eHM0cvFTkAkgfJg1EAMgiOngZnThxYuE+VTjYCPBC3ugFHqX88PLJd17a04lJFaQfE1cTk0sXOzMD92VEAyJBsJhlVV29ZEZZoiMQgGxrejRu0003TTZT+L1VoiNENyrcSYnCZu4dkLlm5VWideeP2aRJk3LrWphtZ64nzlZd3WWXXZZbL6vA9Fj8dkmCgSgu73vf+7Kqx3lM+iHQnnzyyZgspvDwww93TAiJ3MI9vWyCjE5OLstul65H5BQmOGUTUYEsVLUneNjGrFI8qZfenom/acz4bHNh8dFZTEsqXa0tv4ncxbOCKChVCaN2dAAic/Lkyf56JNJOUeK+QYQSiK5eSpB43M9IZqHjTF+jdPeIpmLWUT6KWthos80281Fewu+sz3ZfEyN5f4KsTJJsRH8jUlYy8X7Fe1ZIkIHczzuRql4TIjo6cRTU5rAhIKJj2I64xtsxBAjpx+ovq4mszLJC22qCUDCTVf/ybBoFmc0RijEQKs2GciV0JtYnZaw0MjuRk2m+r85Mlz3ZwYqpkhBoBgHTx3BYcpC4HooSlgl5lhGQIWFll4kkE8qiVJboMA0at99++/mmqk5SWyU62KlFkIlXJIvGU1QG0UG445FKEF4QFpBEkEVVU7DYCdtB2pqbU/hZ90mYYELRQhKbkGxNeZicMVk2t8GasqIfkNsQP0nCpah+VhmWL4R9hYgom9Ir11gq7b777jWbp1euCf9KqN6yCes8QpiyupxFNKbbYVLOMxAim227mUyfwx1zzDHO9CrcLrvs0nDX1OFcMGHOhnW7WYF7Hvc+EmFqq4Z9x7rM3CXiLnNOca8ICyNxwetfOnFN0PRI3Z+SVk6mmeaJ8PSYTaTYHXnkkXG2uXf5MNVxRsEX7hO8M5mLroNEapSqXhMiOhohqnIh0BgBER2NMVINIVAKAfPhdyZu6Ovuscce7txzzy21XVEl2qPdoskTL9W8wLzyyiuOl2RWrk18sajZmjILm+k23nhjbwmy0EIL1ZSFH6x2YTprIT2dRZgI2Q0/TWDQQXCwamo6HQ3rd6ICRBAvcEq9iQCuBeYXXdg5JmWm0+FdDCzaiv8s3CCncMKECe6iiy6K3RzMB9qZOHBObeetnMq4riRda3ipT64Q5jb+ekE7iI5G++iHcibmHI+PfOQjzkQTK3X59ttvd5wjrGInExPsPIsxCDOI5CxChPsd91QLdeuwluj1lF65xkIlOcGl/2BkelHxUMLKNQQI15Tp1cRl6S88UyACcPviflrGCsTCOXurRtybmAh2K+EehTskZEfSTado/1hyYHXYiOjnfKpC9hTts0xZ0i315ptvdqbxVWYzX4cFl2222cal3cA4LliKQAin0yBdE2krp8985jPewic9Zqx9AuHHuw3bcX6bTok/39P1k7+DJd+pp57a8Nxhu6rXhIiOJNr6LgSaRMAmSUpCQAi0AQFEEO0y9H/JkG6tNE34N9o0F5DCZogeEfZtriyFdZOFRo5Eyy+/fER0l7xkD3Ef1tNMy73oImE3yyYjfHy/7IFddpO21rv44osjoi4EbPT52vnZSzgY8dDwmNsEJD6GjaInIA6alWyVOyIMLNdHaA8x0nvvvTerus9LipEWRSkwfQnfP9OH8OFucxvMKJAY6WugBByIklAlIbpJmFTO6bPPPtuLPyfP77z7FZGsqJcXuptzhXIjT6p0Z0TqJiNLIMialRBcTeJixIevZlomERGFGiUj8DJDc+ZtRz/YX7uehXn7SebbhNWHlSUSUtmEoC39DCLFedsRxpqQ8ZxrIYpJXt125ZuVaHzMiKpTJRlx47clMpG58ETcm8LxN0uHiIgu6TRI10Q6ChHvMenEcQzXOdggtE5CrLXMOcHzAeFihG/LpKrXhMRIy6CqOkKgGAFFXSnGR6VCoDQC5ssdv0g8++yzpbcrqkhoPh64RGopSjxsw0sMhEuZZCt50ac+9anI/NhzX+aJVkG5rXJEturnX5bMzaVM874OLw70q2iSWLqxihXNTSEi3Oj+++8fQejorzcx4LxqlIikEc7vIlLOTM8jswioa44IR3PNNVdkrhG+jBdcE0D1baKEz/mdlZJER95Eg2udtulfeFHOaisvL0zwzcw/r0rP59vqcWRuApG5v0VmXu8jmBBto8p90DR8PIa20lx6vJBao0eP9tsRIpL0wgsvREzew/mSF1nHVmN9HbOoydyfCRT6ciJf9HIy96qaSWweaUFEmYCJWav4yBJmeu/z8qJRNDtu7rXce9mfaes020yl7bjfmwVOZC4EpSeeTFAJv0o/uUc0SlXJnkbtlSkPIUnNQrRMdV/H3DH8mEykPHruued8nllW+rxwDvDs57pNpkG5JhhTuK+G8YZ7f3K85iJXgwlkIMm0dnx+VuSi5PZVvjdzTYjoqIKw6gqBbAREdGTjolwhUAkBMzGNXzbNDLbStkWVTTjOP3DLkAtMMnio84LJylZRItQeFhpLL710lLcCTlhGM1eOV7yZiNF+2fCPvESxPduEl62iPrW7zHz+PRa8zCv1PwJhRdpcXTJXlpngvv3tb49ML6NmsExgTKgxMjX9mnyu2WAJkDc5ShIdFs3Fk301jdiPYLXEat3MmTPTxQ1/hxfyfiU6IEw32GCDiIk0K6Fm/h6Zy4Bf/QaTYDnQCAiLjOHvFdwv8oinZBuQKKa34rdJE8Fc85wLtMXfwgsvXHdsggUe1j1ZKaz0tnOyk7WfVvOuvvrqeJyMlfCYyRVmiETIwYAFn6YB4ncb8s19Mbcb5gYTVcUAK6mwP9OJyG27XQVcy+YW4M/BLEuFrP1AjEDwhH6aS05WtRHPCxaJEPaNEsc6hNLm2WsaHzWbhHtVGLNFX6kpH5RrgkGFe0MYq4kL14z1kUceiUyXKD7+1DNR9ujFF1/0Vh4QYHkJ0sIErytZ7zVzTYjoyDsCyhcC5REQ0VEeK9UUAjUIYFbKCyIrvRYJIn5g8vAkjzILWVazTdUfvLRhLsuqJBOKosS+WM3mgc0Eg1Wd9P7N7zRi1du0OLw1Rx7JwX7Ytwlzxbu00Gy+bVZ9yiRTOPf1WTHvduIlBlNdC/vZ7V1rfx1EILiccE4xgQ7WILiz4IJlOg0+z8J8elN0Exz17lZcE0wYWP0OyTRnvMl+eBHm2rFoHxHnTkhJooN6TIyCKwPXYyApmFSbL3zYrNJnaKNfiQ4mEJC73A+TKawgs8peZvIJuRGOBSvnWQnMOcYWEjUyPaK4vkXtic8FtjPhxshCbMfltIvlB/fpYPGGxQn5JiJbtyv2E/rCRL+XUzh/Qn/53HnnnSPTtIlMONRP/slLTupMmDHCrQ/LjjziGvIAgh2CkG3BvMxxBCtcFdkn++l04rwz7Si/P8h+jmfWHy5KJlgbmdhtXD9gxvM1bd2Q7HczZE9y+1a+h+MLmZiXmBBzHLHgCGPi2Jq2V80mwZ0l1OGTdrkumIgPyjWRtnJinFjG4CZpWieRiY/6dyruTUlClHzcEHl3YJEpKzXrytvMNSGiI+sIKE8IVENAREc1vFRbCMQIQBhgPWHCn55YMNFCv0LMwxNT9qKHZdxIiS8mQOZfXiwyQMParOQx8WBVj4c7qzof/vCH/cPbFL8jU8v3L0OsAlZNwWIEN5kyiZcK+mBhPMtUb2sdE6Pz+7bwhm1tdyQaM2HECNKIiXD6b9asWSPRpRHbJ5ORM844w0+gwsurRRry5zskSCADeUllIgzhx3XJJ4ShCQnGfWfCS16og3UHk4PkSl6S6GDSwKSAa8tCPnozea5z9HFacW8IE5l+JTrAi/vgWWedFWPLF0jUoAtQ1n0BAovjmm4rNMy1QJtYW3Bcub/xHTeTQHpRF6KE408ZdajLhIYJLZM6Enoe7MtEUP3v5D9WdSnjfok2Qy+n5Mo1/U0SQIwBVyCsnMAHkjpJAKHVACmYThDiHAt0bUgTJ070eJR1QcQdiH2b0Gu66bb/5n7Avlr54x6SlVohe7LaayYPfQ3GhlVSXrJwyP49hOsgnOvcm9DcSCYLL+zfTbgWqMc9j/sZ5wwWCoNyTaStnIJrYThHuIdw33788ce9ZlPS7Zjrw8KOJ2GLv7fiytvMNSGiI4ZeX4RA0wiI6GgaOm0oBLqDQCAM0ubZRXvHkgOfVFZoWNVmW3zYLZpBzYSgqI10mYWw9RPDsqt6QZ+jkXhkej+t/sZUmhe3MKHJa4/Jad6EKm+bduSzAlllv5hY4zbBpJyXMF7QsFTZcsstIyYqEFgWBtOb3Ob1b9q0ad7CKK+8W/lYQ1g0hBrT+mb2DaGBOT0+1oiLJk31m2kvb5sk0REmeRw/8IREa4coYb8THZyHTCDQ2EgnJpCUpd2J0vXCb4vM5OtzPnc6YdFD35j8pdMTTzzhy6oKo6bb6fTv9Mo1FguzZ8/21wQWT1kaKZBFFgLXT/Ly+mehWSMLZx4XQ1iA1XRzSyqTAjmfdU6U2b4X6rRK9rRrDFg6hYl6p11AB+GaAPdwT+Wc5Q9C46mnnoruuOOOiOdpsMpLHiPceXFzTFvBhjqtuvI2c02I6Ajo61MINI+AiI7msdOWQqArCPBQZlWSlWdevkYiYc7PC4OFJyy1e+qzystEvNspRKq57bbbcnfNCx3m2FkCZbkbtamASTmTqyyT+bxd8JLFau348ePrqvACh1k55ttZq7NswEQFXJKJfjBZ5+Wuyh8TqWYTVgucR7xU9kPKIjra3e/wUt6vFh0Qn0yc04kJGtZuHO88V5T0NkxCqI8VQpErQXq7Zn5z/uNawb6S1iC0BalFP1gp7+WUXrnGvbAdiQlh8jqvQnJDBHLcuV8R0aRfU6tkTzvHjXAo52O7jm9e3wbhmmBsSSunKuLGebiQz32uWVfeZq8JER1FR0RlQqAcAiI6yuGkWkJgRBHATaYbLzp5gwwmrYgMlkn4Q9PfPD/XMm00UwdzeVa/WD3JS6yK4a+btdrI5KrV6BF5+03msxLLaveECROS2bnfb7jhBo9nMCVPV8S6Abwx485KWUQHFi1MRtiOP0is5B9RSYi4w2Qw1OFz6tSpWbsolSeiox6mfic66kf0Wk7w98caqUoiagjnGab0nU644UHIJiNaYKWznukdjB07trQmRaf7mdd+OHfC9ZnUl8nbpmp+ILm5H5RJ3D/pT7/rI7VC9pTBqUodCHkw3Xjjjats1lTdfr8mIKeDyxyY4XLbiVTFlbfZa0JERyeOnNocNgREdAzbEdd4+xIBTPVZsWdljegS3U7hoV6GuGDSjdYBJu3dTkGsMq+fEBloCjCRSScwbkf0iHS7eb/BCVKmjIjlwQcf7F90ManPSowLdx3cWrJSFtFBPfRcwiSpaLWQyU4IuZf2+87aX15evxEdrEgHfBB27EQKk9V+tejIwgQhZkg0ojpV1S857bTTPOZZ2hlZ+2o1D9Fm7ldE3kG3BaJlySWXjLrtctfMODqxcp3uRyC5EWosk7BW45rBTXJQUlWyp93jxqoTjQ4m8M1Edqran36+Jjpl5ZTGsIqVU7PXhIiONOr6LQSqIyCiozpm2kIIjAgCRBJATI9VnU6bdScHiFk3IT0xR87zXw31KccKgPpZ/uGhXic+cdtAfBA3jrz0gx/8wL+EJ0UpQ912RY8I7ZX5RKiVleMgopm3DaE7iyIYYKXC5CLLtYU284gOziPIEbaFdCkSb2WlmygMKPc3m/qF6OBaw9oGjYZAdBDRAO2Idrs7DRrRgfsJ4XwR+GvGRYnzjAg6kA/dCvnJ9XPttddGTCwgadCx6IeUFB7dZZddOtLlQHI3ClnOziGHuF5GwmWxI4N/vdGqZE8n+hK0uvLCIbd7n/16TaBFFu7ZfM7oQHjjQHyVceVt5ZoQ0dHus1rtDSMCIjqG8ahrzH2LwJQpU/xD/OSTT+7YGCAMJk2aFD300EN+H8HsssyLNMKnTJgRwut2YsWRFxsEKvMShAETsKzUzugRWe1n5SGSRp/zXFLYJuhzIDSYl8J5kQ4nGOrnER2Uo6UQol2MGTOmJgRr2D58okbfivl0vxAdDzzwgDd5JnoPhAd/nNs77rhjS647Acfk5yARHQjDEs0BnBqRokkM0t8JAcl1Ueaek952mH4TUQucIOE6MaEDy0BylxGhxioG8qUfrGGqnCdVyJ4q7VatiyUiCw6DZP1VFYNG9XG9wfIFl7SyVkiN2kyXB+KrjCtvK9eEiI408votBKojIKKjOmbaQgiMKAI8/LDsYOW0E+mwww7zL88I8bGqg2gnmhZ5bhOhD5dccokXTP3pT38asrr2idgXIfMw5c5LTASYFGC5kZVaiR7BpA7xvry/okkfUVN4GcpLjfQ5sAZB76PIramI6GC/WHJwToEPfcmzGOIcQH+l2dQvREez42tmu0EhOjiHIDnS19dBBx0UnXfeeZWhgSxhsjISpGnlzo7QBohHck3y2YkUVq7XXXfdhs0HazlEPActVSF7Ojl2RH+JvrXRRht1cjd93zaLNZ108Q3EV56LbACw1WtCREdAUp9CoHkERHQ0j522FAIjhsBvf/tbvxLfiQ5AVGA2juUDExcmvo1IDvoBkVDVH79d/T/hhBP8JL3IrSCswuStNjYTPeLGG2/0JAMEQaO/PLcQQv/ON998uaFKi/Q5mOAwkcSKpki8sRHRwXFAkDGMATw7kUR01KM6CEQHrj5MBtM6Jq+88kq07LLLlg5LmkQHtxVIVtxYsGpS6j4CCDZzT2i0co0INBoSWMy1I+Ry90eav8cqZE9+K+0rCc+6pIBu+1pXS40QKOvK245rQkRHo6OhciHQGAERHY0xUg0hMHQI8DDHrSIZYrBXQYCgQBOACVE6TGSyzxACvLTPmjUrmd3we170CKKPYCL7kY98xLs2YFXBdyweMClfYYUV/Hd+T5w4MdeU//jjj/f9wuw/K6288sp1+hxYiBDqbs011/TjRlegKJUhOth+55139n1BSPLOO+8sarKpMhEd9bD1O9EBwYY1FdcWZvXhL6kf0YxWB0hB6HJt4y7VKauF+iMyvDm4/RHhiwRhwT2NewHPgryEUCbaPWgNdUtTJa8vncgvS/Z0Yt95baKThGXH9OnT86oov00INOPK265rQkRHmw6imhlqBER0DPXh1+CFQO8hgCsG0S7KphClYfLkyYWbYArPS3uVCVNe9AjMYnHnCXoguHqMHj06uuWWW3wfEBmF3CiT0OdgkvijH/2opjoECNEfKJt77rl91B0i7zD5IJrFJz/5SR8it5GQKY2WJTogjViZxee/WTFZXJ6I0JKVRHTUo9LvRAeTXM7RvD+swlpJkB0Qeo899lgrzWjbBghgNQNJxT0SIhWdJo7pAQccULjltGnTIqJKVCWQCxsdwcJmyJ5ud5fnDVY2PGeUOotAM6687bomRHR09tiq9eFAQETHcBxnjVII9AUCmAkTteUd73hHKXN1TOMXXXRRL6bZiMAYN26cn8SXBaIoegRRGZ566qm4KQgO3H1CtAZMuHlJKZOuu+46P6FAULRTqSzRgb4CeOa5KrHKS1jconTEEUdEiJZmJREd9aj0O9FRPyLl9CsCuCnOP//83m1xscUWi607+nU8VfvdLNlTdT+q3z8INOvK244RiuhoB4pqY9gRENEx7GeAxi8EegQBxEzRmggrw6ecckrDnp111lm+fhl/5U984hPRggsu2LBNKlSNHrHnnnvWCMQttNBCEZogZdKVV17pxwDh0alUhuj4+te/7omgIiIDRXtW8JtNIjrqkRPRUY+JckYOgRdffDGaOXNmoRvgyPWu83sedrKn8wj33x5GypVXREf/nSvqce8hIKKj946JeiQEhg4B3Dfw88cfOkT/QIiwyC2DMlw7Fl988diSogg49CfQ1CjS8WD7qtEjCM8677zzRiHkL1YdRItoJOAX+hrIGkKadio1Ijq+/e1ve1ec3/zmN4VdOOSQQzLdUjgWHENMqVGaz0siOuqREdFRj4lyhMBIIjDsZM9IYq99v4GAiI43sNA3IdAsAkNLdBAholeV3HnIPvPMM80e07Zvh5Bcs2Jybe+MGhxIBIjWgko5CeuIYNVx8cUX5473ggsu8PXOOOOM3DrJgmOPPdbXL9KeaCZ6xFe+8hXf7r333ut397e//c3/xoKkTELLg/ESIrdTqYjoOP/8872lS54YaugTWglEhyEKTDJBcjBWLEKIQgPJkxf6WERHErnXvovoqMdEOUJACAiBYUdARMewnwEafzsQmING7CV7qJKFoHS77LKLM987t/baa/fc2G1S4oyIcaZm3xN9u+iii5y9jDsT6epJvHoCJHWibQiY6KBbbrnlIGHdBz7wAWcEQl3bJsbmLKqJM3LAXysm1llXJ51hUUqcRUNxl112mdt+++3Txc6ijLiNNtrIGQHqTJQvLmdfpv/hfxvh58wtJS4z0T5nViXOrFCckTVxvkWK8O0899xzNfXjCokvJuTnLKqBM3PxRG57v5oQqzPdE2eWGzUNmy6I22mnndyZZ57pTFekpowfZp3iLJKCu+uuu5y9dHm8zerGmep/XPfCCy/0x8CIJHf77be7ddZZx5mIq1tvvfXiOuELx9bCjbo0jqF8GD9N7NFZpAtnJJCzyBXDCIHGLASEgBAQAikEvve977nddtvNWdhuZwLfqVL9FAJCoAwCPUd0mAief+Erw78ssMACfpJh4nnOVhHLjNddddVVbptttnG2iuqOOeaYUttQiRd+U1L22zMpYVLDBGippZZym266qdt77739RIK65mvvLNZ500SFRVPwEwdbFaW5nkgTJkxwtrrumCwy+VQSAp1EgGvgmmuu8buAkFx//fVrdgdZud1227mTTjrJmTtFTVneD8gKiwDhmPSbu0hdNYvs4Cf0dQWvZ7CtWVvVFN99992eIDC3FWeWDnEZZCUvJw899JCf2McFqS8mpuq4j7GtRTlIlbbvZxbRAdlg7kHOLDIq7QjCk3teVjLrFj8Oc+dxWeSTiI561ER01GOiHCEgBITAsCMgomPYzwCNvx0I9BzR8bnPfc6xysgEIJne9KY3xS/OkCBmHh4XW7hF96UvfcnttddecV7WlwcffNBbJGDFYaEcnfnrZ1WryYPgOPXUU93XvvY1v5rJZAeihNVkXuTvv/9+N3XqVGf6As7Mtp2ZxbsNN9zQ/1199dU1bZX90YtEBzh86EMfchZT3Jl5v7MQlGWHo3pCoDICt912m1t33XX9duYW4X74wx/WtLHKKqs4c+/yVhAWJaCmrOgHhAKWCRa+1pkbRlHV0mVPPvmks3CvNfWx9PjTn/7kTD+kJj/94/LLL3c77LCDg+BNt5Gu28rvLKKjlfbytsU6xSKzuJ///OeZVUR01MMSiA4sZSDtk2nllVd2Y8aMSWbpuxAQAkJACAwYAqYN5t9pksPivee8886TRUcSFH0XAlURMNKgJ5O9EHu/dRtPZC96EWEkk4nfRjJEn/3sZ+N6hx56aLJKzXcECM0SIRo1alRpvQlCRrJv+mCkRnTOOedkih6iLWAkQGQkiBdUpP5pp51Ws/8qP7bccsvo/e9/f5VNulKXcJoIRdrErCv7006GG4G11lorvraNpIzBCOFY0dyomhAOJfLKV7/61aqbtr0+9yQjTCMjTtvedrrBIo2OdN1mfxsZ6kPsmqVcbhPS6KiHJmh08NxI/yESqyQEhIAQEAKDjcD48ePr7v/heWDWoYM9eI1OCHQQgZ6z6LAL26drr73W2YTffz/iiCO8K8jrRXUfSTN3LDXws08niwjg9thjD2eCeV5vIl2e/o3fuYki+tVJVlqx2mB1LS8Z2eFXZIMlCroCzbp49KJFRxg3VjNG+Ljp06e7j370oyFbn0Kg7QhY9A639dZb+3Z33XVXb4nBDyyyTBjTW2Xg9lE1oVNx9NFHO9xORnK1nBV8+oF7yyKLLFJ1GJXqd8OiI2igFN0bZNFRf9juuOMOZ9Fu6gssBxehxRZbLLNMmUJACAgBITAYCPDcxC0+K33sYx/zbvJZZcoTAkKgAQIdJFFaatrMeWN288c//nFhW9/4xjfiuubCUlcX6w9ztfARA8pENgjhHg26aJNNNolYBS6TCK3INib61zCEZVF7vWrRQZ+xtCFE5wc/+MGiIahMCLSMABYPyyyzjL+mTBzUR2W56aab/O8i660yO8YaZPnlly99bZdps0qdn/zkJz4k7c0331xls6brdsqi469//Wtk2ie+XxwTwuz+85//zO2nLDpyoVGBEBACQkAICAEhIASEQBsR6NnwsriZQBq8+c1vjgjXWJRCeEfqZ5mBmx+8b8siBRQ148uYgJgeiK9vlhzR3//+94bbhAqTJ0/222222WYhq6nPXiY6GNDmm2/ux4nrkJIQ6CQCmO5zXfN3+OGHR+PGjfNuZO0Id3ziiSdGFnGkk93PbPuFF16ILFKLD8WaWaEDmWbNVhcWttXdWDQWT2zgpkfoWdzazPqusFnCZkNa9Wpo78LOq1AICAEhIASEgBAQAkKgbxDoSdcVQkYi+klUEwQwESYsSpj3BrHCs88+2xEhJJkQM8SlhXCtRFbIS4gHEt7vpZde8lFcbLW1kntGEFBEuPSggw7K203D/F52XaHzYEyUmX333deHpWw4IFUQAk0iYNYBbokllqiJdrL//vv7cJxNNlmzGa5mhIbtdmJcWVFJOtUPxITnnHNOh6hzuxJjMFLXEWHlbW97m+O+xbFpFAELIel2CcG2ayxqRwgIASEgBISAEBACQmCwEOhJoqOKPkcyRCIv8jNnzqyJdMBEhogoJDOzdraamHsEmbh/85vf9OUmcuoI7VQloZq8+uqr+6gkfDabyhIdTBjuu+8+Zyb47l3vele8O7NCcQ888IDXDFlooYXi/HZ9QR9hpZVWckS7wedeSQh0EgFzM3HHHXec3wXXr4niSregk4CrbSEgBISAEBACQkAICAEh0OcI9CTRceCBBzozh/bQmj6HI2RhXtp9991jkULCMBGeNpkIc4hopmlKuDvvvDNZVPOdcJOmB+DM39znNyMm+sgjj7ijjjrKETIS0qXZ1IjoIMQr48ZCBRIHcmfbbbd1559/vkPAEYsWwhQS9hIBVfLMVL7Z7tRtZ/ZKnljBAmbWrFkdF1Ks64AyhgoBzvfRo0c7LAgQCEYMV0kICAEhIASEgBAQAkJACAgBIZCHQE8SHauttpqDaDB9Dm8WbQJ3df3/xz/+4Q455BBH5AJMpS1cpDMxvLp6p59+ujNhU7fPPvs4Ey2tKw8Z5q/vTAPA/1xllVW8pUQo6/ZnEdEBsQBxgwvOmWee6Uz41E2cONFNmjTJbbDBBg4FfwtF5ZZddllvXWK+8O7II490X/7yl9s6DCLbQEJdf/31PjJAlcb//e9/O6xOWk0c9/nnn9+ZOGqrTWn7Hkdgv/3280Qe1kTtJO16fNjqnhAQAkJACAgBISAEhIAQEAJNINBzREdSn2PxxRePLTsYGxPkp59+2rtLXH311Z4E2XDDDT3Jseqqq2YOH/ICEqORbgahYE1c07dx8sknu4MPPjizvW5kFhEdWG7gjnPNNdfEE/xgtULfIH9OOukkd+6558ZaJYTK3XnnndvadRNxdFOmTPHkESRS2WSRNJxFwPE6KGW3Kapn0STcJZdcUlRFZQOAAFZEXP9FrmcDMEwNQQgIASEgBISAEBACQkAICIE2INBzRMd1113ntthiCz+097znPV6IMDlOJjpYK6ARgTvKGmuskSyu+x5cW7LcWkJlJt8IEga3lVtvvdWts846obitn6xIWwhcL+SJkF9WyiM60N2AkKGN5ZZbLt4UV5kddtjB/0a/YMyYMV6PBDN/dDSw6Jhrrrni+nxBOBUyxMI9eiFBRF8RElxggQVq6uX9YIUdC5lArOTVy8q/8sornUVfyCqqnLfuuus2PAcqN6oNhIAQEAJCQAgIASEgBISAEBACQqBvEeg5oiOpz3HppZfGE/hmEbZQqN69AncOrCGyEpNuIjuQiEowe/bsjkVEsPCL3gLl1FNP9YRHVn/yiI6pU6c6IsHgrpNMRHihvbLioGCx4447eoFHPhk//YIkwTqEdhqlIBBpIXvr+tNo214oP+usswit3AtdUR+EgBAQAkJACAgBISAEhEBXEcAVeJNNNunqPrUzIdBNBHqO6Aj6HIDw/PPPu1GjRrWEByv+WC8QfpYws1mJyCXB9QUrEtxjqqYbb7zRIc6JK0VRog7RWdZff/1cwdI8oiOvXfQ67rrrLi/EiuVKUSJKzYorrui22morb9ER6oL1+973Ph/OF6uaRgmxWEipfiU6xo0b58MXNxqnyoWAEBACQkAICAEhIASEwKAhgDU3GodKQmBQEegpoiOpzzF27FjvVtEq8BAK06dPd7hLbL311pnN/f73v48JlbJWEemGcKPBfQS3lFZTFaKDkLkLLrigd7u5+OKL3fjx4wt3f9hhh3kNjyziB4sXIrTMmDEjtnDJawxx06OPPtqTHaecckpeNeULASEgBISAEBACQkAICAEhIASEgBDoKgI9RXQk9Tn22GOPGouDZlFB74N2Cb262267ZTaDC8M888zjRT5xXSEiSBXRw5/97Gdu44039pYgCy20UOY+Xn31VS92irZIVhSZ5EZViI4bbrjBBa0PXFAQcC1K6623nrvllls8iQSZlEyExj3hhBMckWrQ6yhKiLVCcCB8ik5HlTRt2jT33HPPVdkkt+5aa63l9VpyK6hACAgBISAEhIAQEAJCQAgIASEgBIYKgf8HAAD//wxPwxwAAD8iSURBVO19B9gUxdJ1cc2imBHEgIqAijkrmHNGxRwwgZhQMSFgzopZURTFiOEaUASvghFzwKzXnMCcc/rmr1P373V2dmZ3dmbD7O6p53nf3Z0O0316ema6uuqUeBmSQYMGeSJifzfeeGNFWjZgwACr77zzzita39Zbb50795QpU4rm9Sf+9ttv3pJLLukde+yx/sN534cPH+517drV23zzzb0ZZ5zRGzNmTF568Mc222zjLbvsssHDob8PP/xwa/fiiy9ekH7HHXd4w4YNyzvetm1by//VV1/lHcePc845x9KOOeaYgrTggf3339/yXnPNNcGkor//+usvb6655rKybqzTfPbp06fo+ZhIBIgAESACRIAIEAEiQASIABEgAq2FQBt0VxeamZCVV15Znn/+eWvLJ598Ip06dUrdLl28y9FHHy0HHHCAjBgxIrK+Bx54QDbeeGNLV4WLnHvuuZF5XYIu2mXHHXeUd955R5555hmZeeaZXVLuE+fE36OPPirt2rWTGWaYQdDPp59+Opcn+GXbbbeV999/X1566aW8pPvuu09uv/12GThwoPTo0UP+/vtv6datm7z77ruy1157yejRo3P5/+///k+WWmop2XfffeWoo46y43/++aeoosW+f//999aeXAH9cuGFF8phhx0m++yzj4waNcqfVPB9k002kfvvv1/Gjx8vm222WUF6sQM49w8//FAsS6y0Nm3ayHzzzSczzTRTrPzMRASIABEgAkSACBABIkAEiAARIALNj0BmFB1QbCyyyCKCBXqXLl3k7bffrgj6kyZNkg033FBWXXXVosoFnGyXXXaRm2++WbCAxiIe5aLkiy++kL333lv++9//ymOPPSYdO3YsyIrFfOfOnQVtWGGFFeStt94yxcQ666wjDz/8cEF+dyBM0fHxxx9bXcBn5513FrUKEbV6kd13392KDR48WE4//XRXhSkqhgwZYueEggXy008/yeyzz27f0Tb33Q7oPyh3oBTZaaedDAd3PPgJ3dg888wj3377rUydOlUWWGCBYBb+JgJEgAgQASJABIgAESACRIAIEAEiUB8E6mnA8t1333m64PfGjh3rqVVAzp1hoYUWsmNI++WXX1I18eeff/bUisJTawtPLRqK1oVzrb322tYOVQJ4qjgoOP+PP/7oXXDBBV779u293r17e9OmTYusE+eePHlyLv2KK66wuo877rjcsbAvYa4rqnjJ4XPVVVd5n332mbfEEkt4qkCx46uvvroHNxrIDTfc4MFFZdy4cXnVw21ErzL7++abb/LS8GPo0KGWtsceexSk+Q+owsbyLbbYYv7DLfsd4/zUU095n3/+ectiwI4TASJABIgAESACRIAIEAEiQASygoDUsyFQGKj1hPFWQLGgVgLe3HPP7akFgqfuCN6//vUvb+LEiambuN5669nCXN1FStYFZcCZZ57pzTbbbFYGfBK9evXy1MrC6969uzfddNN5Cy+8sHfXXXeVrCuYQS0xrE4oLYpJmKLj119/9dRdxMpvtNFGxnOhFiim3EB7gVeHDh08dVfxFl10US/qHMgDZYdaiBQ04eCDD7a0YnwjKHT99ddbvoMOOqigjlY6gOsJCiYo5jAW66+/vuGvbketBAP7SgSIABEgAkSACBABIkAEiAARyBQCmXFdqaY9i1o4iFoplOTp8LdBFQty7733yssvv2zuGeC2WHDBBUWVHtKzZ09RJYw/e6zvcPFQElBRSxaZddZZI8uEua64zF9//bW54ICbQwlI3WFRyxLj9FAljCy99NK548EvaoUiqqSRxx9/XNZcc828ZGAErNTCRpScNS/N/8Pxczz33HOy0kor+ZNa5jvcfFQhJLvuuquohY1xn1x88cVy6KGHCnhhjjzyyJbBgh0lAkSACBABIkAEiAARIAJEgAhkCYGWUHSoS4fxSIA8FAoBtdao+RiAy0MtQmSttdYSdWcpev5iio6iBWMkjhw5Uvr3728EqSBo9ctqq60mr7/+unzwwQfGweFPc9/RD40yY5wjjjjWpbXKp1oZGXGtWnPIE088kev2EUccIcAXnC3gZKEQASJABIgAESACRIAIEAEiQASIQO0RaAlFB2B1EUWUJ0P69etXc6RxXigWlAdDTjnllKLnr6aiA2Sm6sojIFNF5BdHVOqizsA6AZFaouSQQw6RSy65RLDY32CDDaKyNfVxdQ0yZdBtt90mO+ywQ66vaqslf/zxB6PA5BDhFyJABOqFwIQJE+TJJ58MPf1WW20lq6yySmgaDxIBIkAEiEBjIaC8e6J0AKGNVj4/s2oPTeRBItDkCLSMogPWHNhlh+sHwrYiLGktxUV0iaMgqKaiA32GxQZcUxB5BZ9ffvml3HPPPdK3b19TYkTh8uabb5qrinKEmPtLVL5mPv7ee++ZyxDckD766CNRzpZm7i77RgSIQIMicPjhh0e++F5++eVm2degXWOziQARIAJEwIfAO++8I1BohIly98lrr70WlsRjRKDpEWgZRQdGEpwS4NhYd911Zfz48RZGthYjDCuKTp06CTSu4OeYZZZZip622ooOnBxtgkUHQt4izCyUQLBUiBJwlsC1BUoR4Ij+tKKA3wQ8J/i74447WhEC9pkIEIEGQMApOhCGvGvXrnktBo9TqedQXgH+IAIZR+D3338XvKeUI0qGL3PMMUc5RZiXCGQSAVz/r7zySkHbYL2nQR6o6ChAhgdaBYGWUnRgUG+66SbZbbfd5Oyzz5ajjjqqKuMMwtERI0aYWwP4LK699lqzlthrr71k9OjRJc9ZC0VHyUYEMsCdBS/MDz30kKyxxhqB1Nb5CWsYKIQ0HLIpy4I9B8kr/o4++uhgEn8TASJABGqGgFN0gFcpqOioWSN4IiJQAwSwcQNydjyfIVDitW3b1jZ0sMEE0ch0ptRA3u+//17+/PNPO/7II4/I2muvbd/5jwg0GwKLLLKI8RLSoqPZRpb9iY1ApmLA1KgxV199tTfzzDN76sJSlTMiPKsOgDd48GBv6tSpFn5UXWU8NS2Ldb4dd9zRU//pWHlrkUmVQx7C/06aNKkWp8v8OdQiyML5+sPI/vLLL57ywHhzzjmnp9F6Mt8HNpAIEIHmRuCwww6z55AqOpq7o+xdyyOgGzB2rQ8aNMj75JNPcnioq6kdx/uY/3mtSg5v2LBhlhb3vSxXKb8QgQZCQCMxeuq60kAtZlOJQGURaDmLDqcBQnQR8CzowtQdqtjngw8+KDAXgzUHdhhgAQGSIH842GInQ2QYXThLly5dimWrWRr6AC6KhRZaqGbnzPKJMDYIxQuyv3XWWcdcoHA9rb/++nLMMccIQv9SiAARIAL1RIAWHfVEn+euJQL777+/vTPB6tQvsKDde++97ZkMjjG/fPbZZ/ZOA3eX6aef3p/E70SgaRCgRUfTDCU7khCBllV0JMQrdjGYR4K4cv755zcOjNgFmbFhEIBPJDhOMMbt27dvmHazoUSACDQ/AlR0NP8Ys4cieA537NhRJk+eLCBd9AsI1uE6jIh3cCf2i1p4WJj4t99+23+Y34lAUyFARUdTDSc7kwABKjoSgMYiRIAIEAEiQASyjAAVHVkeHbatUghAUXHiiScah1iwzs6dO8uHH34oN998s+y00055yeAsUDdmGT58eN5x/iACzYQAFR3NNJrsSxIEqOhIghrLEAEiQASIABHIMAJUdGR4cNi0qiMAi43FFlvMzgM3FVheNpMo/5sccsghpsAJKnGaqZ/sSzoEqOhIhx9LNz4CVHQ0/hiyB0SACBCBAgSuueYauf766wWcQZTWQ6DZFB2Vvp7/+usvueKKK2T77beXDh06tN4FksEeKzGoRS1DhLq0gutln332Ma40cGg1gzz33HMyatQoeffddy0CHq7h008/XZT4PlX3OBdSwVeVwpWaC1R0VGV4WGkDIUBFRwMNFptKBIgAESiGwCmnnCIIJ4oQxyARnnHGGc2HvVgZpjUnAs2g6KjW9fzHH3+YguP555+XV199Veaee+7mvAgarFdvvPGGrLzyyrLnnnsWcGqU2xUoS6677joZMGCAXHbZZeUWz2T+V155RR5++GHp3r274LtGmUmt6OBcyORQS6XmAhUd2Rxftqp2CFDRUTuseaaMI/DAAw/It99+W9VWrrjiipmJphOno1gsYxHQrl27ONmrmgcLkh49elT1HI1e+ciRI025oSGQRUNUyw8//EBFR6MPasL2N4Oio1rXs4Zwl9tvv11wz0e0LEp2EBgzZozsuuuuFsHszDPPTNwwLPA++ugjufXWW6VPnz6J68lqwUsvvVQOPvjg1IoOzoWsjrBIJeYCFR3ZHV+2rEYIVDZaLWsjAo2JwJ9//un961//8nTaVfVvhx12aBiA9AXRm2WWWbwnnngiE21Wf2tPw/p6GCtKaQTmnXdeTy06SmdkjqZE4LDDDrN7mVr4NEX/KnU9q7uK4TJkyJCmwKUZO+Gu3XvvvTdR99S1I/cc//zzzxPVkfVCl1xyifVRXVcSN5VzITF0NSuYdi4svPDCnkYjqll7eSIikDUEaNFRI4UST5N9BODPC79eCEz+J02aJHPNNVeshv/222/yyy+/yM8//2yuAy+++KJMmTJFwOwO/1cnM800k3z66aex63Xlgp/w34SLgt5QgkkFv9EHsM8vsMAC0qZNm4L0sAN33nmnqFJGTjjhBDn++OPDsoQeQ6i/CRMmCMqDDR87agi1DFK4LbbYwsyI55xzTit7zz33yGmnnSZPPfVUaF3Bg+gvrBS23HJLuemmm4LJ/B1AYL755qNFRwCTVvrZDBYd/vGqxPUMgspll11Wll56aXPvmm666fyn4PeMIPDrr7+ae8b0009vz9CZZ565rJYhmsq+++5r4WbxDC5HHnnkEfnxxx/LKVKQF8+papOfprXo4FwoGLZMHkg7F2jRkclhZaNqiUDWNC9sDxGoFwI//fST161bt9xOUO/evVM3RRf63v777+/pC1uu3hEjRqSuV1/iPH35y9Wp9wz7jvPMPvvs9jfbbLPlpS+xxBJenHOr76+HshtttJH3999/x2qrKno8VVp4qsSwc84zzzxe//79vQsvvNBT83PvwAMP9PTFz+vataunL1jeY489ZtYi22yzTaz6XSZYmaCvaXaxXF3N/lmpHfBmx6lZ++d2AmnR8c8Ir7feenb/GDdu3D8H+S2TCNxwww02VqpoL7t9sPzDc+Kggw4qq6xuSpgVnHue4tM9T4Of/me6Pz++X3nllWWdN0nmtBYdnAtJUK9PmTRzgRYd9RkznjU7CGBHmEIEiMD/R+CFF17Ie9FRErOKYKMWGN62225rL19rrLFGRepEJW+99ZbViZerRRdd1IPCwS/4rdYlXt++fXP5jjnmGH+WvO9QbKywwgpex44dvbgmv48++qidG22AqwvMYdWyI69e/Jg2bZq35pprelCCzDHHHNae8847ryBfqQNQoOAlEwoZSjQCVHREY9MKKVR05I+yEvTaPQfKVrUyy0/kr8whABfFBRdc0FMrSA/Pz7jy5ptvesopZWN98cUXxy2Wy3fyySfnnpVwZ4VSPkq+++47a5taGNqzzSk8auEWlUbRwbkQNaLZPJ50LqA3VHRkc0zZqtohQEVH7bDmmRoEgfPPPz/3ogOriUotqKFE2Hnnna1udeuoCBpjx47NtfW4444rWiesJ9yL2H333ReaFztRyAMM4sjo0aNziqHFF1/clCrFyk2dOjXPEgWKpXIFVjIzzDCDp4Sb5RZtqfxUdLTUcBd0loqOfEiUdNHubVggUhoDAY26Y2M2cODAog1Wt1FToM8666xmVQhlupJom0Idz/BOnTp5sNaII1hUrrrqqrlnJTYQlNQ5TlHv2GOPtXK77bZbXn51g/VgUYlnZDl/SsaaV4//RxpFB+eCH8nG+B53LgR7Q0VHEBH+bjUEyNGhqzoKEfAjoDcB2WqrrUSJ0Oww/LmfffZZUWsFf7ZE38FhoTuKgtB3unOUqA5/oSOOOEJUKWGH7r//flF3E39y3nd9MZJDDjnEjqHc8OHD89LRNvhzgmfkk08+EbW6yEsP/rj88suNcwPHN998c7nxxhvF8W8E8/p/gyke/sXI+/XXX4vumvmTY31X02RRc04ZP368bLbZZrHKtFqmSnAatBpmzdRfcnT8M5q4n+mCVVRBKl9++aW0bdv2n0R+yywCap0hSy65pHTo0MGeSbXiVAEflFo2CvgRIODvGjVqVEmcVEkiqiSx62vy5Mm5/IjmBk4q8FWVI6uttpr1P6xMUo4OzoUwNLN/LOlcwDuduiIb1032e8kWEoEqINBqmh32lwjEQeCLL74w9w2dcrZD069fvzjFYuWBmeuee+4ZK2+pTHAzQRth4QCOkWICXgvXn7DoL7fccoulg0+jlGhYxhzvCHaoVDlSqkgu/brrrrPzKKlo7li5X55//nmrA+5AlHAEaNERjkurHKVFxz8jfdZZZ9n9olevXv8c5LeGQMDxZqkiv6btveiii+yacc9MWE/GkXPPPddcbuLkTZMnqUUH50Ia1OtbNslcoEVHfceMZ68/AnRdqf8YsAUZRWDixIl5IWdvu+22TLVUd4ly7QP3RSlRq4vci5taYxRk33TTTS1do6AUpPkPqBWGmQnjBVCjuHgPPfSQP7nkd93psvOcc845JfMWywByU3B1xOUSKVZXM6ZR0dGMoxq/T1R0/IOVRnyye87RRx/9z0F+awgEQLyNZ83ee+9d0/aCx2XDDTe0c+P87du3j/WswfMT3B5hPFWV7EBSRQfnQiVHobZ1JZkLVHTUdox4tuwhQNcVfYJRiEAUAoMHDxb1k7VkuFogbCxMAbMgd999tyjvhjVF+TksVGtUu1QZIAsttJDAtBbmvx988IEo0VsuO8LjOlcVhNZDeN0ogfsL3GAgSnKaC8kblT94XK0xZOWVVzZ3IHwmlT59+si///1vc5nZddddk1bTtOXoulL+0KovvjzzzDMWuhnm8qr8q7ibA8zh4bL11VdfifIIiL6IYsPBQjF//PHHFpYSbhaqxCu/A74SdF35HxhwF1DOBlHiSAt7rVZgPpT++apWauZagBDgwF45lex+iXvjWmutlQsJ/txzz9n4IeQp7qV//PGHwO1v4403tt//1Ng833DNwnUDGKrFn123Yb1TS0hR3iVRwu3c8yQsXznHLrjgAsG13KVLFwtZXk7ZtHkxHxGOGP2G4Hl71113Fa0Wz1jlFBEl2hZcI9UQXHMYB4zJTjvtJMqVFetcceYCQsIrL5nVh/cAhKRHn5xrK1yJIHhPUCJyc+lFPtSN6wSh7NXyoBrdzkSdjTYX6LqSicuGjagnAtnTvbBFRCA7COgD3lM/2dyuDiwn4pKaVbsXyrORa1cps171Mc7lDQt99/DDD1s6SNiKiSpIci4ret/ykpCJvvHGG97222+fGkeErkUbDjjggGJNbsk0ROOBtQvwmTJlCqNMlLgK9KXd23333W0ntkePHh6Ie5XHwf6OOuqoHH4ffvihpwoQT18ejVxwscUWM6JDkB9++umndhZEaYC1kb7we7o4M9Z7WNc8/fTT3jLLLJObhxibrbfe2lPf/VxYa4SwxHEQKSKsZppd4Way6EhzPb/00ks5zD/77LPIKwE7n8A+7A9j5wSkkmF5MM+aVVSpnOuzKh1Cu/nyyy9bhBRgo7xJoXmSHIRlJeqE9WAp98wk9Zcqc/311+f6jnaocqFUkaqlqxLWIpvh3oRQ7rjv4BO/EfEMWBWTOHPh6quvzuuv/1r3j6tycoXmw72zmaXR5gItOpr5amTf4iBA15U4KDFPSyPw7rvv5sLV4aE/dOjQTOCx4oor2otGMX4OcGccdNBBlg8vilEs7i7SjBKFFu3bGWeckXu5WX755YvmrXbiE088YW1Rq5Bqn6ph6sfCGZEHEF4Ri2X8YfGMl+D11luvYfpRy4YqOZ+HkKNubiM6EgSLqp49e9pxp0xD9AW4sIHvxiklUA4cPrrTZ+WgDNFdYCuHObfddtt5cNNSCw7vySef9BCyGsoSt4CAQgr1oRzM5XFdI0oE0nW31nPtscrL+NcMio5KXM9YmAJLzIliAu4khMZWQufc2KAceJAQ1cMJ7qFu7HAPxNgpMaSNr8vTTJ9wkVTLlVyfo1xINtlkk1we3HcqJVBOObz9CqdK1R+nHijmXRsw79977704xTKXJ85cUCJWmwe4Z6mlRq7f6D+UG04Qxrd79+6WjnwDBgzw1PrGi4ro5so18mcjzgUqOhr5imPbK4EAFR2VQJF1ND0CeAl2Lzrwvy2Xl6LSAPn5OdQFxbv11ltzf3gZgUICL6RzzTWXtVvNqj0QeEaJC4tXijcDL/YOh7PPPjuqupocR4hetAW7WhQikBQBt4hR94Sc5YarC9cYFBFQWLz22mvusH2Ca8YtBKBU8AsW6LguNSqQ/3Due//+/XPzaMSIEbnj7gssGLBLi+sbisok0gyKjiT9DpZxiglY4cQRKLOcogr4Y5E/YcIEKwprPo3IZeOy/vrrp7K4idOWLOTxhzAHHlAGBQWWR1CwIh1/UHpUUhAiFvXC2qAeopF6zErL9Q/XQCNKuXMB4eNdn/GJkO7qNmNdf+SRR8yCB/fHqPtcI2JUrM2NOBeo6Cg2okxrBQSo6GiFUWYfK4IAFAfuob/AAgvUdQdP+TlybVHuDQ+LNP8fdu+xCw3CMpi7lhLn2hLm1uLK4iXfuUMAByz06ikgRXXj4d9xrWebeO7GQmDSpEm5awjKzDBZffXVLc+gQYMKkmGd4a5B5YuxdCzGsDCD9UaUKM+NlVtppZWisniwrnJ1J1GsUtHxP2jhegQcl1tuuUisgwnORcnhj118uGbst99+VhcUvt9//32wWFP+hquKwwGfcD0MiiOYdvmgaK+kKN+QtaGeynX/M/eUU06pZPdqVleSuaD8X3njr7xcnnJ4mMsMxvvaa6+tWfvrfaJGnAtUdNT7quH5640AyUj1Tk0hAnEQUDcQ0YWJERUiv+7qCAhB6yG66DKyM5x7zJgxsvPOO6dqBvoybtw4UcsQAclnmICYTR+alqQKDwFxo7pEhGVNfOyqq66Sm2++2UhGQf5aTEB+pm47RoIGEjyQbwblm2++EbV+CR7m7xZAAOS7IMkrJmrJJBpu0bK8/vrr4oj2/GVAhAhCxKj5rtweRoiri2FR6wzRxbDgOt5tt9381eR9P/TQQ+Xiiy8W5cQRNcfPS3M/dGEtuji3n0lIf1271RRd1DXHVRv7U3ex5Z133jGi1NiFAhlB1qmuHyXHIVBMcK8B4WIcAXmon1g5WEYjFYgqn2SdddYR5SIKJkf+Bimt7mAbwSIyqSWf3WtAFKvuRQKy2mLy+OOPy8iRI+15oW4zovxORlKpVnbFioWm1XMs1EVSlH/E2tWxY0eZNm1aQRtPO+00UZfO3HFV8okqCHO/037REOai7iIybNgwOfnkk9NWl6i8KhtFrXhkjz32EA2RnqiOehdKMhd0kSI77rijPZNd+zGvQdarFiJyzDHHuMORn5WcC7gWQQiaRnSjykhTy62jEeeCWrLJbLPNJmqRWG53mZ8INAcC9da08PxEoJEQAPmmM1fXO4CnL+R1ab7j50Ab9MUzdRtgDYK6ipmgou/Igz9YkSQR+O9G7ZyjPpiXw1QcvAlxxPEkRIWYRThJ12Z+hhMtNisucYhyXUhlYACivS233LLgD9c60kFKHCbg8lh66aVz11kcVxNn0VGM/BecH3CZwbmT8NCktejYYYcdcn1Kc40kIW9UhVPsc8PNpJiAHBHt12grxbKFpsEl0I2BwwCWHaXklltusfvYqaeeanwOMPPHPVYVBR7cksqVeo2FKopzIczRf41uFdp0fxhWuLA494bQzAkOwhoH5w+6iCWoKlERWDBoVDILNxunb7BwSUMknKiRMQolnQuwmFxllVXy5iTulXGkknPh1VdfzWuDm5PlfiZ5f2nUuUCLjjhXKfM0MwK06NA7JIUIlIPA5ptvLuqzbbtz2OmttSDUnfr/2+4idmqxY5tWsFOFHSuEa1XOgtDqlBROsKMH0cgDoi/sofmKHcQONqxPNGJMaDZlhTcrjaWWWio0PXgQFh3qUmOh7rBrERSk4Y/Seghgp18XqUU7rgoKgSUHBNd/McEuYJRlBK5bdWew4uoGZmEfi9UVx6ID5THPYZUE6xSEfSxH0lp0YOdeFxapLDpg+YVQo7r4LafpZs0Bi604AkuLYpY77n6NMJywFitXnMWOK7fLLruIKmvdz4JPhPLGdaUktGbR4TIAT426Y5YdGmnHHY71Wa+x8IcwR0NhqQSrAL8g9Cis73QxbIdV6SEI1VtMgJES+IoqF0VdLItltTSEIUdY8iOPPFKUR6pk/kpmAPawTlGCVQunCuucYvL++++LRmMyS8JSVonF6qlGWpq54Prl2oU5rRGmBFYOUVKNuYBzumst6ryljuN+Gvcdw9VVrblQjhUr2lLuXKBFhxtBfrYsAs2sxWHfiEClEXCh5kBEh9Cz9RC/r/D+++9fkSaAXE1vgkVD5yEihCOFA1dHuTtW4BnQxacXZX1Rbkewk442I6IIhQgkQWCDDTawawi79ri+kwqiruA6xPWIv1KkiXEsOrCL6qwJ0M5yJa1FR7nny2p+Fw5yiy22KLuJanKfN65ufE888cTIutSU366BMOs4WGaAzBocII0gQU4CRCALCjByuOBT3VgsCywfXCSiYJlrrrnGyoCUN45069bN8p9wwglxslcsD4hpYU2CXfGpU6fGqhfvCLA0jBLwYGE+g1C81pJ0LiDyU+/evfPGGWON6FDFcOFcKD0XyrViLXcu0KKj1rOM58saArTo0Ls1hQjEQeC5556TXr16mVXDs88+a7utccpVOg92tYYPH27VaoQVUXPi1Kc48MADjV/gvPPOE+wER4mavuZ4SeAr63axo/K746oUMV99lFeiOnc49wmfWzUPtvqK7c7mCugX7LTpi5Zgx+KDDz7wJ9Xku7rX2I4tdrpKWQ7UpEE8SR4CShho10bewcAPP9cN5jc4eKLk008/zVk0+fOoa4ZZd6m5uugix7hzVCFoPA7gpwiTOBYdfisRdcHKcYmE1Rd2LK1FR1idjXjM8RKsvfbaoi4ksbug4TNF3U3Moubyyy+3sQXXgJMobiRwgTz66KNmaRe0AAKPBfgsYAk4cOBAV1VmP/2cBOCgAS9TUDS8rgwZMiR3GPwlsOKBVQN2/WEVFBTc78GXAktCWF6VEtzncb+/6KKLRJWEpbJXJB2WKqocEzzrMe5xLQBg0YUyeJ6FSefOnQXPDlV22fMrLE+1jiWdC+qOJ0q8LOomZlY14AxyFle4RmBlEWa1xblQei6Ua8Va7lygRUe1ZhPrbRQEqOholJFiO+uKAEwwYTIIYku8yOGBXy9xpos4P16Y8OBLKzAHxmIKZsQgVIwSmCRrqFpLxiLx3HPPjcqaOw7XEZCZgdgQBH9YBPrlzjvvlAEDBph5PpQGILKDa0wpQT4Q/BUjdCxVR5p0uPig7XjxDvYpTb0sWxkEsJCEu0kxwWLEzWUQk4Yp4VD+wgsvlDvuuKNgoYwFDZSfN9xwg+huvWBxBAJL3COw0IO5fZj5ulN0QBGiXCKhTcR1pVGTTIkGJQqu9XKkGRQdujNkxI/K7WP3DxAO4/6nlgCx73sOh2JYB3GFUguLdSxGlWfDFvIgBFWeFsE9CoI5D3enIOkmXOhAXP3VV18VKMNxv9TIF0bgCCLHLAuedfPOO29uQQt3nDClBe6/mAcQLHY1Go25NSJ/UnehIC5wF/nxxx+N9LcSiv1g/WG/NcqaEX3ff//9AiVZHMHzUXl/7O/ee+8NLVLuwja0koQHk8wF3BM18ooRkeOZi3sqNlqw4eJErT3k9ttvL1D4cy7Ufy5Q0eGuUn62LAJZMzFhe4hA1hCACW7Pnj3NbBPkdPUUkJ/C9FlvWF6XLl0q1pSJEydancXIEd3JlGPD8sKsXl/s3OHQT7ipqF+wp6z5oaSpaolhZr7KM+KBtAz9UqVLaF3Bg7oravkr5b4TrL/Yb2UwN7cCVeAUy8a0BkAApva47jSKRqhLgUb0MSJCjZKS1xuEbdaFoLfJJpvkHcccVX9+qxOEfaroy0vHD+e6grmsi4eCdLgIwM0L7VKlSEF6nAON7roC10CY+IMEESEs4fqmFhGe8vLYPUOVSXFg8C699FLDURdosfKDCBnhY4E9QnT7BfMepJRIw9/888/v4R7mBM8KlxYWftbdsxDOO+ty11135fqCPumiNe9ahjuDKgfz8qhyyLrljqvVRkE3ca/3Y1aQIXDgt99+y7lwgcy6FnL88cfbOZXTJdbp4EY5evRoTzl1DI/gdROrkhpkKmcuYHxd+GyNFOQpl1FeC/Hcddc6PuGm4hfOheJzAa6JGnGrLBfgJHOBriv+q5LfWxEBEI1RiAARKIIA/IjxIEc8+XqIko96eGEcO3asRYZwLxdgDscxpOGhmUZ0B9IWELpLWZJ7BOfSHS7DBL7IarpccH7dffPwUt++fXvz7VWz49Dm6a6Qp9YclqYkf1YnXrDjCCIAAAsN9Rcne0XzaOhQexHW3bmK1svK6oOAkuPataRWGB4W0HjJh6g7i4cIIIgqgWO6q+8pYa+HhaqLvgS+HjDyO3nxxRfzorBgrmDBpK4QLktO0YHrV3erbQ67RJRXKy1rD6LCYG4mkUZXdKjFgylzcf/zi1pFGDbALQ426kZi+YF1FC8ClCoYY7XO8MA/5O6x4Gdw1wLaoJYLBZwdumNq92W1cPNw33Nlwe8QFChxka6WDsGkzP1214/rDz733HNPb9KkSR4U/i4KB55DLo+G+fXUuslTyw5P3Rby+oSxAsZqWWOKKij74og/2pda08QpkioPogShP1A0QskY9YeFPjhXMP9d9C+Hg1pBFLQhycK2oJKUB+LMBfALYeywQHb9wXgGoyepu2su3eWDYhLRqzBmnAvRc0GtA01JqtZpphyLG4kpyVygoiPlpGHxhkeAio6GH0J2oJoIqG+2PcyxM+t/4U1zTo2e4Kl/d+wqoDCA9QQWVnihwq4Rdozxoo+XMewKwyIjray33nrWV+wylBLsUmMhgl0+vORgx0dN+C2EY/fu3S20Ih6wpZQW2M3GguDrr782olM1TY8dmhBWIliUqJl5qeZWNF1dcKx/W2+9dUXrZWX1QwBEpOqe4mGhhusZ16G6T9n1DSUIFsIQzDNcc24e4hMWBgg/6QQLXmd14OYqFgrq0uKy5BQdsKBSVzFTCELJoub+dn4sHkFamEbcQhU76I0owAv3PeDjFyhNnVVbnB1+KDfcQky5BPxV5b6DWBl1tm3b1u6vuJ/hu7od5d33UR7jjzTkwfjCwgMKYizwcF905/Irv9yJYJGC9D322MMdyuyns2pBexHy268AwjFYyMDKCc9FbAL4yXgR/hxKQb/AygGKEgiUh8AwjjjiUszNWoizxnLjmORTubPympp0YZtXSQV+xJkLgwcPtncNXPvu+sZ7RtDScqONNrL3D1z/7j6H9wFcJ0899RTngs4RXDvBuZDGijXJXKCiowITh1U0NAJUdDT08LHx1UQAL7VYsGDhHmaGnPTceMnddtttkxavWjkXUaYcs1vsUt12223esGHDbJcbZdWn3VPSv7wFQqlGY5GJlwIsEuMIdt2RHwqoWst+++1n546jEKp125KcDxEgsBgO/sF9olLKvSTtqkcZKDTeeOMNb9y4cZ6S7eaZ6leyPc51xbmKQdHy8ssvexq2umKKu0ZXdChxsc0zmNsHBUoozP+gO1Ewn/sNJRLyB5UmLr2Sn3CBwrngwhSUgw8+2NLg2pFlgZLGKZPQFw2xawppzAnce+HeExQoi5TDw3v77beDSWZJg0UwlPywbEKdUKTEEeWVsPyw+GtESbOwrUZ/ORfKQ7XScyGNFWuSuUBFR3njzdzNhwAVHc03puxRBRDACxncLrBb4Tc5T1s1OC2wOwY+iqwJQgFilxK71DA7raUss8wy9jKLRSb8UJXIrejpnZsLQu3WUrB4gWUNdrNKCUyAw176S5VLm66kcKa0iFsPFG/O/BxWOdttt539weUCVjMIPRzma+/qx3WjEU6qphRw5yn2mYU2FGtfMC2o6AimV+J3oys64OqAhXNQsCvt3IaiLDSCZZRo2e4vUFJWW6DExkIeYVeDAoUB0uBymGUJ8nNcccUVqZoLhbgbKyVjNQxgqRhHnKVhmMIrTvl650mzsK1G2zkXykO10nMhjRVrkrlARUd5483czYcAFR3NN6bsUUoE8FKmYSZtR6vUgrucU8HsHYoTmOzG8S0vp+5K5XVkeWlfbMtpD3ay8fKvoRytGDg/iu3ewVUFljZYlNda4K+NtsJiJUpgBYF8IOarxzjDhx5m3mGLxKg2gzAW1yUI5PyCuYCFCUzz//Of//iTct9hCQJMQDzrl6lTp3og7CznL6lSMaoN/vZk6TsVHclHA9ZjuN6ggIsr4NJBGbhbwHqmmoJ7J84VZj0CCx5YNmhElmo2IXXdTkmGfuAv6bwMNgT3F2wgQFEVBwPwsyAvNgdgedaIkmZhW43+ci6Uh2q15kK5VqxJ5wIVHeWNN3M3HwJUdDTfmLJHKREA0SRe7rDgroTgBQ2kZe6lESSaWRWY7vfo0cPr2LGjh2gTtRDsbgKbE0880SKzIJIFSP+iBESQMKvW0J1RWapyHAt5+KGXUrDAX71r166hxIcg08OLE3ZmoAjBtYb+V9pFRMOSWkQQKJFKCXgFwPcSjB7iymFhCIsbp4hyx91nlJKhX79+uWseixuU9/+BzBA4QcHi5gbOk0Si2pCkrlqU0dCV1uelllqqaqdzL+jAplkElkVY9MLSCFZ35YjjPwF/QDUFcxnWUEGXRw1TamN+1VVXVfP0Fanbz88RN1pNnBPD2gxzHZG7IFACFONYQiQT5IeVWaNLuQvbavaXcyE+utWaC+VasSadC1R0xB9r5mxOBKjoaM5xZa8SIuAY/dOGDcVuFXbAQWToJ2nDS1ut3S3KhQJKBuzgI+JDtXc/0TbwnyC6ARYvULAUWwg4HhHs6tZaED4P41eMABFWO1DCPPjggwXNg3UQ3IKgCEE+RC6A5RDqRBSGsDCkBZWUcWCvvfayCAelxhAWF2hDWKQAdzpY2IBkDmEUgxKlZAAZoXOJ6datm/n4B8viN9xOEJUE2GC3O4lEtSFJXdUsA2UelFuYX8Acf7BMQOQhWM9UUppN0YGdaChBMWeC1kNxcDvvvPMM73333TdO9lR5oNDEQgYRWWC9g4U9FHoHHXRQqnprVdhPPIr7SKUECgtc83DhBAk1xrOYtQhcBJG/mAVdpdpW7XrKXdhWsz2cC/HRrcZcKNeKFa1NOheo6Ig/1szZnAhQ0dGc48peJUAAignsFuLFCjvPG2+8cew/hGPDDjXY5LE7jjrC/sCBAdK2rAtY49H+s88+u2ZNRYg1LHqjBPwdWCyApLDU4j2qjqTHQUiGhTjCwRUTKGxgvRMUuLDgukAUH7+AjwQv+8AaPBeVFBAGgi2/VPhdjDHOj93VKMF8CHNtQf5iSgbUCTcj1N+nT5+o6u24s+xJYklUrA1FT1rjxOOPP94iboArAsS9CFGJSBR9+/at+H2hmRQdIMFEZAdYwyVVCMFtAvdnRMD57LPPqj7ysOwAcSd2YmHJ8N5771X9nJU6AazWMGexSILSplKC0LJwRcF9D4SsxSJXIbQz2oCoFY0uSRa21ewz50J8dKsxF9yzLq4Va5q5QEVH/LFmzuZEgIqO5hxX9ioBAvPPP7+9WOHlqlp/tdhNTND10CIg08TOM3ZSsyCwCsCOIF6Say14IcE1ceedd0aeGhYbyHPPPfcU5IHJPdLw0uFClbpM2M1H2uqrr+4OVewT1gM4ZzHFkOPnCLbLNQJKHlhawMInTEopGZzJNvp4/vnnh1Vhx9BGuLgkcS0o1YbIkzZxQrMoOuCiBiUHwln7BSSP5YbghaUVrsNKWin429Qs32FdhjDalbYyGzlypD1TYN0A5SnuLVGCiFrYTccir9Gl3IVtLfrLuRAP5WrMhXKsWNHKNHOBio5448xczYtAG3RNH/wUItDyCCh5o6hpflVx0NBuoou5qp6jkpW//vrroj7aMuecc1ay2kR1TZ48WfTlWNq0aZOofNJCGoFGOnfuLJ06dRJV+kSeX3flRRnaRS0SRHct8073wgsviFqDiLrmiHK2iL7A59JvuukmUYWE6GJO1OUpd9x9UQWAqEWI+xn6qdYWoi4zBWka3UfUbF50sSBq8l+QrrvOMvfcc4vyhYi65BSk44C67Ihafcgdd9whvXv3LsijljiiSihRd4LIa1tdc0RddUStO0SVPrLmmmsW1IMDJ5xwguhLnah1VGh61ME4bYgq26zHNRShKLmwqBJIlAulIbuJ61Zde+Siiy4StQjK9UGt4kStp0QtpGTdddfNHY/zBXNtzJgxolFR7LqPU4Z5KocA7qe4zy266KKRlapCWVSpLWoBJSeddFJkvkZJUDcdUd4We79QiyRR6z3RTY+6N59zob5DoFHZRN07RTeUIhuSdi6o+5zoRoW89tprkedgAhFoagSaV4fDnhEBIkAE0iNw1lln2S6wLo6KVtahQwfbeYnKBNecsB1MF+5vgw02yCsKH3YQrwY5XvSBZO3xf0aZgMNEH/miiHVL8XMggguseoYMGZLXNv+PONYU6AssctAWVRgl4ljwnzP4PU4bgmWa/XejW3TAsgdRqnDNwN3B/fl95pNwdWBOgDsGbizYWaVkC4Fp06Z5sK6EK2gwClS2Wlp+a0q5Z5ZfY7oSnAvp8Kt26UrMBVp0VHuUWH/WEaBFh75FUYgAEWgdBJS7wiwPglYXYQgoZ4jtPOqCS5QjJNRqAuVgcYFdk/79+9suc1hdYcewswlrCA0dJ08//bRZfSAfzrv++uuL+seLRmgxSwhYZ2gkE6tGTfZF+QoElhzKK2O73qooKTiFPoBEeTpE3VPM2iSY4bTTTpOhQ4eKcmmIus5YMsq8++67tot+7bXXiio5REPMRlqyxLWmgMXUaqutJtjRhNWGuvgEm5P4d9w2JD5BAxZsdIsOXCuqiItEPsoCKrKALwGWasqrZPNt3LhxNod8yfxaJwTULdHGBffDRx99VFThUaeWtM5pOReyOdaVmgu06Mjm+LJVNUQg65oYto8IEAEiUAkEwAEBwk8Qzp588smxqrz44ottRxl8JcUEO3V627YQucXy+dNAVgjCW5QLWlyAqA/hXl2Uk1GjRnmq+LDiiGYCgs8oTg3/OfB9wQUXLOD/wG45QptilxznR5hXhBXGMeRXdwBPlRve1KlTg9UV/C7HmmL48OF2vrj4u5OBpHbVVVf1EHUnTMppQ1j5ZjzW6BYd1R4TNeX2VJniYe5SsoHAhAkTLLpEsZCz2Whpc7WCcyF741mpuUCLjuyNLVtUWwRo0VFDpRJPRQSIQH0QgOXE7rvvLhpZxxow33zzyUcffVTUN1YVCaIhb82KA7604JeIEuw+Yod4xIgRotE0orLljuttXpSEVDSUrlx22WU5Sw2XQSM0mO+uOyesNWDhAeuK8ePHW1lwfcQRcIPARxxWD9WQuNYUqjQxjLbffntRd6DQpnz88cei0W0KOGFgMYPx07DColEYCsrGbUNBwSY+0OgWHU08NOwaESACRKAmCNCioyYw8yRZRqC2ehWejQhkEwH4qoLnQBeqVW8grAPUHaHq5+EJ/ocALB+U+M5TUkML46n3Y7MqCIZ6DeKlSgjLp4qIYFLBb3U7sbxKmliQFjwAyxKEF0UkiYkTJwaTC37r4t9TotFc+Fe0B3wgcQWWGkpEGjd72fniWFNgfoGjY+DAgUXrV5JSD9FrypU4bSi3zkbPT4uORh9Btp8IEAEikA4BWnSkw4+lGx8Bhpdt/DFkDyqAwDXXXGMLVeVYqEBthVXAVB+hPjV6h50HLgOU2iEA0k2IWkFYyEIoO+CuAaVDmCCkXJcuXTyNkhIrnK1aYNi4IgxtMYG7yt57720uIijjBCSluDbC5LjjjvPatWuXc1UBMSgUH3GJ+kDsh7C81ZJSSga42iy99NKeWroUbQKIIUE0CTNqJxgfKAYPPfTQomFnS7XB1ddKn1R0tNJos69EgAgQgUIEqOgoxIRHWgsBuq5k2dyGbasZAiB/RNhLuAeAvLHSMnLkSAs5ilCICJ0JVwKESKTUHgG4QNx444124rFjx4pa8hQ0woV8VU4JOeKIIwrSgwcwliAs3WOPPQREoWGii3ZRJYeADBWhWpHfCUg/Vdlm16A7hk+EO4bpac+ePQVthYAY9NxzzzXyUuWtsGNR/1RhIxq1RQ4++GA5//zzo7KlOl7MbeTbb7+1OQV3E7jpFAsNrBFmDAO4qcw666zWJo1II3Ah0seygIxVWehD6yjWhlSda+DCdF1p4MFj04kAESACFUCArisVAJFVNDQCVHQ09PCx8Y2IAPghqOio38i9+OKLssIKK1gDevXqZez+/tZgUb3MMsuIhq6UDz74wCKb+NOjvm+44YYCHgpEZwmKWnLIXnvtlVOwuIgvOBfSoAQBZwf4OvwChQYUG0pGKlAEQC655BI55JBD7E9dZfzZC74//vjjpiSBEqVv374F6ZU4EKVkwDUOTBBlBYo+tULJOx36rFYcAj4SKDEee+wxwdz44osvLB+Uj+A9eeKJJ2SXXXYxXBG5JUyi2hCWt1WOUdHRKiPNfhIBIkAEwhGgoiMcFx5tIQRay4CFvSUChQjA7F0XtIUJVToy77zzWrSLKlXPamMgoAtwczXRW70Hfg2/qLWFpZ166qn+wyW/K8GmlQuLGKAEornz4Zxhf4jwEpQtttjCg+kp3D+caDhAc12BK1QpOeGEEzy1jvBU6VAqa+L0KLcRVcaE9jOs7+6YEqcWtAORX+DSohYpBWnuQFQbXHorftJ1pRVHnX0mAkSACPyDAF1X/sGC31oTAVp06Bs2pTURwE7zNttsI19//bW88847tuPt3yFHHHNE60gi7du3N1eVsLK06AhDpbbHEH1l0003tZP26dNHbr311lwDEKUE1wOimvjdS3IZIr4o4aYsscQSMnjwYFFejYhc5R3GtanhcAuikMAKQl9gRBUAkRXCYgKWKUpEKtddd11kvrQJ1bamOOmkkyxKC9xWlL9DlFvFLD/87a52G/znapTvzqLj0ksvlQUWWCCv2cstt5woQW/eMf4gAkSACBCBxkQALp8PPPBAQeP33HNPi+CGZyeFCLQiAlR0tOKos8+GAFwFoOwAP8JSSy1l4UbBieAE6RqZw/0s6xML3dNOOy20DBUdobDU/OCyyy4rr7zyiikSED4WCz+nABk6dKiccsopZbcJZS688EJzeZltttnKLl/JAjfffLNxhjz77LOy/PLLV7LqvLqqrWSAskbJTM39BZwkaoFToICqdhvyOtwgP5yiI6y5cJHC/Y1CBIgAESACjY8ANmew0RImeL+loiMMGR5rBQSo6GiFUWYfCxD47rvvTMutbgCm7OjevbstBqdMmZLLC44A8DQkEY3WEUlqSkVHEkQrXwZWDuDNgIDzAtY84OzANQBrDg3/WvZJoTjDonzbbbetGvlnnEaB+wKWHLBWOeOMM+IUSZyn2koGjTIjN9xwg8w999yi7kSi7jwFba12GwpO2AAHnnzySVPkhTUVGHbq1CksiceIABEgAkSgwRAAJxY2N8JkrrnmsneBsDQeIwLNjgAVHc0+wuxfKAJQYjz//PNG1IjIDuecc45ccMEFMnDgwND8lTxIRUcl0UxeF6J5wIoDBKJt27a1xXTv3r1l0KBBFtUkac0gMEX0nmOPPVb69euXtJrE5RBpZfPNNze3lrvvvruoe0vik/gK1kLJAILSOeecM9IdrBZt8HWZX4kAESACRIAIEAEiQAQyjgAVHRkfIDavughgsbvgggsKLDzAAZBkF7/cFlLRUS5i1csPBRcUXU5mnnlmef/996VDhw7uUKJPhJDdeOONLYwsrIVqKXCbghnr6NGjc2Faq3l+9HXxxRcXJUyVdu3aVfNUkXVnoQ2RjWMCESACRIAIEAEiQASIQM0RoKKj5pDzhFlCQCNsyPbbby8777yzjBkzRp566inp3LmzLXRvv/12mTBhQqLmwmVgk002CS1LRUcoLHU5CBcPkHrC7BNy4IEHCsgbKyEgs4XipNYC9xmNtFLT04Lbpt6cJFloQ01B58mIABEgAkSACBABIkAEIhGgoiMSGia0AgJQckDZAbbq1VZbTRZbbDGZPHmydOvWzSJxaFjQRDBA0RHGJYDKqOhIBGnVCh155JEyfPhwmWGGGcwSAooPChEgAkSACBABIkAEiAARIAKNiwAVHY07dmx5BRBYccUVjY0aO/onnniigJx07NixFag5vApE9wADNngUQHqJMI9t2rQJz8yjNUEAbg9QbPXt27di1hw1aThPQgSIABEgAkSACBABIkAEiEAoAlR0hMLCg62CwJVXXimHHnqoheUCv8A999wjYKiutGyzzTYyceJEI4acfvrprXrwg0Dhsfrqq8uDDz5Y6VOyvjIQ+P333yOj5JRRDbMSASJABIgAESACRIAIEAEikAEEqOjIwCCwCfVF4Mcff5SvvvrKInDUtyU8OxEgAkSACBABIkAEiAARIAJEgAikRYCKjrQIsjwRIAJEgAgQASJABIgAESACRIAIEAEikBkEqOjIzFCwIUSACBABIkAEiAARIAJEgAgQASJABIhAWgSo6EiLIMsTASJABIgAESACRIAIEAEiQASIABEgAplBgIqOzAwFG0IEiAARIAJEgAgQASJABIgAESACRIAIpEWAio60CLI8ESACRIAIEAEiQASIABEgAkSACBABIpAZBKjoyMxQsCFEgAgQASJABIgAESACRIAIEAEiQASIQFoEqOhIiyDLEwEiQASIABEgAkSACBABIkAEiAARIAKZQYCKjswMBRtCBIgAESACRIAIEAEiQASIABEgAkSACKRFgIqOtAiyPBEgAkSACBABIkAEiAARIAJEgAgQASKQGQSo6MjMULAhRIAIEAEiQASIABEgAkSACBABIkAEiEBaBKjoSIsgyxMBIkAEiAARIAJEgAgQASJABIgAESACmUGAio7MDAUbQgSIABEgAkSACBABIkAEiAARIAJEgAikRYCKjrQIsjwRIAJEgAgQASJABIgAESACRIAIEAEikBkEqOjIzFCwIUSACBABIkAEiAARIAJEgAgQASJABIhAWgSo6EiLIMsTASJABIgAESACRIAIEAEiQASIABEgAplBgIqOzAwFG0IEiAARIAJEgAgQASJABIgAESACRIAIpEWAio60CLI8ESACRIAIEAEiQASIABEgAkSACBABIpAZBKjoyMxQsCFEgAgQASJABIgAESACRIAIEAEiQASIQFoEqOhIiyDLEwEiQASIABEgAkSACBABIkAEiAARIAKZQeD/AeXe7oiw5vOhAAAAAElFTkSuQmCC)"
      ]
    },
    {
      "cell_type": "code",
      "metadata": {
        "id": "d60XH_iJruMz"
      },
      "source": [
        "from sklearn.mixture import GaussianMixture\n",
        "gmm = GaussianMixture(n_components = 3, covariance_type='full')"
      ],
      "execution_count": 181,
      "outputs": []
    },
    {
      "cell_type": "code",
      "metadata": {
        "id": "fl0EHagYsQVM",
        "colab": {
          "base_uri": "https://localhost:8080/"
        },
        "outputId": "80d14201-ea58-49ad-db4c-b9b7956c4750"
      },
      "source": [
        "gmm.fit(train_features)"
      ],
      "execution_count": 182,
      "outputs": [
        {
          "output_type": "execute_result",
          "data": {
            "text/plain": [
              "GaussianMixture(covariance_type='full', init_params='kmeans', max_iter=100,\n",
              "                means_init=None, n_components=3, n_init=1, precisions_init=None,\n",
              "                random_state=None, reg_covar=1e-06, tol=0.001, verbose=0,\n",
              "                verbose_interval=10, warm_start=False, weights_init=None)"
            ]
          },
          "metadata": {
            "tags": []
          },
          "execution_count": 182
        }
      ]
    },
    {
      "cell_type": "code",
      "metadata": {
        "id": "ZlDz-icvsbP4",
        "colab": {
          "base_uri": "https://localhost:8080/"
        },
        "outputId": "5b7bce2a-01eb-41c4-f738-26585ad155d3"
      },
      "source": [
        "gmm.means_"
      ],
      "execution_count": 183,
      "outputs": [
        {
          "output_type": "execute_result",
          "data": {
            "text/plain": [
              "array([[4.99      , 3.44      , 1.4525    , 0.2425    , 1.39842106,\n",
              "        2.50217287],\n",
              "       [5.9195122 , 2.77073171, 4.24146341, 1.32195122, 1.34470594,\n",
              "        3.44992631],\n",
              "       [6.53333333, 2.96666667, 5.52051282, 2.        , 1.35549102,\n",
              "        4.55441023]])"
            ]
          },
          "metadata": {
            "tags": []
          },
          "execution_count": 183
        }
      ]
    },
    {
      "cell_type": "markdown",
      "metadata": {
        "id": "oGRWmDnqb73V"
      },
      "source": [
        "Comparing the means with those from the probabilities document we can see that the 0th item is Virginica, the 1st is Setosa and the 2nd is Versicolor."
      ]
    },
    {
      "cell_type": "code",
      "metadata": {
        "id": "Chi0Vc29siGX",
        "colab": {
          "base_uri": "https://localhost:8080/"
        },
        "outputId": "2da5378a-973a-40e9-c46e-10921e9a16da"
      },
      "source": [
        "gmm.covariances_"
      ],
      "execution_count": 184,
      "outputs": [
        {
          "output_type": "execute_result",
          "data": {
            "text/plain": [
              "array([[[ 0.123901  ,  0.1064    ,  0.018275  ,  0.009425  ,\n",
              "          0.00514132,  0.0124108 ],\n",
              "        [ 0.1064    ,  0.154901  ,  0.01315   ,  0.01055   ,\n",
              "          0.00747225,  0.01414549],\n",
              "        [ 0.018275  ,  0.01315   ,  0.03299475,  0.00601875,\n",
              "         -0.00112731, -0.00102975],\n",
              "        [ 0.009425  ,  0.01055   ,  0.00601875,  0.01144475,\n",
              "          0.00149908,  0.00073136],\n",
              "        [ 0.00514132,  0.00747225, -0.00112731,  0.00149908,\n",
              "          0.01940366,  0.03999446],\n",
              "        [ 0.0124108 ,  0.01414549, -0.00102975,  0.00073136,\n",
              "          0.03999446,  0.08878048]],\n",
              "\n",
              "       [[ 0.28693735,  0.09861987,  0.19114218,  0.05908388,\n",
              "          0.02533252,  0.05615667],\n",
              "        [ 0.09861987,  0.10011998,  0.09389649,  0.04600833,\n",
              "          0.01497066,  0.03127207],\n",
              "        [ 0.19114218,  0.09389649,  0.22584276,  0.07933373,\n",
              "          0.01017355,  0.02563963],\n",
              "        [ 0.05908388,  0.04600833,  0.07933373,  0.04122646,\n",
              "          0.00603754,  0.01227996],\n",
              "        [ 0.02533252,  0.01497066,  0.01017355,  0.00603754,\n",
              "          0.01940797,  0.03977555],\n",
              "        [ 0.05615667,  0.03127207,  0.02563963,  0.01227996,\n",
              "          0.03977555,  0.08803422]],\n",
              "\n",
              "       [[ 0.4165822 ,  0.09854701,  0.30623932,  0.04820513,\n",
              "          0.00824631,  0.01489957],\n",
              "        [ 0.09854701,  0.0991463 ,  0.09042735,  0.05871795,\n",
              "         -0.00050423,  0.00239947],\n",
              "        [ 0.30623932,  0.09042735,  0.28573407,  0.05076923,\n",
              "          0.00765171,  0.01926245],\n",
              "        [ 0.04820513,  0.05871795,  0.05076923,  0.08205228,\n",
              "         -0.0024369 , -0.00543946],\n",
              "        [ 0.00824631, -0.00050423,  0.00765171, -0.0024369 ,\n",
              "          0.01278899,  0.02826331],\n",
              "        [ 0.01489957,  0.00239947,  0.01926245, -0.00543946,\n",
              "          0.02826331,  0.06822939]]])"
            ]
          },
          "metadata": {
            "tags": []
          },
          "execution_count": 184
        }
      ]
    },
    {
      "cell_type": "code",
      "metadata": {
        "id": "hPiKYZSQskFB",
        "colab": {
          "base_uri": "https://localhost:8080/"
        },
        "outputId": "6d2ff4a7-fd9d-4338-b82d-ba1c5efe8cbd"
      },
      "source": [
        "gmm.weights_"
      ],
      "execution_count": 185,
      "outputs": [
        {
          "output_type": "execute_result",
          "data": {
            "text/plain": [
              "array([0.33333333, 0.34166667, 0.325     ])"
            ]
          },
          "metadata": {
            "tags": []
          },
          "execution_count": 185
        }
      ]
    },
    {
      "cell_type": "code",
      "metadata": {
        "id": "3P7FcNgVwu46"
      },
      "source": [
        "def bayes_classifier(data, gmm):\n",
        "  sum = 0\n",
        "  means = gmm.means_\n",
        "  cov = gmm.covariances_\n",
        "  probs = gmm.weights_\n",
        "  D = 6\n",
        "\n",
        "  for i in range(0, len(means)):\n",
        "    term1 = ((2 * math.pi)**D)* np.linalg.det(cov[i])\n",
        "    term2 = -1/2 * np.dot(np.dot(np.transpose((data - means[i])),  np.linalg.inv(cov[i])) , (data - means[i]))\n",
        "    sum = sum + (probs[i] * (1/math.sqrt(term1)) * math.exp(term2))\n",
        "\n",
        "  predicted_probs = []\n",
        "  for i in range (0, 3):\n",
        "    term1 = ((2 * math.pi)**D)* np.linalg.det(cov[i])\n",
        "    term2 = -1/2 * np.dot(np.dot(np.transpose((data - means[i])),  np.linalg.inv(cov[i])) , (data - means[i]))\n",
        "    predicted_probs.append(probs[i] * (1/math.sqrt(term1)) * math.exp(term2)) \n",
        "\n",
        "  return predicted_probs"
      ],
      "execution_count": 186,
      "outputs": []
    },
    {
      "cell_type": "code",
      "metadata": {
        "id": "KFj47fIgbcyc"
      },
      "source": [
        "import operator\n",
        "# We can understand what each idex represents by using the means we gleaned from the gaussian mixture model.\n",
        "def get_max(input, flowers):\n",
        "    index, _ = max(enumerate(input), key=operator.itemgetter(1))\n",
        "    return flowers[index]"
      ],
      "execution_count": 169,
      "outputs": []
    },
    {
      "cell_type": "code",
      "metadata": {
        "id": "4Gm0sFo72KGe",
        "colab": {
          "base_uri": "https://localhost:8080/"
        },
        "outputId": "69464c1b-c31a-4101-c34a-d7f16e9b7754"
      },
      "source": [
        "bayes_classifier(test_features[1], gmm)"
      ],
      "execution_count": 187,
      "outputs": [
        {
          "output_type": "execute_result",
          "data": {
            "text/plain": [
              "[0.8436421691085587, 6.996112156641682e-75, 6.351277401604631e-276]"
            ]
          },
          "metadata": {
            "tags": []
          },
          "execution_count": 187
        }
      ]
    },
    {
      "cell_type": "code",
      "metadata": {
        "id": "7YD1SIPT3swG",
        "colab": {
          "base_uri": "https://localhost:8080/"
        },
        "outputId": "08843111-e04c-4539-e840-8f1f0ca132fa"
      },
      "source": [
        "predictions = []\n",
        "for data in test_features:\n",
        "  # Please note the flowers positions  array below should correspond with the positions of what mean corresponds to the flower type.\n",
        "  predictions.append(get_max(bayes_classifier(data, gmm), flowers = [1 , 2, 3]))\n",
        "accuracy = np.count_nonzero((predictions == test_classes)== True)/len(test_classes)\n",
        "accuracy"
      ],
      "execution_count": 193,
      "outputs": [
        {
          "output_type": "execute_result",
          "data": {
            "text/plain": [
              "1.0"
            ]
          },
          "metadata": {
            "tags": []
          },
          "execution_count": 193
        }
      ]
    },
    {
      "cell_type": "markdown",
      "metadata": {
        "id": "NlZBzRsyeziZ"
      },
      "source": [
        "Bayesian Classifier classifies the data perfectly"
      ]
    },
    {
      "cell_type": "markdown",
      "metadata": {
        "id": "Ww72bsrL8S0z"
      },
      "source": [
        "## **Parzen Window**"
      ]
    },
    {
      "cell_type": "code",
      "metadata": {
        "id": "msDGvj5a8VYL"
      },
      "source": [
        "from sklearn.neighbors import KernelDensity\n",
        "\n",
        "def multi_class_parzen_window(features_by_classes, h):\n",
        "  ''' Defines a multiclass parzen window.\n",
        "\n",
        "  Args: \n",
        "  features_by_classes: A list of features that are grouped by the target classes.\n",
        "  h: The bandwidth of the parzen window.\n",
        "  \n",
        "  Returns:\n",
        "  The  KDE for each class.\n",
        "  '''\n",
        "  kdfs = []\n",
        "  for features in features_by_classes:\n",
        "    kdfs.append(KernelDensity(kernel='gaussian', bandwidth=h).fit(features))\n",
        "  return kdfs\n",
        "\n",
        "setosa_features = train_features[np.where(train_classes == 1)]\n",
        "versicolor_features = train_features[np.where(train_classes == 2)]\n",
        "virginica_features = train_features[np.where(train_classes == 3)]\n",
        "\n",
        "kdfs = multi_class_parzen_window([setosa_features, versicolor_features, virginica_features], 0.1)"
      ],
      "execution_count": 172,
      "outputs": []
    },
    {
      "cell_type": "code",
      "metadata": {
        "id": "OtKckqwOfb2j"
      },
      "source": [
        "import operator\n",
        "def predict(test_features, test_classes, kdfs):\n",
        "  ''' Predicts the class the test observations belong to using the kernel densities provided. '''\n",
        "  predictions = []\n",
        "  for index, feature in enumerate(test_features):\n",
        "    logs = []\n",
        "    for kdf in kdfs:\n",
        "      logs.append(kdf.score_samples(feature.reshape(1, -1))[0])\n",
        "    prediction = get_max(logs, flowers = [1, 2, 3]);\n",
        "    predictions.append(prediction)\n",
        "  return predictions"
      ],
      "execution_count": 173,
      "outputs": []
    },
    {
      "cell_type": "code",
      "metadata": {
        "colab": {
          "base_uri": "https://localhost:8080/"
        },
        "id": "n_I2GE27fffS",
        "outputId": "87339fc7-638b-45a6-ad8b-819598ba5200"
      },
      "source": [
        "predictions = predict(test_features, test_classes, kdfs)\n",
        "accuracy = np.count_nonzero((predictions == test_classes)== True)/len(test_classes)\n",
        "print('accuracy: ', accuracy)"
      ],
      "execution_count": 174,
      "outputs": [
        {
          "output_type": "stream",
          "text": [
            "accuracy:  1.0\n"
          ],
          "name": "stdout"
        }
      ]
    },
    {
      "cell_type": "markdown",
      "metadata": {
        "id": "luuer17Mg3vn"
      },
      "source": [
        "Parzen window classifies the data perfectly."
      ]
    },
    {
      "cell_type": "markdown",
      "metadata": {
        "id": "GAyxIAzH8YK6"
      },
      "source": [
        "## **Support Vector Machines**"
      ]
    },
    {
      "cell_type": "code",
      "metadata": {
        "id": "tnD2lSHA8bN7",
        "colab": {
          "base_uri": "https://localhost:8080/"
        },
        "outputId": "5a985a11-0555-451e-b828-5b88a9d69e49"
      },
      "source": [
        "from sklearn import svm\n",
        "# Create SVM and fit the training set.\n",
        "clf_ovr = svm.SVC()\n",
        "clf_ovr.fit(train_features, train_classes)"
      ],
      "execution_count": 175,
      "outputs": [
        {
          "output_type": "execute_result",
          "data": {
            "text/plain": [
              "SVC(C=1.0, break_ties=False, cache_size=200, class_weight=None, coef0=0.0,\n",
              "    decision_function_shape='ovr', degree=3, gamma='scale', kernel='rbf',\n",
              "    max_iter=-1, probability=False, random_state=None, shrinking=True,\n",
              "    tol=0.001, verbose=False)"
            ]
          },
          "metadata": {
            "tags": []
          },
          "execution_count": 175
        }
      ]
    },
    {
      "cell_type": "code",
      "metadata": {
        "id": "mSRtaY6uhDlV"
      },
      "source": [
        "predictions = clf_ovr.predict(test_features)"
      ],
      "execution_count": 176,
      "outputs": []
    },
    {
      "cell_type": "code",
      "metadata": {
        "colab": {
          "base_uri": "https://localhost:8080/"
        },
        "id": "pFEO1_XmhIEl",
        "outputId": "7003d512-d9b5-4602-ac8d-ac0b559a80ef"
      },
      "source": [
        "print(test_classes)\n",
        "print(predictions)"
      ],
      "execution_count": 177,
      "outputs": [
        {
          "output_type": "stream",
          "text": [
            "[2. 1. 3. 2. 2. 1. 2. 3. 2. 2. 3. 1. 1. 1. 1. 2. 3. 2. 2. 3. 1. 3. 1. 3.\n",
            " 3. 3. 3. 3. 1. 1.]\n",
            "[2. 1. 3. 2. 2. 1. 2. 3. 2. 2. 3. 1. 1. 1. 1. 2. 3. 2. 2. 3. 1. 3. 1. 3.\n",
            " 3. 3. 3. 3. 1. 1.]\n"
          ],
          "name": "stdout"
        }
      ]
    },
    {
      "cell_type": "code",
      "metadata": {
        "colab": {
          "base_uri": "https://localhost:8080/"
        },
        "id": "8U9dtN_hhIc0",
        "outputId": "2b86de55-04d8-4ee8-84ec-139e9a1197f7"
      },
      "source": [
        "accuracy = np.count_nonzero((test_classes == predictions) == True)/len(test_classes)\n",
        "print(\"prediction accuracy:\", accuracy)"
      ],
      "execution_count": 178,
      "outputs": [
        {
          "output_type": "stream",
          "text": [
            "prediction accuracy: 1.0\n"
          ],
          "name": "stdout"
        }
      ]
    },
    {
      "cell_type": "markdown",
      "metadata": {
        "id": "L-UgboK7hMLS"
      },
      "source": [
        "Support Vector Machines classifies the data perfectly"
      ]
    }
  ]
}