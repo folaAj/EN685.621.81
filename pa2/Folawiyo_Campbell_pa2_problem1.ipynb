{
  "nbformat": 4,
  "nbformat_minor": 0,
  "metadata": {
    "colab": {
      "name": "Folawiyo_Campbell_pa2_problem1.ipynb",
      "provenance": [],
      "collapsed_sections": []
    },
    "kernelspec": {
      "name": "python3",
      "display_name": "Python 3"
    }
  },
  "cells": [
    {
      "cell_type": "code",
      "metadata": {
        "id": "ys8GpvaFQatG"
      },
      "source": [
        "import tensorflow as tf\n",
        "import pandas as pd\n",
        "import numpy as np\n",
        "import seaborn as sns"
      ],
      "execution_count": 1,
      "outputs": []
    },
    {
      "cell_type": "markdown",
      "metadata": {
        "id": "yUvdMczkqIpf"
      },
      "source": [
        "Read in th data and separate them into train set and test set.\n"
      ]
    },
    {
      "cell_type": "code",
      "metadata": {
        "colab": {
          "base_uri": "https://localhost:8080/"
        },
        "id": "ZpW7iwSXOljC",
        "outputId": "3115327d-1d43-4163-881d-ff2f98240ed2"
      },
      "source": [
        "(train_features, train_targets), (test_features, test_target) = tf.keras.datasets.mnist.load_data()"
      ],
      "execution_count": 2,
      "outputs": [
        {
          "output_type": "stream",
          "text": [
            "Downloading data from https://storage.googleapis.com/tensorflow/tf-keras-datasets/mnist.npz\n",
            "11493376/11490434 [==============================] - 0s 0us/step\n"
          ],
          "name": "stdout"
        }
      ]
    },
    {
      "cell_type": "code",
      "metadata": {
        "colab": {
          "base_uri": "https://localhost:8080/"
        },
        "id": "gyzNp-10OyGU",
        "outputId": "eb934d4c-68de-46c2-a082-90396029fdd4"
      },
      "source": [
        "print(train_features.shape)\n",
        "print(test_features.shape)"
      ],
      "execution_count": 3,
      "outputs": [
        {
          "output_type": "stream",
          "text": [
            "(60000, 28, 28)\n",
            "(10000, 28, 28)\n"
          ],
          "name": "stdout"
        }
      ]
    },
    {
      "cell_type": "code",
      "metadata": {
        "colab": {
          "base_uri": "https://localhost:8080/",
          "height": 282
        },
        "id": "MujEXCllO219",
        "outputId": "3a767bc4-3d6a-491d-df07-22f0c91637ff"
      },
      "source": [
        "import matplotlib.pyplot as plt\n",
        "plt.imshow(train_features[5, :, :])"
      ],
      "execution_count": 4,
      "outputs": [
        {
          "output_type": "execute_result",
          "data": {
            "text/plain": [
              "<matplotlib.image.AxesImage at 0x7f341a1758d0>"
            ]
          },
          "metadata": {
            "tags": []
          },
          "execution_count": 4
        },
        {
          "output_type": "display_data",
          "data": {
            "image/png": "[encoded data removed]",
            "text/plain": [
              "<Figure size 432x288 with 1 Axes>"
            ]
          },
          "metadata": {
            "tags": [],
            "needs_background": "light"
          }
        }
      ]
    },
    {
      "cell_type": "markdown",
      "metadata": {
        "id": "OOgsZ6UYqPN8"
      },
      "source": [
        "Create the neural network. Our feature layer we shall use for extraction will have 12 features."
      ]
    },
    {
      "cell_type": "code",
      "metadata": {
        "colab": {
          "base_uri": "https://localhost:8080/"
        },
        "id": "wT6maGCZO6oh",
        "outputId": "36f669c4-954b-495e-9dd2-cb7cc266e1e9"
      },
      "source": [
        "ff_model = tf.keras.models.Sequential([\n",
        "  tf.keras.layers.Flatten(input_shape=(28, 28)),\n",
        "  tf.keras.layers.Dense(128,activation='relu'),\n",
        "  tf.keras.layers.Dense(12, activation='relu', name='feature_layer'),\n",
        "  tf.keras.layers.Dense(10, activation='softmax')\n",
        "])\n",
        "\n",
        "ff_model.summary()"
      ],
      "execution_count": 5,
      "outputs": [
        {
          "output_type": "stream",
          "text": [
            "Model: \"sequential\"\n",
            "_________________________________________________________________\n",
            "Layer (type)                 Output Shape              Param #   \n",
            "=================================================================\n",
            "flatten (Flatten)            (None, 784)               0         \n",
            "_________________________________________________________________\n",
            "dense (Dense)                (None, 128)               100480    \n",
            "_________________________________________________________________\n",
            "feature_layer (Dense)        (None, 12)                1548      \n",
            "_________________________________________________________________\n",
            "dense_1 (Dense)              (None, 10)                130       \n",
            "=================================================================\n",
            "Total params: 102,158\n",
            "Trainable params: 102,158\n",
            "Non-trainable params: 0\n",
            "_________________________________________________________________\n"
          ],
          "name": "stdout"
        }
      ]
    },
    {
      "cell_type": "markdown",
      "metadata": {
        "id": "bBQselElqdi-"
      },
      "source": [
        "Compile and train the data such that the weights will be optimized for feature extraction."
      ]
    },
    {
      "cell_type": "code",
      "metadata": {
        "colab": {
          "base_uri": "https://localhost:8080/"
        },
        "id": "CUZQVPsMPIzf",
        "outputId": "e9b99c31-d29e-4f20-a6c0-5669356bc768"
      },
      "source": [
        "ff_model.compile(\n",
        "    loss='sparse_categorical_crossentropy',\n",
        "    optimizer=tf.keras.optimizers.Adam(0.001),\n",
        "    metrics=['accuracy'],\n",
        ")\n",
        "\n",
        "# Training the model for a few epochs so we can have good enough weights for feature extraction\n",
        "ff_model.fit(train_features, train_targets, epochs=10)"
      ],
      "execution_count": 6,
      "outputs": [
        {
          "output_type": "stream",
          "text": [
            "Epoch 1/10\n",
            "1875/1875 [==============================] - 3s 1ms/step - loss: 2.2443 - accuracy: 0.2335\n",
            "Epoch 2/10\n",
            "1875/1875 [==============================] - 3s 1ms/step - loss: 1.6895 - accuracy: 0.3381\n",
            "Epoch 3/10\n",
            "1875/1875 [==============================] - 3s 1ms/step - loss: 1.4201 - accuracy: 0.4171\n",
            "Epoch 4/10\n",
            "1875/1875 [==============================] - 3s 1ms/step - loss: 1.2069 - accuracy: 0.5253\n",
            "Epoch 5/10\n",
            "1875/1875 [==============================] - 3s 1ms/step - loss: 0.9787 - accuracy: 0.6406\n",
            "Epoch 6/10\n",
            "1875/1875 [==============================] - 3s 1ms/step - loss: 0.7635 - accuracy: 0.7117\n",
            "Epoch 7/10\n",
            "1875/1875 [==============================] - 3s 1ms/step - loss: 0.4202 - accuracy: 0.8778\n",
            "Epoch 8/10\n",
            "1875/1875 [==============================] - 3s 1ms/step - loss: 0.2221 - accuracy: 0.9491\n",
            "Epoch 9/10\n",
            "1875/1875 [==============================] - 3s 1ms/step - loss: 0.1726 - accuracy: 0.9580\n",
            "Epoch 10/10\n",
            "1875/1875 [==============================] - 3s 1ms/step - loss: 0.1466 - accuracy: 0.9627\n"
          ],
          "name": "stdout"
        },
        {
          "output_type": "execute_result",
          "data": {
            "text/plain": [
              "<tensorflow.python.keras.callbacks.History at 0x7f34134b8fd0>"
            ]
          },
          "metadata": {
            "tags": []
          },
          "execution_count": 6
        }
      ]
    },
    {
      "cell_type": "markdown",
      "metadata": {
        "id": "6kX3r8TrqqKj"
      },
      "source": [
        "Create the feature extractor that will be built from the weights on the feature layer."
      ]
    },
    {
      "cell_type": "code",
      "metadata": {
        "colab": {
          "base_uri": "https://localhost:8080/"
        },
        "id": "KMtpmjp2PMyo",
        "outputId": "c16ca37d-ab1a-4be2-8ee3-a4ac6a90fbc1"
      },
      "source": [
        "# Create feature extractor from the feature_layer in the feed forward model\n",
        "feature_extractor = tf.keras.Model(inputs=ff_model.input,\n",
        "                                       outputs=ff_model.get_layer('feature_layer').output)\n",
        "\n",
        "feature_extractor.summary()"
      ],
      "execution_count": 53,
      "outputs": [
        {
          "output_type": "stream",
          "text": [
            "Model: \"functional_3\"\n",
            "_________________________________________________________________\n",
            "Layer (type)                 Output Shape              Param #   \n",
            "=================================================================\n",
            "flatten_input (InputLayer)   [(None, 28, 28)]          0         \n",
            "_________________________________________________________________\n",
            "flatten (Flatten)            (None, 784)               0         \n",
            "_________________________________________________________________\n",
            "dense (Dense)                (None, 128)               100480    \n",
            "_________________________________________________________________\n",
            "feature_layer (Dense)        (None, 12)                1548      \n",
            "=================================================================\n",
            "Total params: 102,028\n",
            "Trainable params: 102,028\n",
            "Non-trainable params: 0\n",
            "_________________________________________________________________\n"
          ],
          "name": "stdout"
        }
      ]
    },
    {
      "cell_type": "markdown",
      "metadata": {
        "id": "8eXVL_VTqz1_"
      },
      "source": [
        "Generate features for first 1000 observations"
      ]
    },
    {
      "cell_type": "code",
      "metadata": {
        "id": "cbvYX4GiPlMy"
      },
      "source": [
        "# Generate features for the first 1000 in train_features.\n",
        "extracted = feature_extractor(train_features[0:1000])"
      ],
      "execution_count": 54,
      "outputs": []
    },
    {
      "cell_type": "code",
      "metadata": {
        "colab": {
          "base_uri": "https://localhost:8080/"
        },
        "id": "NU2tESsTPnEQ",
        "outputId": "5540c83c-b478-4825-dd1f-aacbd088393d"
      },
      "source": [
        "extracted.numpy().shape"
      ],
      "execution_count": 55,
      "outputs": [
        {
          "output_type": "execute_result",
          "data": {
            "text/plain": [
              "(1000, 12)"
            ]
          },
          "metadata": {
            "tags": []
          },
          "execution_count": 55
        }
      ]
    },
    {
      "cell_type": "markdown",
      "metadata": {
        "id": "WIMCWaf9q8aq"
      },
      "source": [
        "Prepare the data for ranking and plotting"
      ]
    },
    {
      "cell_type": "code",
      "metadata": {
        "id": "-NYMQLZoWDb2"
      },
      "source": [
        "feature_names = []\n",
        "for i in range(1, 13):\n",
        "  feature_names.append('feature_{}'.format(i))"
      ],
      "execution_count": 56,
      "outputs": []
    },
    {
      "cell_type": "code",
      "metadata": {
        "id": "hQQ0Qbx5PrCE"
      },
      "source": [
        "data = pd.DataFrame(data= extracted.numpy(), columns=feature_names)"
      ],
      "execution_count": 64,
      "outputs": []
    },
    {
      "cell_type": "markdown",
      "metadata": {
        "id": "nUc2tsdVq_VD"
      },
      "source": [
        "There are features that are all zeros which are not useful, removing those."
      ]
    },
    {
      "cell_type": "code",
      "metadata": {
        "colab": {
          "base_uri": "https://localhost:8080/"
        },
        "id": "3_-lKT1yjZFe",
        "outputId": "a4a0490a-a7a4-446b-f8bf-d2f21dad3671"
      },
      "source": [
        "to_delete = []\n",
        "for feature in feature_names:\n",
        "  if len(data[data[feature]>0]) == 0:\n",
        "    to_delete.append(feature)\n",
        "to_delete"
      ],
      "execution_count": 65,
      "outputs": [
        {
          "output_type": "execute_result",
          "data": {
            "text/plain": [
              "['feature_3', 'feature_6', 'feature_7', 'feature_11']"
            ]
          },
          "metadata": {
            "tags": []
          },
          "execution_count": 65
        }
      ]
    },
    {
      "cell_type": "code",
      "metadata": {
        "id": "8jFZ2w1ejrPa"
      },
      "source": [
        "data = data.drop(columns=to_delete)"
      ],
      "execution_count": 66,
      "outputs": []
    },
    {
      "cell_type": "code",
      "metadata": {
        "colab": {
          "base_uri": "https://localhost:8080/"
        },
        "id": "jS8gNEYyrLAi",
        "outputId": "5add6126-de6a-4857-e9f6-d1e64de5d9a7"
      },
      "source": [
        "data.shape"
      ],
      "execution_count": 67,
      "outputs": [
        {
          "output_type": "execute_result",
          "data": {
            "text/plain": [
              "(1000, 8)"
            ]
          },
          "metadata": {
            "tags": []
          },
          "execution_count": 67
        }
      ]
    },
    {
      "cell_type": "markdown",
      "metadata": {
        "id": "RMAnU9igrIfz"
      },
      "source": [
        "After removal we are left with 8 features."
      ]
    },
    {
      "cell_type": "code",
      "metadata": {
        "id": "RSukkrn0rmyE"
      },
      "source": [
        "data['number'] = train_targets[0:1000]"
      ],
      "execution_count": 68,
      "outputs": []
    },
    {
      "cell_type": "markdown",
      "metadata": {
        "id": "hlo1YOPlrvCz"
      },
      "source": [
        "Inspect the data to see the shape of the data from different numbers."
      ]
    },
    {
      "cell_type": "code",
      "metadata": {
        "colab": {
          "base_uri": "https://localhost:8080/",
          "height": 419
        },
        "id": "3Q6gWM1_Q27U",
        "outputId": "0c65273b-bf8d-408e-ce76-d74e93bce94a"
      },
      "source": [
        "data[data['number'] == 5]"
      ],
      "execution_count": 69,
      "outputs": [
        {
          "output_type": "execute_result",
          "data": {
            "text/html": [
              "<div>\n",
              "<style scoped>\n",
              "    .dataframe tbody tr th:only-of-type {\n",
              "        vertical-align: middle;\n",
              "    }\n",
              "\n",
              "    .dataframe tbody tr th {\n",
              "        vertical-align: top;\n",
              "    }\n",
              "\n",
              "    .dataframe thead th {\n",
              "        text-align: right;\n",
              "    }\n",
              "</style>\n",
              "<table border=\"1\" class=\"dataframe\">\n",
              "  <thead>\n",
              "    <tr style=\"text-align: right;\">\n",
              "      <th></th>\n",
              "      <th>feature_1</th>\n",
              "      <th>feature_2</th>\n",
              "      <th>feature_4</th>\n",
              "      <th>feature_5</th>\n",
              "      <th>feature_8</th>\n",
              "      <th>feature_9</th>\n",
              "      <th>feature_10</th>\n",
              "      <th>feature_12</th>\n",
              "      <th>number</th>\n",
              "    </tr>\n",
              "  </thead>\n",
              "  <tbody>\n",
              "    <tr>\n",
              "      <th>0</th>\n",
              "      <td>0.0</td>\n",
              "      <td>0.0</td>\n",
              "      <td>176.473465</td>\n",
              "      <td>314.015076</td>\n",
              "      <td>0.0</td>\n",
              "      <td>0.0</td>\n",
              "      <td>0.0</td>\n",
              "      <td>0.000000</td>\n",
              "      <td>5</td>\n",
              "    </tr>\n",
              "    <tr>\n",
              "      <th>11</th>\n",
              "      <td>0.0</td>\n",
              "      <td>0.0</td>\n",
              "      <td>58.009212</td>\n",
              "      <td>232.215607</td>\n",
              "      <td>0.0</td>\n",
              "      <td>0.0</td>\n",
              "      <td>0.0</td>\n",
              "      <td>174.084549</td>\n",
              "      <td>5</td>\n",
              "    </tr>\n",
              "    <tr>\n",
              "      <th>35</th>\n",
              "      <td>0.0</td>\n",
              "      <td>0.0</td>\n",
              "      <td>0.000000</td>\n",
              "      <td>302.822693</td>\n",
              "      <td>0.0</td>\n",
              "      <td>0.0</td>\n",
              "      <td>0.0</td>\n",
              "      <td>0.000000</td>\n",
              "      <td>5</td>\n",
              "    </tr>\n",
              "    <tr>\n",
              "      <th>47</th>\n",
              "      <td>0.0</td>\n",
              "      <td>0.0</td>\n",
              "      <td>0.000000</td>\n",
              "      <td>339.478119</td>\n",
              "      <td>0.0</td>\n",
              "      <td>0.0</td>\n",
              "      <td>0.0</td>\n",
              "      <td>0.000000</td>\n",
              "      <td>5</td>\n",
              "    </tr>\n",
              "    <tr>\n",
              "      <th>65</th>\n",
              "      <td>0.0</td>\n",
              "      <td>0.0</td>\n",
              "      <td>0.000000</td>\n",
              "      <td>324.861328</td>\n",
              "      <td>0.0</td>\n",
              "      <td>0.0</td>\n",
              "      <td>0.0</td>\n",
              "      <td>0.000000</td>\n",
              "      <td>5</td>\n",
              "    </tr>\n",
              "    <tr>\n",
              "      <th>...</th>\n",
              "      <td>...</td>\n",
              "      <td>...</td>\n",
              "      <td>...</td>\n",
              "      <td>...</td>\n",
              "      <td>...</td>\n",
              "      <td>...</td>\n",
              "      <td>...</td>\n",
              "      <td>...</td>\n",
              "      <td>...</td>\n",
              "    </tr>\n",
              "    <tr>\n",
              "      <th>956</th>\n",
              "      <td>0.0</td>\n",
              "      <td>0.0</td>\n",
              "      <td>89.977417</td>\n",
              "      <td>492.410248</td>\n",
              "      <td>0.0</td>\n",
              "      <td>0.0</td>\n",
              "      <td>0.0</td>\n",
              "      <td>0.000000</td>\n",
              "      <td>5</td>\n",
              "    </tr>\n",
              "    <tr>\n",
              "      <th>960</th>\n",
              "      <td>0.0</td>\n",
              "      <td>0.0</td>\n",
              "      <td>0.000000</td>\n",
              "      <td>584.581848</td>\n",
              "      <td>0.0</td>\n",
              "      <td>0.0</td>\n",
              "      <td>0.0</td>\n",
              "      <td>0.000000</td>\n",
              "      <td>5</td>\n",
              "    </tr>\n",
              "    <tr>\n",
              "      <th>964</th>\n",
              "      <td>0.0</td>\n",
              "      <td>0.0</td>\n",
              "      <td>7.959805</td>\n",
              "      <td>242.268448</td>\n",
              "      <td>0.0</td>\n",
              "      <td>0.0</td>\n",
              "      <td>0.0</td>\n",
              "      <td>0.000000</td>\n",
              "      <td>5</td>\n",
              "    </tr>\n",
              "    <tr>\n",
              "      <th>970</th>\n",
              "      <td>0.0</td>\n",
              "      <td>0.0</td>\n",
              "      <td>97.032753</td>\n",
              "      <td>182.552216</td>\n",
              "      <td>0.0</td>\n",
              "      <td>0.0</td>\n",
              "      <td>0.0</td>\n",
              "      <td>0.000000</td>\n",
              "      <td>5</td>\n",
              "    </tr>\n",
              "    <tr>\n",
              "      <th>985</th>\n",
              "      <td>0.0</td>\n",
              "      <td>0.0</td>\n",
              "      <td>0.000000</td>\n",
              "      <td>209.703659</td>\n",
              "      <td>0.0</td>\n",
              "      <td>0.0</td>\n",
              "      <td>0.0</td>\n",
              "      <td>0.000000</td>\n",
              "      <td>5</td>\n",
              "    </tr>\n",
              "  </tbody>\n",
              "</table>\n",
              "<p>92 rows × 9 columns</p>\n",
              "</div>"
            ],
            "text/plain": [
              "     feature_1  feature_2   feature_4  ...  feature_10  feature_12  number\n",
              "0          0.0        0.0  176.473465  ...         0.0    0.000000       5\n",
              "11         0.0        0.0   58.009212  ...         0.0  174.084549       5\n",
              "35         0.0        0.0    0.000000  ...         0.0    0.000000       5\n",
              "47         0.0        0.0    0.000000  ...         0.0    0.000000       5\n",
              "65         0.0        0.0    0.000000  ...         0.0    0.000000       5\n",
              "..         ...        ...         ...  ...         ...         ...     ...\n",
              "956        0.0        0.0   89.977417  ...         0.0    0.000000       5\n",
              "960        0.0        0.0    0.000000  ...         0.0    0.000000       5\n",
              "964        0.0        0.0    7.959805  ...         0.0    0.000000       5\n",
              "970        0.0        0.0   97.032753  ...         0.0    0.000000       5\n",
              "985        0.0        0.0    0.000000  ...         0.0    0.000000       5\n",
              "\n",
              "[92 rows x 9 columns]"
            ]
          },
          "metadata": {
            "tags": []
          },
          "execution_count": 69
        }
      ]
    },
    {
      "cell_type": "code",
      "metadata": {
        "colab": {
          "base_uri": "https://localhost:8080/",
          "height": 419
        },
        "id": "rPl4PWxIROGk",
        "outputId": "4295da6e-6b58-4dfe-e288-b8fd581deb5a"
      },
      "source": [
        "data[data['number'] == 8]"
      ],
      "execution_count": 70,
      "outputs": [
        {
          "output_type": "execute_result",
          "data": {
            "text/html": [
              "<div>\n",
              "<style scoped>\n",
              "    .dataframe tbody tr th:only-of-type {\n",
              "        vertical-align: middle;\n",
              "    }\n",
              "\n",
              "    .dataframe tbody tr th {\n",
              "        vertical-align: top;\n",
              "    }\n",
              "\n",
              "    .dataframe thead th {\n",
              "        text-align: right;\n",
              "    }\n",
              "</style>\n",
              "<table border=\"1\" class=\"dataframe\">\n",
              "  <thead>\n",
              "    <tr style=\"text-align: right;\">\n",
              "      <th></th>\n",
              "      <th>feature_1</th>\n",
              "      <th>feature_2</th>\n",
              "      <th>feature_4</th>\n",
              "      <th>feature_5</th>\n",
              "      <th>feature_8</th>\n",
              "      <th>feature_9</th>\n",
              "      <th>feature_10</th>\n",
              "      <th>feature_12</th>\n",
              "      <th>number</th>\n",
              "    </tr>\n",
              "  </thead>\n",
              "  <tbody>\n",
              "    <tr>\n",
              "      <th>17</th>\n",
              "      <td>0.0</td>\n",
              "      <td>156.906403</td>\n",
              "      <td>0.0</td>\n",
              "      <td>126.522758</td>\n",
              "      <td>0.0</td>\n",
              "      <td>0.000000</td>\n",
              "      <td>0.0</td>\n",
              "      <td>0.0</td>\n",
              "      <td>8</td>\n",
              "    </tr>\n",
              "    <tr>\n",
              "      <th>31</th>\n",
              "      <td>0.0</td>\n",
              "      <td>163.611649</td>\n",
              "      <td>0.0</td>\n",
              "      <td>80.158943</td>\n",
              "      <td>0.0</td>\n",
              "      <td>0.000000</td>\n",
              "      <td>0.0</td>\n",
              "      <td>0.0</td>\n",
              "      <td>8</td>\n",
              "    </tr>\n",
              "    <tr>\n",
              "      <th>41</th>\n",
              "      <td>0.0</td>\n",
              "      <td>139.440506</td>\n",
              "      <td>0.0</td>\n",
              "      <td>135.131653</td>\n",
              "      <td>0.0</td>\n",
              "      <td>0.000000</td>\n",
              "      <td>0.0</td>\n",
              "      <td>0.0</td>\n",
              "      <td>8</td>\n",
              "    </tr>\n",
              "    <tr>\n",
              "      <th>46</th>\n",
              "      <td>0.0</td>\n",
              "      <td>95.864059</td>\n",
              "      <td>0.0</td>\n",
              "      <td>89.915115</td>\n",
              "      <td>0.0</td>\n",
              "      <td>0.000000</td>\n",
              "      <td>0.0</td>\n",
              "      <td>0.0</td>\n",
              "      <td>8</td>\n",
              "    </tr>\n",
              "    <tr>\n",
              "      <th>55</th>\n",
              "      <td>0.0</td>\n",
              "      <td>135.604919</td>\n",
              "      <td>0.0</td>\n",
              "      <td>107.174278</td>\n",
              "      <td>0.0</td>\n",
              "      <td>0.000000</td>\n",
              "      <td>0.0</td>\n",
              "      <td>0.0</td>\n",
              "      <td>8</td>\n",
              "    </tr>\n",
              "    <tr>\n",
              "      <th>...</th>\n",
              "      <td>...</td>\n",
              "      <td>...</td>\n",
              "      <td>...</td>\n",
              "      <td>...</td>\n",
              "      <td>...</td>\n",
              "      <td>...</td>\n",
              "      <td>...</td>\n",
              "      <td>...</td>\n",
              "      <td>...</td>\n",
              "    </tr>\n",
              "    <tr>\n",
              "      <th>925</th>\n",
              "      <td>0.0</td>\n",
              "      <td>176.403656</td>\n",
              "      <td>0.0</td>\n",
              "      <td>171.051041</td>\n",
              "      <td>0.0</td>\n",
              "      <td>0.000000</td>\n",
              "      <td>0.0</td>\n",
              "      <td>0.0</td>\n",
              "      <td>8</td>\n",
              "    </tr>\n",
              "    <tr>\n",
              "      <th>935</th>\n",
              "      <td>0.0</td>\n",
              "      <td>57.068905</td>\n",
              "      <td>0.0</td>\n",
              "      <td>70.840439</td>\n",
              "      <td>0.0</td>\n",
              "      <td>0.000000</td>\n",
              "      <td>0.0</td>\n",
              "      <td>0.0</td>\n",
              "      <td>8</td>\n",
              "    </tr>\n",
              "    <tr>\n",
              "      <th>963</th>\n",
              "      <td>0.0</td>\n",
              "      <td>145.680359</td>\n",
              "      <td>0.0</td>\n",
              "      <td>105.239120</td>\n",
              "      <td>0.0</td>\n",
              "      <td>0.000000</td>\n",
              "      <td>0.0</td>\n",
              "      <td>0.0</td>\n",
              "      <td>8</td>\n",
              "    </tr>\n",
              "    <tr>\n",
              "      <th>972</th>\n",
              "      <td>0.0</td>\n",
              "      <td>144.355179</td>\n",
              "      <td>0.0</td>\n",
              "      <td>125.436966</td>\n",
              "      <td>0.0</td>\n",
              "      <td>0.000000</td>\n",
              "      <td>0.0</td>\n",
              "      <td>0.0</td>\n",
              "      <td>8</td>\n",
              "    </tr>\n",
              "    <tr>\n",
              "      <th>976</th>\n",
              "      <td>0.0</td>\n",
              "      <td>154.817642</td>\n",
              "      <td>0.0</td>\n",
              "      <td>138.830719</td>\n",
              "      <td>0.0</td>\n",
              "      <td>11.918097</td>\n",
              "      <td>0.0</td>\n",
              "      <td>0.0</td>\n",
              "      <td>8</td>\n",
              "    </tr>\n",
              "  </tbody>\n",
              "</table>\n",
              "<p>87 rows × 9 columns</p>\n",
              "</div>"
            ],
            "text/plain": [
              "     feature_1   feature_2  feature_4  ...  feature_10  feature_12  number\n",
              "17         0.0  156.906403        0.0  ...         0.0         0.0       8\n",
              "31         0.0  163.611649        0.0  ...         0.0         0.0       8\n",
              "41         0.0  139.440506        0.0  ...         0.0         0.0       8\n",
              "46         0.0   95.864059        0.0  ...         0.0         0.0       8\n",
              "55         0.0  135.604919        0.0  ...         0.0         0.0       8\n",
              "..         ...         ...        ...  ...         ...         ...     ...\n",
              "925        0.0  176.403656        0.0  ...         0.0         0.0       8\n",
              "935        0.0   57.068905        0.0  ...         0.0         0.0       8\n",
              "963        0.0  145.680359        0.0  ...         0.0         0.0       8\n",
              "972        0.0  144.355179        0.0  ...         0.0         0.0       8\n",
              "976        0.0  154.817642        0.0  ...         0.0         0.0       8\n",
              "\n",
              "[87 rows x 9 columns]"
            ]
          },
          "metadata": {
            "tags": []
          },
          "execution_count": 70
        }
      ]
    },
    {
      "cell_type": "markdown",
      "metadata": {
        "id": "tq3rT6Edr3t0"
      },
      "source": [
        "Use Fisher's Linear Discriminant Ration for ranking."
      ]
    },
    {
      "cell_type": "code",
      "metadata": {
        "id": "LaNqDIAKSGyf"
      },
      "source": [
        "def calculate_fdr(data, classes):\n",
        "  fdr = 0\n",
        "  for i in classes:\n",
        "    for j in classes:\n",
        "      if(j == i):\n",
        "        continue\n",
        "      mu_i = data[data['number'] == i].drop(columns = ['number']).values.mean()\n",
        "      mu_j = data[data['number'] == j].drop(columns = ['number']).values.mean()\n",
        "      sigma_i = data[data['number'] == i].drop(columns = ['number']).values.std()\n",
        "      sigma_j = data[data['number'] == j].drop(columns = ['number']).values.std()\n",
        "      denominator = (sigma_i**2 + sigma_j**2)\n",
        "      if denominator == 0:\n",
        "        denominator = 1\n",
        "      fdr = fdr + (((mu_i - mu_j)**2)/denominator)\n",
        "    \n",
        "  return fdr\n",
        "\n",
        "classes = [0, 1, 2, 3, 4, 5, 6, 7, 8, 9]\n",
        "ranked_feature = {}\n",
        "\n",
        "for feature in data.columns:\n",
        "  if feature == 'number':\n",
        "    continue\n",
        "  ranked_feature[feature] = calculate_fdr(data.loc[:,[feature, 'number']], classes)\n",
        "ranked_feature = sorted(ranked_feature.items(), key=lambda item: item[1], reverse=True)"
      ],
      "execution_count": 71,
      "outputs": []
    },
    {
      "cell_type": "code",
      "metadata": {
        "colab": {
          "base_uri": "https://localhost:8080/"
        },
        "id": "lL6Op8DLT2tb",
        "outputId": "7679538f-a616-4c6b-9008-748fa7db2a57"
      },
      "source": [
        "ranked_feature"
      ],
      "execution_count": 72,
      "outputs": [
        {
          "output_type": "execute_result",
          "data": {
            "text/plain": [
              "[('feature_9', 354.8190598462668),\n",
              " ('feature_2', 352.96694017989694),\n",
              " ('feature_10', 300.4590316798174),\n",
              " ('feature_5', 285.1322828808898),\n",
              " ('feature_4', 154.8031056767572),\n",
              " ('feature_8', 3.6728318145420507),\n",
              " ('feature_1', 1.9141151264031915),\n",
              " ('feature_12', 1.4349559893632577)]"
            ]
          },
          "metadata": {
            "tags": []
          },
          "execution_count": 72
        }
      ]
    },
    {
      "cell_type": "markdown",
      "metadata": {
        "id": "xjqhHphZr9ki"
      },
      "source": [
        "After ranking the top two features are feature_9 and feature_2.\n",
        "Next we will plot these two features to see how they classify the data."
      ]
    },
    {
      "cell_type": "code",
      "metadata": {
        "colab": {
          "base_uri": "https://localhost:8080/",
          "height": 455
        },
        "id": "VA4SyvenUF6P",
        "outputId": "f5afa94a-1f75-4b9d-a497-6d3a2b466f66"
      },
      "source": [
        "sns.relplot('feature_9', 'feature_2', data = data, hue='number', palette='colorblind')"
      ],
      "execution_count": 49,
      "outputs": [
        {
          "output_type": "stream",
          "text": [
            "/usr/local/lib/python3.6/dist-packages/seaborn/_decorators.py:43: FutureWarning: Pass the following variables as keyword args: x, y. From version 0.12, the only valid positional argument will be `data`, and passing other arguments without an explicit keyword will result in an error or misinterpretation.\n",
            "  FutureWarning\n"
          ],
          "name": "stderr"
        },
        {
          "output_type": "execute_result",
          "data": {
            "text/plain": [
              "<seaborn.axisgrid.FacetGrid at 0x7f3406c7e208>"
            ]
          },
          "metadata": {
            "tags": []
          },
          "execution_count": 49
        },
        {
          "output_type": "display_data",
          "data": {
            "image/png": "[encoded data removed]",
            "text/plain": [
              "<Figure size 406.875x360 with 1 Axes>"
            ]
          },
          "metadata": {
            "tags": [],
            "needs_background": "light"
          }
        }
      ]
    },
    {
      "cell_type": "markdown",
      "metadata": {
        "id": "VyMko7UMqBJa"
      },
      "source": [
        "We can see that feature_9 and feature_2 do a good job in separating the data."
      ]
    }
  ]
}